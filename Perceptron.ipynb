{
 "cells": [
  {
   "cell_type": "code",
   "execution_count": 1,
   "metadata": {},
   "outputs": [],
   "source": [
    "import json\n",
    "import re\n",
    "import nltk\n",
    "import emoji\n",
    "import numpy as np\n",
    "import pandas as pd\n",
    "import matplotlib.pyplot as plt\n",
    "\n",
    "from wordcloud import WordCloud\n",
    "from pysentimiento.preprocessing import preprocess_tweet"
   ]
  },
  {
   "cell_type": "markdown",
   "metadata": {},
   "source": [
    "## Corpus SENT-COVID"
   ]
  },
  {
   "cell_type": "code",
   "execution_count": 2,
   "metadata": {},
   "outputs": [
    {
     "name": "stdout",
     "output_type": "stream",
     "text": [
      "Numero de tweets: 4594\n"
     ]
    },
    {
     "data": {
      "text/html": [
       "<div>\n",
       "<style scoped>\n",
       "    .dataframe tbody tr th:only-of-type {\n",
       "        vertical-align: middle;\n",
       "    }\n",
       "\n",
       "    .dataframe tbody tr th {\n",
       "        vertical-align: top;\n",
       "    }\n",
       "\n",
       "    .dataframe thead th {\n",
       "        text-align: right;\n",
       "    }\n",
       "</style>\n",
       "<table border=\"1\" class=\"dataframe\">\n",
       "  <thead>\n",
       "    <tr style=\"text-align: right;\">\n",
       "      <th></th>\n",
       "      <th>Label</th>\n",
       "      <th>Tweet</th>\n",
       "      <th>id</th>\n",
       "    </tr>\n",
       "  </thead>\n",
       "  <tbody>\n",
       "    <tr>\n",
       "      <th>0</th>\n",
       "      <td>NEUTRO</td>\n",
       "      <td>-@dulcema201 @BronstonRaqsa02 Protocolo de COVID !!!!</td>\n",
       "      <td>1401047081121353728</td>\n",
       "    </tr>\n",
       "    <tr>\n",
       "      <th>1</th>\n",
       "      <td>NEUTRO</td>\n",
       "      <td>-#COVID19 #QuedateEnCasa en Morelia Centro</td>\n",
       "      <td>1258159310162595843</td>\n",
       "    </tr>\n",
       "    <tr>\n",
       "      <th>2</th>\n",
       "      <td>POSITIVO</td>\n",
       "      <td>-México va en en aumento con el #Covid_19. Tal vez no tengamos la estabilidad de Europa o estados unidos. Para mantener 120 días en paro total. Pero podemos ser precavidos al usar la #SanaDistancia</td>\n",
       "      <td>1272748988626862082</td>\n",
       "    </tr>\n",
       "    <tr>\n",
       "      <th>3</th>\n",
       "      <td>NEUTRO</td>\n",
       "      <td>-@sororavirus Creo en todo y nada. 💜</td>\n",
       "      <td>1349385638722883585</td>\n",
       "    </tr>\n",
       "    <tr>\n",
       "      <th>4</th>\n",
       "      <td>NEGATIVO</td>\n",
       "      <td>-@GobiernoMX había prometido 389</td>\n",
       "      <td>1360615587114844161</td>\n",
       "    </tr>\n",
       "  </tbody>\n",
       "</table>\n",
       "</div>"
      ],
      "text/plain": [
       "      Label  \\\n",
       "0    NEUTRO   \n",
       "1    NEUTRO   \n",
       "2  POSITIVO   \n",
       "3    NEUTRO   \n",
       "4  NEGATIVO   \n",
       "\n",
       "                                                                                                                                                                                                   Tweet  \\\n",
       "0                                                                                                                                                  -@dulcema201 @BronstonRaqsa02 Protocolo de COVID !!!!   \n",
       "1                                                                                                                                                             -#COVID19 #QuedateEnCasa en Morelia Centro   \n",
       "2  -México va en en aumento con el #Covid_19. Tal vez no tengamos la estabilidad de Europa o estados unidos. Para mantener 120 días en paro total. Pero podemos ser precavidos al usar la #SanaDistancia   \n",
       "3                                                                                                                                                                   -@sororavirus Creo en todo y nada. 💜   \n",
       "4                                                                                                                                                                       -@GobiernoMX había prometido 389   \n",
       "\n",
       "                    id  \n",
       "0  1401047081121353728  \n",
       "1  1258159310162595843  \n",
       "2  1272748988626862082  \n",
       "3  1349385638722883585  \n",
       "4  1360615587114844161  "
      ]
     },
     "execution_count": 2,
     "metadata": {},
     "output_type": "execute_result"
    }
   ],
   "source": [
    "with open('data/SENT-COVID.json') as file:\n",
    "    data = json.load(file)\n",
    "    \n",
    "pd.options.mode.chained_assignment = None                                         \n",
    "pd.set_option('display.max_colwidth',None)   \n",
    "\n",
    "\n",
    "df = pd.DataFrame(data)\n",
    "print('Numero de tweets: ' + str(len(df)))\n",
    "df.head()"
   ]
  },
  {
   "cell_type": "markdown",
   "metadata": {},
   "source": [
    "## Preprocesamiento"
   ]
  },
  {
   "cell_type": "code",
   "execution_count": 3,
   "metadata": {},
   "outputs": [],
   "source": [
    "def clean_tweet(text):\n",
    "  text = re.sub(r'[~^0-9]', '', text) #numeros\n",
    "  text = re.sub(\"\\\\s+\", ' ', text) ##Espacios blancos dobles\n",
    "  text = re.sub('\\n', ' ', text) ##Saltos de linea\n",
    "\n",
    "  pattern = r'([.])([A-Z#@¿])'\n",
    "  pattern2 = r'([-?])([a-zA-Z#@¿])'\n",
    "  pattern3 = r'([a-zA-Z])([#@¿(])'\n",
    "  pattern4 = r'([:!])([a-zA-Z#@¿])'\n",
    "  text = re.sub(pattern, r'\\1 \\2', text) # Separacion de punto seguido por una mayuscula\n",
    "  text = re.sub(pattern2, r'\\1 \\2', text)\n",
    "  text = re.sub(pattern3, r'\\1 \\2', text)\n",
    "  text = re.sub(pattern4, r'\\1 \\2', text)\n",
    "  return text \n",
    "\n",
    "\n",
    "def preprocess(text):  # Preprocesamiento de pysentimiento   \n",
    "  return preprocess_tweet(text, char_replace=True, normalize_laughter=True, shorten=2, \n",
    "                          emoji_wrapper='', user_token='', url_token='')  \n",
    "\n",
    "\n",
    "def normalize(text):\n",
    " pattern2 = r'([a-zA-Z])([.])'\n",
    " pattern3 = r'([.])([a-zA-Z])'\n",
    " text = re.sub(pattern2, r'\\1 \\2', text)\n",
    " text = re.sub(pattern3, r'\\1 \\2', text)\n",
    " \n",
    " text = \"\".join(u for u in text if u not in (\"?\",\"¿\", \".\", \";\", \":\", \"!\",\"¡\",'\"',\"%\",\"“\",\"”\",\"$\",\"&\",\"'\",\"\\\\\", \"(\",\")\",\n",
    "                                             \"*\",\"+\",\",\",\"/\",\"<\",\">\",\"=\",\"^\",\"•\",\"...\", \"ç\",\"π\",\"ⓘ\", \"-\", \"_\",\"#\",\"|\"))\n",
    " a,b = 'áéíóúÁÉÍÓÚ','aeiouAEIOU'\n",
    " trans = str.maketrans(a,b)     \n",
    " text = text.translate(trans) # Reemplazo de palabras acentuadas       \n",
    "\n",
    " pattern  = r'([a-z])([A-Z-])'\n",
    " text = re.sub(pattern, r'\\1 \\2', text)\n",
    "\n",
    " #text = re.sub(r'@[A-Za-z0-9_]+', '', text)\n",
    " text = text.lower()\n",
    " return text  \n",
    "\n",
    "\n",
    "def tokenize(text):    \n",
    "  text= text.split(sep = ' ')  # Tokenización por palabras individuales\n",
    "  text= [token for token in text if len(token) > 1]  # Eliminación de tokens con una longitud < 2\n",
    "  return(text) \n",
    "\n",
    "def labels(label):\n",
    "  if label == 'POSITIVO':\n",
    "    label=1\n",
    "  elif label == 'NEUTRO':\n",
    "     label=0\n",
    "  else:\n",
    "     label=-1\n",
    "  return(label) "
   ]
  },
  {
   "cell_type": "code",
   "execution_count": 4,
   "metadata": {},
   "outputs": [
    {
     "data": {
      "text/html": [
       "<div>\n",
       "<style scoped>\n",
       "    .dataframe tbody tr th:only-of-type {\n",
       "        vertical-align: middle;\n",
       "    }\n",
       "\n",
       "    .dataframe tbody tr th {\n",
       "        vertical-align: top;\n",
       "    }\n",
       "\n",
       "    .dataframe thead th {\n",
       "        text-align: right;\n",
       "    }\n",
       "</style>\n",
       "<table border=\"1\" class=\"dataframe\">\n",
       "  <thead>\n",
       "    <tr style=\"text-align: right;\">\n",
       "      <th></th>\n",
       "      <th>Tweet</th>\n",
       "      <th>norm_tweet</th>\n",
       "      <th>Label</th>\n",
       "    </tr>\n",
       "  </thead>\n",
       "  <tbody>\n",
       "    <tr>\n",
       "      <th>195</th>\n",
       "      <td>-\"Se 'olvidan' del COVID-19 y realizan fiestas patronales en el ejido La Paz de Torreón https://t.co/Yu6zNCfwnz\"</td>\n",
       "      <td>se olvidan del covid y realizan fiestas patronales en el ejido la paz de torreon</td>\n",
       "      <td>NEGATIVO</td>\n",
       "    </tr>\n",
       "    <tr>\n",
       "      <th>196</th>\n",
       "      <td>-@papaesceptico El Pfizer de Bill Gates. https://t.co/rW46FFtUfO</td>\n",
       "      <td>el pfizer de bill gates</td>\n",
       "      <td>NEUTRO</td>\n",
       "    </tr>\n",
       "    <tr>\n",
       "      <th>197</th>\n",
       "      <td>-#frases #humor #frasesdealegria #Meme #Mujeres #parejas #hombres #atraccion #pervertidos #relaciones #Sexo #orgasmos #inteligente #cuarentena #ligar #tinder en Guadalajara</td>\n",
       "      <td>frases humor frasesdealegria meme mujeres parejas hombres atraccion pervertidos relaciones sexo orgasmos inteligente cuarentena ligar tinder en guadalajara</td>\n",
       "      <td>NEUTRO</td>\n",
       "    </tr>\n",
       "    <tr>\n",
       "      <th>198</th>\n",
       "      <td>-\"@Xuanto @AbbyChavez79 @almaldo2 @hdemauleon Más vale acostumbrarnos a la nueva realidad. En México y en el mundo este canijo virus seguirá cobrando vidas humanas por buen rato; afortunadamente cada día se sabe más sobre el Covid-19. Algún día habrá vacuna. #QuedateEnCasa#SusanaDistancia#YolecreoaGatell\"</td>\n",
       "      <td>mas vale acostumbrarnos a la nueva realidad  en mexico y en el mundo este canijo virus seguira cobrando vidas humanas por buen rato afortunadamente cada dia se sabe mas sobre el covid algun dia habra vacuna  quedate en casa susana distancia yolecreoa gatell</td>\n",
       "      <td>POSITIVO</td>\n",
       "    </tr>\n",
       "    <tr>\n",
       "      <th>199</th>\n",
       "      <td>-@MollinedOficial Muy bien hermosa pero y en México cuando acabarán con la famosa vacuna https://t.co/gup4NDoLGi</td>\n",
       "      <td>muy bien hermosa pero y en mexico cuando acabaran con la famosa vacuna</td>\n",
       "      <td>NEUTRO</td>\n",
       "    </tr>\n",
       "    <tr>\n",
       "      <th>200</th>\n",
       "      <td>-12:04 Policías de la Secretaría de Seguridad Ciudadana realizan recorridos con Perifoneo en Av. Miguel Ángel de Quevedo y Melchor Ocampo</td>\n",
       "      <td>policias de la secretaria de seguridad ciudadana realizan recorridos con perifoneo en av  miguel angel de quevedo y melchor ocampo</td>\n",
       "      <td>POSITIVO</td>\n",
       "    </tr>\n",
       "    <tr>\n",
       "      <th>201</th>\n",
       "      <td>-Coma post empanada</td>\n",
       "      <td>coma post empanada</td>\n",
       "      <td>NEUTRO</td>\n",
       "    </tr>\n",
       "    <tr>\n",
       "      <th>202</th>\n",
       "      <td>-#DosAñosConRumbo ✌️🟠 #SNTEsalud ⚕️ y #CoronaTips 💡 se han convertido en referente y aporte #SNTE en la lucha ante la #COVID19 🦠 en una acción de corresponsabilidad socialCon el #SNTE al 💯👉#UnoSomosTodos #TodosSomosUno ✔️Ver documento 👉 https://t.co/H83riKLNLu https://t.co/FBYx4b1Eit</td>\n",
       "      <td>dos años con rumbo   mano con señal de victoria    circulo naranja   sntesalud   simbolo de medicina   y corona tips   bombilla   se han convertido en referente y aporte snte en la lucha ante la covid   microbio   en una accion de corresponsabilidad social con el snte al   cien puntos    dorso de mano con indice a la derecha  uno somos todos todos somos uno   marca de verificacion  ver documento   dorso de mano con indice a la derecha</td>\n",
       "      <td>POSITIVO</td>\n",
       "    </tr>\n",
       "    <tr>\n",
       "      <th>203</th>\n",
       "      <td>-#50reglasdeoro #Número35 #CuidaTuSalud #FelizDimingo #QuedateenCasa  #BuenDomingo #SanaDistancia #JuntosporlaSalud #Xalapa #devozenvozmx #FelizDíaDelPadre https://t.co/xAsVf3IOtn</td>\n",
       "      <td>reglasdeoro numero cuida tu salud feliz dimingo quedateen casa buen domingo sana distancia juntosporla salud xalapa devozenvozmx feliz dia del padre</td>\n",
       "      <td>POSITIVO</td>\n",
       "    </tr>\n",
       "    <tr>\n",
       "      <th>204</th>\n",
       "      <td>-En Coahuila se reforzarán las medidas para que se respeten los protocolos sanitarios y prevenir un posible incremento en los contagios por Covid19 por la temporada  vacacional y ante el repunte de la pandemia que se registra en el País</td>\n",
       "      <td>en coahuila se reforzaran las medidas para que se respeten los protocolos sanitarios y prevenir un posible incremento en los contagios por covid por la temporada vacacional y ante el repunte de la pandemia que se registra en el pais</td>\n",
       "      <td>POSITIVO</td>\n",
       "    </tr>\n",
       "  </tbody>\n",
       "</table>\n",
       "</div>"
      ],
      "text/plain": [
       "                                                                                                                                                                                                                                                                                                                  Tweet  \\\n",
       "195                                                                                                                                                                                                    -\"Se 'olvidan' del COVID-19 y realizan fiestas patronales en el ejido La Paz de Torreón https://t.co/Yu6zNCfwnz\"   \n",
       "196                                                                                                                                                                                                                                                    -@papaesceptico El Pfizer de Bill Gates. https://t.co/rW46FFtUfO   \n",
       "197                                                                                                                                        -#frases #humor #frasesdealegria #Meme #Mujeres #parejas #hombres #atraccion #pervertidos #relaciones #Sexo #orgasmos #inteligente #cuarentena #ligar #tinder en Guadalajara   \n",
       "198  -\"@Xuanto @AbbyChavez79 @almaldo2 @hdemauleon Más vale acostumbrarnos a la nueva realidad. En México y en el mundo este canijo virus seguirá cobrando vidas humanas por buen rato; afortunadamente cada día se sabe más sobre el Covid-19. Algún día habrá vacuna. #QuedateEnCasa#SusanaDistancia#YolecreoaGatell\"   \n",
       "199                                                                                                                                                                                                    -@MollinedOficial Muy bien hermosa pero y en México cuando acabarán con la famosa vacuna https://t.co/gup4NDoLGi   \n",
       "200                                                                                                                                                                           -12:04 Policías de la Secretaría de Seguridad Ciudadana realizan recorridos con Perifoneo en Av. Miguel Ángel de Quevedo y Melchor Ocampo   \n",
       "201                                                                                                                                                                                                                                                                                                 -Coma post empanada   \n",
       "202                        -#DosAñosConRumbo ✌️🟠 #SNTEsalud ⚕️ y #CoronaTips 💡 se han convertido en referente y aporte #SNTE en la lucha ante la #COVID19 🦠 en una acción de corresponsabilidad socialCon el #SNTE al 💯👉#UnoSomosTodos #TodosSomosUno ✔️Ver documento 👉 https://t.co/H83riKLNLu https://t.co/FBYx4b1Eit   \n",
       "203                                                                                                                                 -#50reglasdeoro #Número35 #CuidaTuSalud #FelizDimingo #QuedateenCasa  #BuenDomingo #SanaDistancia #JuntosporlaSalud #Xalapa #devozenvozmx #FelizDíaDelPadre https://t.co/xAsVf3IOtn   \n",
       "204                                                                        -En Coahuila se reforzarán las medidas para que se respeten los protocolos sanitarios y prevenir un posible incremento en los contagios por Covid19 por la temporada  vacacional y ante el repunte de la pandemia que se registra en el País   \n",
       "\n",
       "                                                                                                                                                                                                                                                                                                                                                                                                                                                  norm_tweet  \\\n",
       "195                                                                                                                                                                                                                                                                                                                                                                        se olvidan del covid y realizan fiestas patronales en el ejido la paz de torreon    \n",
       "196                                                                                                                                                                                                                                                                                                                                                                                                                                 el pfizer de bill gates    \n",
       "197                                                                                                                                                                                                                                                                                              frases humor frasesdealegria meme mujeres parejas hombres atraccion pervertidos relaciones sexo orgasmos inteligente cuarentena ligar tinder en guadalajara   \n",
       "198                                                                                                                                                                                        mas vale acostumbrarnos a la nueva realidad  en mexico y en el mundo este canijo virus seguira cobrando vidas humanas por buen rato afortunadamente cada dia se sabe mas sobre el covid algun dia habra vacuna  quedate en casa susana distancia yolecreoa gatell   \n",
       "199                                                                                                                                                                                                                                                                                                                                                                                   muy bien hermosa pero y en mexico cuando acabaran con la famosa vacuna   \n",
       "200                                                                                                                                                                                                                                                                                                                       policias de la secretaria de seguridad ciudadana realizan recorridos con perifoneo en av  miguel angel de quevedo y melchor ocampo   \n",
       "201                                                                                                                                                                                                                                                                                                                                                                                                                                       coma post empanada   \n",
       "202   dos años con rumbo   mano con señal de victoria    circulo naranja   sntesalud   simbolo de medicina   y corona tips   bombilla   se han convertido en referente y aporte snte en la lucha ante la covid   microbio   en una accion de corresponsabilidad social con el snte al   cien puntos    dorso de mano con indice a la derecha  uno somos todos todos somos uno   marca de verificacion  ver documento   dorso de mano con indice a la derecha   \n",
       "203                                                                                                                                                                                                                                                                                                     reglasdeoro numero cuida tu salud feliz dimingo quedateen casa buen domingo sana distancia juntosporla salud xalapa devozenvozmx feliz dia del padre   \n",
       "204                                                                                                                                                                                                                 en coahuila se reforzaran las medidas para que se respeten los protocolos sanitarios y prevenir un posible incremento en los contagios por covid por la temporada vacacional y ante el repunte de la pandemia que se registra en el pais   \n",
       "\n",
       "        Label  \n",
       "195  NEGATIVO  \n",
       "196    NEUTRO  \n",
       "197    NEUTRO  \n",
       "198  POSITIVO  \n",
       "199    NEUTRO  \n",
       "200  POSITIVO  \n",
       "201    NEUTRO  \n",
       "202  POSITIVO  \n",
       "203  POSITIVO  \n",
       "204  POSITIVO  "
      ]
     },
     "execution_count": 4,
     "metadata": {},
     "output_type": "execute_result"
    }
   ],
   "source": [
    "df['clean_tweet'] = df['Tweet'].apply(clean_tweet) \n",
    "df['preprocess_tweet'] = df['clean_tweet'].apply(preprocess)\n",
    "df['norm_tweet'] = df['preprocess_tweet'].apply(normalize)\n",
    "df['tokenized_tweet'] = df['norm_tweet'].apply(tokenize)\n",
    "df['class'] = df['Label'].apply(labels)\n",
    "\n",
    "df[['Tweet','norm_tweet','Label']][195:205]"
   ]
  },
  {
   "cell_type": "markdown",
   "metadata": {},
   "source": [
    "## Lemmatizacion"
   ]
  },
  {
   "cell_type": "code",
   "execution_count": 5,
   "metadata": {},
   "outputs": [],
   "source": [
    "import spacy\n",
    "from nltk.stem.snowball import SnowballStemmer\n",
    "\n",
    "sp = spacy.load('es_core_news_sm')\n",
    "\n",
    "def lemmatization(text):\n",
    "    doc = sp(text)\n",
    "    return ' '.join([word.lemma_ for word in doc]) \n",
    "\n",
    "#stemmer = SnowballStemmer('spanish')\n",
    "#stemmed_spanish = [stemmer.stem(item) for item in spanish_words]"
   ]
  },
  {
   "cell_type": "code",
   "execution_count": 6,
   "metadata": {},
   "outputs": [
    {
     "data": {
      "text/html": [
       "<div>\n",
       "<style scoped>\n",
       "    .dataframe tbody tr th:only-of-type {\n",
       "        vertical-align: middle;\n",
       "    }\n",
       "\n",
       "    .dataframe tbody tr th {\n",
       "        vertical-align: top;\n",
       "    }\n",
       "\n",
       "    .dataframe thead th {\n",
       "        text-align: right;\n",
       "    }\n",
       "</style>\n",
       "<table border=\"1\" class=\"dataframe\">\n",
       "  <thead>\n",
       "    <tr style=\"text-align: right;\">\n",
       "      <th></th>\n",
       "      <th>Label</th>\n",
       "      <th>norm_tweet</th>\n",
       "      <th>lem_tweet</th>\n",
       "      <th>tokenized_tweet</th>\n",
       "      <th>lemtokenized_tweet</th>\n",
       "    </tr>\n",
       "  </thead>\n",
       "  <tbody>\n",
       "    <tr>\n",
       "      <th>100</th>\n",
       "      <td>NEGATIVO</td>\n",
       "      <td>esos hermanos negrete una bola de vividores</td>\n",
       "      <td>ese hermano negretir uno bola de vividor</td>\n",
       "      <td>[esos, hermanos, negrete, una, bola, de, vividores]</td>\n",
       "      <td>[ese, hermano, negretir, uno, bola, de, vividor]</td>\n",
       "    </tr>\n",
       "    <tr>\n",
       "      <th>101</th>\n",
       "      <td>NEUTRO</td>\n",
       "      <td>esta en crisis la crisis</td>\n",
       "      <td>este en crisis el crisis</td>\n",
       "      <td>[esta, en, crisis, la, crisis]</td>\n",
       "      <td>[este, en, crisis, el, crisis]</td>\n",
       "    </tr>\n",
       "    <tr>\n",
       "      <th>102</th>\n",
       "      <td>NEGATIVO</td>\n",
       "      <td>uff   cara triste pero aliviada     microbio    microbio  quedate en casa  casa con jardin   coahuila mexico   cara llorando</td>\n",
       "      <td>uff    cara triste pero aliviado      microbio     microbio   quedate en casa   casa con jardin    coahuila mexico    caro llorar</td>\n",
       "      <td>[uff, cara, triste, pero, aliviada, microbio, microbio, quedate, en, casa, casa, con, jardin, coahuila, mexico, cara, llorando]</td>\n",
       "      <td>[uff, cara, triste, pero, aliviado, microbio, microbio, quedate, en, casa, casa, con, jardin, coahuila, mexico, caro, llorar]</td>\n",
       "    </tr>\n",
       "    <tr>\n",
       "      <th>103</th>\n",
       "      <td>NEUTRO</td>\n",
       "      <td>no se que tanto maman con lady vacuna</td>\n",
       "      <td>no él que tanto mamar con lady vacuna</td>\n",
       "      <td>[no, se, que, tanto, maman, con, lady, vacuna]</td>\n",
       "      <td>[no, él, que, tanto, mamar, con, lady, vacuna]</td>\n",
       "    </tr>\n",
       "    <tr>\n",
       "      <th>104</th>\n",
       "      <td>NEUTRO</td>\n",
       "      <td>ojo</td>\n",
       "      <td>ojo</td>\n",
       "      <td>[ojo]</td>\n",
       "      <td>[ojo]</td>\n",
       "    </tr>\n",
       "    <tr>\n",
       "      <th>105</th>\n",
       "      <td>NEUTRO</td>\n",
       "      <td>hoy en el programa  versiones raras</td>\n",
       "      <td>hoy en el programa   versión rara</td>\n",
       "      <td>[hoy, en, el, programa, versiones, raras]</td>\n",
       "      <td>[hoy, en, el, programa, versión, rara]</td>\n",
       "    </tr>\n",
       "    <tr>\n",
       "      <th>106</th>\n",
       "      <td>NEUTRO</td>\n",
       "      <td>hoy participamos nuevamente para el programa de opinion yo creo</td>\n",
       "      <td>hoy participamos nuevamente para el programa de opinion yo creer</td>\n",
       "      <td>[hoy, participamos, nuevamente, para, el, programa, de, opinion, yo, creo]</td>\n",
       "      <td>[hoy, participamos, nuevamente, para, el, programa, de, opinion, yo, creer]</td>\n",
       "    </tr>\n",
       "    <tr>\n",
       "      <th>107</th>\n",
       "      <td>NEUTRO</td>\n",
       "      <td>flexibilidad</td>\n",
       "      <td>flexibilidad</td>\n",
       "      <td>[flexibilidad]</td>\n",
       "      <td>[flexibilidad]</td>\n",
       "    </tr>\n",
       "    <tr>\n",
       "      <th>108</th>\n",
       "      <td>POSITIVO</td>\n",
       "      <td>dios los cuide y les conceda una pronta recuperacion  y que cuide y bendiga a aquellos que aun no han presentado sintomas de contagio</td>\n",
       "      <td>dio él cuide y él concedar uno pronto recuperacion   y que cuidir y bendiga a aquel que aun no haber presentar sintoma de contagio</td>\n",
       "      <td>[dios, los, cuide, les, conceda, una, pronta, recuperacion, que, cuide, bendiga, aquellos, que, aun, no, han, presentado, sintomas, de, contagio]</td>\n",
       "      <td>[dio, él, cuide, él, concedar, uno, pronto, recuperacion, que, cuidir, bendiga, aquel, que, aun, no, haber, presentar, sintoma, de, contagio]</td>\n",
       "    </tr>\n",
       "    <tr>\n",
       "      <th>109</th>\n",
       "      <td>NEGATIVO</td>\n",
       "      <td>y las sanciones para  y  por el terrible manejo de la crisis que</td>\n",
       "      <td>y el sanción para   y   por el terrible manejo de el crisis que</td>\n",
       "      <td>[las, sanciones, para, por, el, terrible, manejo, de, la, crisis, que]</td>\n",
       "      <td>[el, sanción, para, por, el, terrible, manejo, de, el, crisis, que]</td>\n",
       "    </tr>\n",
       "  </tbody>\n",
       "</table>\n",
       "</div>"
      ],
      "text/plain": [
       "        Label  \\\n",
       "100  NEGATIVO   \n",
       "101    NEUTRO   \n",
       "102  NEGATIVO   \n",
       "103    NEUTRO   \n",
       "104    NEUTRO   \n",
       "105    NEUTRO   \n",
       "106    NEUTRO   \n",
       "107    NEUTRO   \n",
       "108  POSITIVO   \n",
       "109  NEGATIVO   \n",
       "\n",
       "                                                                                                                                   norm_tweet  \\\n",
       "100                                                                                               esos hermanos negrete una bola de vividores   \n",
       "101                                                                                                                 esta en crisis la crisis    \n",
       "102              uff   cara triste pero aliviada     microbio    microbio  quedate en casa  casa con jardin   coahuila mexico   cara llorando   \n",
       "103                                                                                                     no se que tanto maman con lady vacuna   \n",
       "104                                                                                                                                       ojo   \n",
       "105                                                                                                       hoy en el programa  versiones raras   \n",
       "106                                                                           hoy participamos nuevamente para el programa de opinion yo creo   \n",
       "107                                                                                                                              flexibilidad   \n",
       "108    dios los cuide y les conceda una pronta recuperacion  y que cuide y bendiga a aquellos que aun no han presentado sintomas de contagio    \n",
       "109                                                                          y las sanciones para  y  por el terrible manejo de la crisis que   \n",
       "\n",
       "                                                                                                                                 lem_tweet  \\\n",
       "100                                                                                               ese hermano negretir uno bola de vividor   \n",
       "101                                                                                                               este en crisis el crisis   \n",
       "102      uff    cara triste pero aliviado      microbio     microbio   quedate en casa   casa con jardin    coahuila mexico    caro llorar   \n",
       "103                                                                                                  no él que tanto mamar con lady vacuna   \n",
       "104                                                                                                                                    ojo   \n",
       "105                                                                                                      hoy en el programa   versión rara   \n",
       "106                                                                       hoy participamos nuevamente para el programa de opinion yo creer   \n",
       "107                                                                                                                           flexibilidad   \n",
       "108     dio él cuide y él concedar uno pronto recuperacion   y que cuidir y bendiga a aquel que aun no haber presentar sintoma de contagio   \n",
       "109                                                                        y el sanción para   y   por el terrible manejo de el crisis que   \n",
       "\n",
       "                                                                                                                                       tokenized_tweet  \\\n",
       "100                                                                                                [esos, hermanos, negrete, una, bola, de, vividores]   \n",
       "101                                                                                                                     [esta, en, crisis, la, crisis]   \n",
       "102                    [uff, cara, triste, pero, aliviada, microbio, microbio, quedate, en, casa, casa, con, jardin, coahuila, mexico, cara, llorando]   \n",
       "103                                                                                                     [no, se, que, tanto, maman, con, lady, vacuna]   \n",
       "104                                                                                                                                              [ojo]   \n",
       "105                                                                                                          [hoy, en, el, programa, versiones, raras]   \n",
       "106                                                                         [hoy, participamos, nuevamente, para, el, programa, de, opinion, yo, creo]   \n",
       "107                                                                                                                                     [flexibilidad]   \n",
       "108  [dios, los, cuide, les, conceda, una, pronta, recuperacion, que, cuide, bendiga, aquellos, que, aun, no, han, presentado, sintomas, de, contagio]   \n",
       "109                                                                             [las, sanciones, para, por, el, terrible, manejo, de, la, crisis, que]   \n",
       "\n",
       "                                                                                                                                lemtokenized_tweet  \n",
       "100                                                                                               [ese, hermano, negretir, uno, bola, de, vividor]  \n",
       "101                                                                                                                 [este, en, crisis, el, crisis]  \n",
       "102                  [uff, cara, triste, pero, aliviado, microbio, microbio, quedate, en, casa, casa, con, jardin, coahuila, mexico, caro, llorar]  \n",
       "103                                                                                                 [no, él, que, tanto, mamar, con, lady, vacuna]  \n",
       "104                                                                                                                                          [ojo]  \n",
       "105                                                                                                         [hoy, en, el, programa, versión, rara]  \n",
       "106                                                                    [hoy, participamos, nuevamente, para, el, programa, de, opinion, yo, creer]  \n",
       "107                                                                                                                                 [flexibilidad]  \n",
       "108  [dio, él, cuide, él, concedar, uno, pronto, recuperacion, que, cuidir, bendiga, aquel, que, aun, no, haber, presentar, sintoma, de, contagio]  \n",
       "109                                                                            [el, sanción, para, por, el, terrible, manejo, de, el, crisis, que]  "
      ]
     },
     "execution_count": 6,
     "metadata": {},
     "output_type": "execute_result"
    }
   ],
   "source": [
    "df['lem_tweet'] = df['norm_tweet'].apply(lemmatization)\n",
    "df['lemtokenized_tweet'] = df['lem_tweet'].apply(tokenize)\n",
    "df[['Label', 'norm_tweet','lem_tweet','tokenized_tweet','lemtokenized_tweet']][100:110]"
   ]
  },
  {
   "cell_type": "markdown",
   "metadata": {},
   "source": [
    "## Stopwords"
   ]
  },
  {
   "cell_type": "code",
   "execution_count": 7,
   "metadata": {},
   "outputs": [
    {
     "name": "stdout",
     "output_type": "stream",
     "text": [
      "['de', 'la', 'que', 'el', 'en', 'y', 'a', 'los', 'del', 'se', 'las', 'por', 'un', 'para', 'con', 'no', 'una', 'su', 'al', 'lo']\n"
     ]
    },
    {
     "data": {
      "text/plain": [
       "313"
      ]
     },
     "execution_count": 7,
     "metadata": {},
     "output_type": "execute_result"
    }
   ],
   "source": [
    "from nltk.corpus import stopwords\n",
    "\n",
    "# Obtención de listado de stopwords del español\n",
    "stop_words_esp = list(stopwords.words('spanish'))\n",
    "my_stop_words = stop_words_esp[:100]\n",
    "\n",
    "\n",
    "def remove_stopwords(text):\n",
    "    text = [w for w in text if not w in stop_words_esp]\n",
    "    return text\n",
    "\n",
    "df['normsw_tweet'] = df['norm_tweet'].apply(remove_stopwords)\n",
    "df['lemsw_tweet'] = df['lem_tweet'].apply(remove_stopwords)\n",
    "df['normtoksw_tweet'] = df['tokenized_tweet'].apply(remove_stopwords)\n",
    "df['lemtoksw_tweet'] = df['lemtokenized_tweet'].apply(remove_stopwords)\n",
    "\n",
    "print(stop_words_esp[0:20])\n",
    "len(stop_words_esp)\n"
   ]
  },
  {
   "cell_type": "markdown",
   "metadata": {},
   "source": [
    "## Train test "
   ]
  },
  {
   "cell_type": "code",
   "execution_count": 11,
   "metadata": {},
   "outputs": [
    {
     "data": {
      "text/plain": [
       "(3583, 1011)"
      ]
     },
     "execution_count": 11,
     "metadata": {},
     "output_type": "execute_result"
    }
   ],
   "source": [
    "from sklearn.model_selection import train_test_split\n",
    "\n",
    "X1 = df['norm_tweet']          #Tweets normalizados\n",
    "X2 = df['lem_tweet']           #Tweets lemmatizados\n",
    "X3 = df['tokenized_tweet']     #Normalizados y tokenizados\n",
    "X4 = df['lemtokenized_tweet']  #Lemmatizados y tokenizados \n",
    "X5 = df['normtoksw_tweet']     #Normalizados, tokenizados y sin stopwords\n",
    "X6 = df['lemtoksw_tweet']      #Lemmatizados, tokenizados y sin stopwords \n",
    "y = df['Label']                #Etiquetas\n",
    "\n",
    "SEED = 37\n",
    "X_train, X_test, y_train, y_test = train_test_split(X2, y, test_size=0.22 ,random_state=SEED)\n",
    "len(X_train), len(X_test)"
   ]
  },
  {
   "cell_type": "code",
   "execution_count": 9,
   "metadata": {},
   "outputs": [
    {
     "name": "stdout",
     "output_type": "stream",
     "text": [
      "y_train: {'NEGATIVO': 33.910131174993026, 'NEUTRO': 44.90650293050516, 'POSITIVO': 21.183365894501815}\n",
      "y_test: {'NEGATIVO': 34.124629080118694, 'NEUTRO': 44.41147378832839, 'POSITIVO': 21.46389713155292}\n"
     ]
    }
   ],
   "source": [
    "value, counts = np.unique(y_train, return_counts=True)\n",
    "print(f\"y_train: {dict(zip(value, 100 * counts / sum(counts)))}\")\n",
    "value, counts = np.unique(y_test, return_counts=True)\n",
    "print(f\"y_test: {dict(zip(value, 100 * counts / sum(counts)))}\")"
   ]
  },
  {
   "cell_type": "markdown",
   "metadata": {},
   "source": [
    "## Accuracy Chekers"
   ]
  },
  {
   "cell_type": "markdown",
   "metadata": {},
   "source": [
    "### Checker"
   ]
  },
  {
   "cell_type": "code",
   "execution_count": 15,
   "metadata": {},
   "outputs": [],
   "source": [
    "from sklearn.feature_extraction.text import CountVectorizer\n",
    "from sklearn.linear_model import LogisticRegression\n",
    "from sklearn.pipeline import Pipeline\n",
    "from sklearn.metrics import accuracy_score\n",
    "from time import time\n",
    "\n",
    "def accuracy_summary(pipeline, x_train, y_train, x_test, y_test):\n",
    "    if len(X_test[y_test == 0]) / (len(X_test)*1.) > 0.5:\n",
    "        null_accuracy = len(X_test[y_test == 0]) / (len(X_test)*1.)\n",
    "    else:\n",
    "        null_accuracy = 1. - (len(X_test[y_test == 0]) / (len(X_test)*1.))\n",
    "    t0 = time()\n",
    "    sentiment_fit = pipeline.fit(X_train, y_train)\n",
    "    y_pred = sentiment_fit.predict(X_test)\n",
    "    train_test_time = time() - t0\n",
    "    accuracy = accuracy_score(y_test, y_pred)\n",
    "    print(\"null accuracy: {0:.2f}%\".format(null_accuracy*100))\n",
    "    print(\"accuracy score: {0:.2f}%\".format(accuracy*100))\n",
    "    if accuracy > null_accuracy:\n",
    "        print(\"model is {0:.2f}% more accurate than null accuracy\".format((accuracy-null_accuracy)*100))\n",
    "    elif accuracy == null_accuracy:\n",
    "        print(\"model has the same accuracy with the null accuracy\")\n",
    "    else:\n",
    "        print (\"model is {0:.2f}% less accurate than null accuracy\".format((null_accuracy-accuracy)*100))\n",
    "    print(\"train and test time: {0:.2f}s\".format(train_test_time))\n",
    "    print(\"-\"*80)\n",
    "    return accuracy, train_test_time\n",
    "    \n",
    "cvec = CountVectorizer()\n",
    "lr = LogisticRegression()\n",
    "n_features = np.arange(1000,10001,9000)\n",
    "\n",
    "def nfeature_accuracy_checker(vectorizer=cvec, n_features=n_features, stop_words=None, ngram_range=(1, 1), classifier=lr):\n",
    "    result = []\n",
    "    print(classifier)\n",
    "    print(\"\\n\")\n",
    "    for n in n_features:\n",
    "        vectorizer.set_params(stop_words=stop_words, max_features=n, ngram_range=ngram_range)\n",
    "        checker_pipeline = Pipeline([\n",
    "            ('vectorizer', vectorizer),\n",
    "            ('classifier', classifier)\n",
    "        ])\n",
    "        print(\"Validation result for {} features\".format(n))\n",
    "        nfeature_accuracy,tt_time = accuracy_summary(checker_pipeline, X_train, y_train, X_test, y_test)\n",
    "        result.append((n,nfeature_accuracy,tt_time))\n",
    "    return result"
   ]
  },
  {
   "cell_type": "markdown",
   "metadata": {},
   "source": [
    "### Stopwords"
   ]
  },
  {
   "cell_type": "code",
   "execution_count": null,
   "metadata": {},
   "outputs": [],
   "source": [
    "print(\"RESULT FOR UNIGRAM WITHOUT STOP WORDS\\n\")\n",
    "feature_result_wosw = nfeature_accuracy_checker(stop_words=stop_words_esp)\n",
    "print(\"RESULT FOR UNIGRAM WITH STOP WORDS\\n\")\n",
    "feature_result_ug = nfeature_accuracy_checker()\n",
    "print(\"RESULT FOR UNIGRAM WITHOUT CUSTOM STOP WORDS (Top 10 frequent words)\\n\")\n",
    "feature_result_wocsw = nfeature_accuracy_checker(stop_words=my_stop_words)"
   ]
  },
  {
   "cell_type": "code",
   "execution_count": 17,
   "metadata": {},
   "outputs": [
    {
     "data": {
      "text/plain": [
       "<matplotlib.legend.Legend at 0x149ed0850>"
      ]
     },
     "execution_count": 17,
     "metadata": {},
     "output_type": "execute_result"
    },
    {
     "data": {
      "image/png": "[encoded data removed]",
      "text/plain": [
       "<Figure size 576x432 with 1 Axes>"
      ]
     },
     "metadata": {
      "needs_background": "light"
     },
     "output_type": "display_data"
    }
   ],
   "source": [
    "nfeatures_plot_ug = pd.DataFrame(feature_result_ug,columns=['nfeatures','validation_accuracy','train_test_time'])\n",
    "nfeatures_plot_ug_wocsw = pd.DataFrame(feature_result_wocsw,columns=['nfeatures','validation_accuracy','train_test_time'])\n",
    "nfeatures_plot_ug_wosw = pd.DataFrame(feature_result_wosw,columns=['nfeatures','validation_accuracy','train_test_time'])\n",
    "plt.figure(figsize=(8,6))\n",
    "plt.plot(nfeatures_plot_ug.nfeatures, nfeatures_plot_ug.validation_accuracy, label='with stop words', color='black')\n",
    "plt.plot(nfeatures_plot_ug_wocsw.nfeatures, nfeatures_plot_ug_wocsw.validation_accuracy,label='without custom stop words', ls='dotted', color='black')\n",
    "plt.plot(nfeatures_plot_ug_wosw.nfeatures, nfeatures_plot_ug_wosw.validation_accuracy,label='without stop words', ls='dashed', color='black')\n",
    "plt.title(\"Without stop words VS With stop words (Unigram): Accuracy\")\n",
    "plt.xlabel(\"Number of features\")\n",
    "plt.ylabel(\"Test set accuracy\")\n",
    "plt.legend()"
   ]
  },
  {
   "cell_type": "markdown",
   "metadata": {},
   "source": [
    "### n-grams"
   ]
  },
  {
   "cell_type": "code",
   "execution_count": null,
   "metadata": {},
   "outputs": [],
   "source": [
    "print(\"RESULT FOR BIGRAM WITH STOP WORDS\\n\")\n",
    "feature_result_bg = nfeature_accuracy_checker(ngram_range=(1, 2))\n",
    "print(\"RESULT FOR TRIGRAM WITH STOP WORDS\\n\")\n",
    "feature_result_tg = nfeature_accuracy_checker(ngram_range=(1, 3))"
   ]
  },
  {
   "cell_type": "code",
   "execution_count": 453,
   "metadata": {},
   "outputs": [
    {
     "data": {
      "text/plain": [
       "<matplotlib.legend.Legend at 0x196922560>"
      ]
     },
     "execution_count": 453,
     "metadata": {},
     "output_type": "execute_result"
    },
    {
     "data": {
      "image/png": "[encoded data removed]",
      "text/plain": [
       "<Figure size 576x432 with 1 Axes>"
      ]
     },
     "metadata": {
      "needs_background": "light"
     },
     "output_type": "display_data"
    }
   ],
   "source": [
    "nfeatures_plot_tg = pd.DataFrame(feature_result_tg,columns=['nfeatures','validation_accuracy','train_test_time'])\n",
    "nfeatures_plot_bg = pd.DataFrame(feature_result_bg,columns=['nfeatures','validation_accuracy','train_test_time'])\n",
    "nfeatures_plot_ug = pd.DataFrame(feature_result_ug,columns=['nfeatures','validation_accuracy','train_test_time'])\n",
    "plt.figure(figsize=(8,6))\n",
    "plt.plot(nfeatures_plot_tg.nfeatures, nfeatures_plot_tg.validation_accuracy,label='trigram',ls='dashed', color='black')\n",
    "plt.plot(nfeatures_plot_bg.nfeatures, nfeatures_plot_bg.validation_accuracy,label='bigram', ls='dotted', color='black')\n",
    "plt.plot(nfeatures_plot_ug.nfeatures, nfeatures_plot_ug.validation_accuracy, label='unigram', color='black')\n",
    "plt.title(\"N-gram(1~3) test result : Accuracy\")\n",
    "plt.xlabel(\"Number of features\")\n",
    "plt.ylabel(\"Test set accuracy\")\n",
    "plt.legend()"
   ]
  },
  {
   "cell_type": "markdown",
   "metadata": {},
   "source": [
    "### Tfidf vs CountVec"
   ]
  },
  {
   "cell_type": "code",
   "execution_count": 417,
   "metadata": {},
   "outputs": [
    {
     "name": "stdout",
     "output_type": "stream",
     "text": [
      "LogisticRegression()\n",
      "\n",
      "\n",
      "Validation result for 1000 features\n",
      "null accuracy: 55.59%\n",
      "accuracy score: 60.83%\n",
      "model is 5.24% more accurate than null accuracy\n",
      "train and test time: 0.56s\n",
      "--------------------------------------------------------------------------------\n",
      "Validation result for 10000 features\n",
      "null accuracy: 55.59%\n",
      "accuracy score: 60.83%\n",
      "model is 5.24% more accurate than null accuracy\n",
      "train and test time: 0.76s\n",
      "--------------------------------------------------------------------------------\n",
      "LogisticRegression()\n",
      "\n",
      "\n",
      "Validation result for 1000 features\n",
      "null accuracy: 55.59%\n",
      "accuracy score: 58.46%\n",
      "model is 2.87% more accurate than null accuracy\n",
      "train and test time: 0.55s\n",
      "--------------------------------------------------------------------------------\n",
      "Validation result for 10000 features\n",
      "null accuracy: 55.59%\n",
      "accuracy score: 58.85%\n",
      "model is 3.26% more accurate than null accuracy\n",
      "train and test time: 1.11s\n",
      "--------------------------------------------------------------------------------\n",
      "LogisticRegression()\n",
      "\n",
      "\n",
      "Validation result for 1000 features\n",
      "null accuracy: 55.59%\n",
      "accuracy score: 58.56%\n",
      "model is 2.97% more accurate than null accuracy\n",
      "train and test time: 0.74s\n",
      "--------------------------------------------------------------------------------\n",
      "Validation result for 10000 features\n",
      "null accuracy: 55.59%\n",
      "accuracy score: 58.56%\n",
      "model is 2.97% more accurate than null accuracy\n",
      "train and test time: 1.37s\n",
      "--------------------------------------------------------------------------------\n"
     ]
    },
    {
     "data": {
      "text/plain": [
       "<matplotlib.legend.Legend at 0x183fda980>"
      ]
     },
     "execution_count": 417,
     "metadata": {},
     "output_type": "execute_result"
    },
    {
     "data": {
      "image/png": "[encoded data removed]",
      "text/plain": [
       "<Figure size 576x432 with 1 Axes>"
      ]
     },
     "metadata": {
      "needs_background": "light"
     },
     "output_type": "display_data"
    }
   ],
   "source": [
    "from sklearn.feature_extraction.text import TfidfVectorizer\n",
    "tvec = TfidfVectorizer()\n",
    "\n",
    "feature_result_ugt = nfeature_accuracy_checker(vectorizer=tvec)\n",
    "feature_result_bgt = nfeature_accuracy_checker(vectorizer=tvec,ngram_range=(1, 2))\n",
    "feature_result_tgt = nfeature_accuracy_checker(vectorizer=tvec,ngram_range=(1, 3))\n",
    "\n",
    "\n",
    "nfeatures_plot_tgt = pd.DataFrame(feature_result_tgt,columns=['nfeatures','validation_accuracy','train_test_time'])\n",
    "nfeatures_plot_bgt = pd.DataFrame(feature_result_bgt,columns=['nfeatures','validation_accuracy','train_test_time'])\n",
    "nfeatures_plot_ugt = pd.DataFrame(feature_result_ugt,columns=['nfeatures','validation_accuracy','train_test_time'])\n",
    "plt.figure(figsize=(8,6))\n",
    "plt.plot(nfeatures_plot_tgt.nfeatures, nfeatures_plot_tgt.validation_accuracy,label='trigram tfidf vectorizer',color='royalblue')\n",
    "plt.plot(nfeatures_plot_tg.nfeatures, nfeatures_plot_tg.validation_accuracy,label='trigram count vectorizer',linestyle=':', color='royalblue')\n",
    "plt.plot(nfeatures_plot_bgt.nfeatures, nfeatures_plot_bgt.validation_accuracy,label='bigram tfidf vectorizer',color='orangered')\n",
    "plt.plot(nfeatures_plot_bg.nfeatures, nfeatures_plot_bg.validation_accuracy,label='bigram count vectorizer',linestyle=':',color='orangered')\n",
    "plt.plot(nfeatures_plot_ugt.nfeatures, nfeatures_plot_ugt.validation_accuracy, label='unigram tfidf vectorizer',color='gold')\n",
    "plt.plot(nfeatures_plot_ug.nfeatures, nfeatures_plot_ug.validation_accuracy, label='unigram count vectorizer',linestyle=':',color='gold')\n",
    "plt.title(\"N-gram(1~3) test result : Accuracy\")\n",
    "plt.xlabel(\"Number of features\")\n",
    "plt.ylabel(\"Validation set accuracy\")\n",
    "plt.legend()"
   ]
  },
  {
   "cell_type": "markdown",
   "metadata": {},
   "source": [
    "_______________________________________________________________________________________________\n",
    "## Vectorizaciones "
   ]
  },
  {
   "cell_type": "markdown",
   "metadata": {},
   "source": [
    "### Tf-idf"
   ]
  },
  {
   "cell_type": "code",
   "execution_count": null,
   "metadata": {},
   "outputs": [
    {
     "name": "stdout",
     "output_type": "stream",
     "text": [
      "Numero de features: 2807\n"
     ]
    },
    {
     "data": {
      "text/html": [
       "<style>#sk-container-id-1 {color: black;background-color: white;}#sk-container-id-1 pre{padding: 0;}#sk-container-id-1 div.sk-toggleable {background-color: white;}#sk-container-id-1 label.sk-toggleable__label {cursor: pointer;display: block;width: 100%;margin-bottom: 0;padding: 0.3em;box-sizing: border-box;text-align: center;}#sk-container-id-1 label.sk-toggleable__label-arrow:before {content: \"▸\";float: left;margin-right: 0.25em;color: #696969;}#sk-container-id-1 label.sk-toggleable__label-arrow:hover:before {color: black;}#sk-container-id-1 div.sk-estimator:hover label.sk-toggleable__label-arrow:before {color: black;}#sk-container-id-1 div.sk-toggleable__content {max-height: 0;max-width: 0;overflow: hidden;text-align: left;background-color: #f0f8ff;}#sk-container-id-1 div.sk-toggleable__content pre {margin: 0.2em;color: black;border-radius: 0.25em;background-color: #f0f8ff;}#sk-container-id-1 input.sk-toggleable__control:checked~div.sk-toggleable__content {max-height: 200px;max-width: 100%;overflow: auto;}#sk-container-id-1 input.sk-toggleable__control:checked~label.sk-toggleable__label-arrow:before {content: \"▾\";}#sk-container-id-1 div.sk-estimator input.sk-toggleable__control:checked~label.sk-toggleable__label {background-color: #d4ebff;}#sk-container-id-1 div.sk-label input.sk-toggleable__control:checked~label.sk-toggleable__label {background-color: #d4ebff;}#sk-container-id-1 input.sk-hidden--visually {border: 0;clip: rect(1px 1px 1px 1px);clip: rect(1px, 1px, 1px, 1px);height: 1px;margin: -1px;overflow: hidden;padding: 0;position: absolute;width: 1px;}#sk-container-id-1 div.sk-estimator {font-family: monospace;background-color: #f0f8ff;border: 1px dotted black;border-radius: 0.25em;box-sizing: border-box;margin-bottom: 0.5em;}#sk-container-id-1 div.sk-estimator:hover {background-color: #d4ebff;}#sk-container-id-1 div.sk-parallel-item::after {content: \"\";width: 100%;border-bottom: 1px solid gray;flex-grow: 1;}#sk-container-id-1 div.sk-label:hover label.sk-toggleable__label {background-color: #d4ebff;}#sk-container-id-1 div.sk-serial::before {content: \"\";position: absolute;border-left: 1px solid gray;box-sizing: border-box;top: 0;bottom: 0;left: 50%;z-index: 0;}#sk-container-id-1 div.sk-serial {display: flex;flex-direction: column;align-items: center;background-color: white;padding-right: 0.2em;padding-left: 0.2em;position: relative;}#sk-container-id-1 div.sk-item {position: relative;z-index: 1;}#sk-container-id-1 div.sk-parallel {display: flex;align-items: stretch;justify-content: center;background-color: white;position: relative;}#sk-container-id-1 div.sk-item::before, #sk-container-id-1 div.sk-parallel-item::before {content: \"\";position: absolute;border-left: 1px solid gray;box-sizing: border-box;top: 0;bottom: 0;left: 50%;z-index: -1;}#sk-container-id-1 div.sk-parallel-item {display: flex;flex-direction: column;z-index: 1;position: relative;background-color: white;}#sk-container-id-1 div.sk-parallel-item:first-child::after {align-self: flex-end;width: 50%;}#sk-container-id-1 div.sk-parallel-item:last-child::after {align-self: flex-start;width: 50%;}#sk-container-id-1 div.sk-parallel-item:only-child::after {width: 0;}#sk-container-id-1 div.sk-dashed-wrapped {border: 1px dashed gray;margin: 0 0.4em 0.5em 0.4em;box-sizing: border-box;padding-bottom: 0.4em;background-color: white;}#sk-container-id-1 div.sk-label label {font-family: monospace;font-weight: bold;display: inline-block;line-height: 1.2em;}#sk-container-id-1 div.sk-label-container {text-align: center;}#sk-container-id-1 div.sk-container {/* jupyter's `normalize.less` sets `[hidden] { display: none; }` but bootstrap.min.css set `[hidden] { display: none !important; }` so we also need the `!important` here to be able to override the default hidden behavior on the sphinx rendered scikit-learn.org. See: https://github.com/scikit-learn/scikit-learn/issues/21755 */display: inline-block !important;position: relative;}#sk-container-id-1 div.sk-text-repr-fallback {display: none;}</style><div id=\"sk-container-id-1\" class=\"sk-top-container\"><div class=\"sk-text-repr-fallback\"><pre>TfidfVectorizer(min_df=3, ngram_range=(1, 2),\n",
       "                stop_words=[&#x27;de&#x27;, &#x27;la&#x27;, &#x27;que&#x27;, &#x27;el&#x27;, &#x27;en&#x27;, &#x27;y&#x27;, &#x27;a&#x27;, &#x27;los&#x27;,\n",
       "                            &#x27;del&#x27;, &#x27;se&#x27;, &#x27;las&#x27;, &#x27;por&#x27;, &#x27;un&#x27;, &#x27;para&#x27;, &#x27;con&#x27;,\n",
       "                            &#x27;no&#x27;, &#x27;una&#x27;, &#x27;su&#x27;, &#x27;al&#x27;, &#x27;lo&#x27;, &#x27;como&#x27;, &#x27;más&#x27;,\n",
       "                            &#x27;pero&#x27;, &#x27;sus&#x27;, &#x27;le&#x27;, &#x27;ya&#x27;, &#x27;o&#x27;, &#x27;este&#x27;, &#x27;sí&#x27;,\n",
       "                            &#x27;porque&#x27;, ...])</pre><b>In a Jupyter environment, please rerun this cell to show the HTML representation or trust the notebook. <br />On GitHub, the HTML representation is unable to render, please try loading this page with nbviewer.org.</b></div><div class=\"sk-container\" hidden><div class=\"sk-item\"><div class=\"sk-estimator sk-toggleable\"><input class=\"sk-toggleable__control sk-hidden--visually\" id=\"sk-estimator-id-1\" type=\"checkbox\" checked><label for=\"sk-estimator-id-1\" class=\"sk-toggleable__label sk-toggleable__label-arrow\">TfidfVectorizer</label><div class=\"sk-toggleable__content\"><pre>TfidfVectorizer(min_df=3, ngram_range=(1, 2),\n",
       "                stop_words=[&#x27;de&#x27;, &#x27;la&#x27;, &#x27;que&#x27;, &#x27;el&#x27;, &#x27;en&#x27;, &#x27;y&#x27;, &#x27;a&#x27;, &#x27;los&#x27;,\n",
       "                            &#x27;del&#x27;, &#x27;se&#x27;, &#x27;las&#x27;, &#x27;por&#x27;, &#x27;un&#x27;, &#x27;para&#x27;, &#x27;con&#x27;,\n",
       "                            &#x27;no&#x27;, &#x27;una&#x27;, &#x27;su&#x27;, &#x27;al&#x27;, &#x27;lo&#x27;, &#x27;como&#x27;, &#x27;más&#x27;,\n",
       "                            &#x27;pero&#x27;, &#x27;sus&#x27;, &#x27;le&#x27;, &#x27;ya&#x27;, &#x27;o&#x27;, &#x27;este&#x27;, &#x27;sí&#x27;,\n",
       "                            &#x27;porque&#x27;, ...])</pre></div></div></div></div></div>"
      ],
      "text/plain": [
       "TfidfVectorizer(min_df=3, ngram_range=(1, 2),\n",
       "                stop_words=['de', 'la', 'que', 'el', 'en', 'y', 'a', 'los',\n",
       "                            'del', 'se', 'las', 'por', 'un', 'para', 'con',\n",
       "                            'no', 'una', 'su', 'al', 'lo', 'como', 'más',\n",
       "                            'pero', 'sus', 'le', 'ya', 'o', 'este', 'sí',\n",
       "                            'porque', ...])"
      ]
     },
     "execution_count": 10,
     "metadata": {},
     "output_type": "execute_result"
    }
   ],
   "source": [
    "from sklearn.feature_extraction.text import TfidfVectorizer\n",
    "\n",
    "tfidf = TfidfVectorizer(min_df=3, ngram_range=(1,2), stop_words = stop_words_esp).fit(X_train)\n",
    "                        \n",
    "print('Numero de features: ' +str(len(tfidf.get_feature_names_out())))\n",
    "tfidf.fit(X_train)"
   ]
  },
  {
   "cell_type": "code",
   "execution_count": null,
   "metadata": {},
   "outputs": [
    {
     "data": {
      "text/plain": [
       "<3445x2807 sparse matrix of type '<class 'numpy.float64'>'\n",
       "\twith 30268 stored elements in Compressed Sparse Row format>"
      ]
     },
     "execution_count": 11,
     "metadata": {},
     "output_type": "execute_result"
    }
   ],
   "source": [
    "X_train_tfidf = tfidf.transform(X_train)\n",
    "X_test_tfidf  = tfidf.transform(X_test)\n",
    "X_train_tfidf "
   ]
  },
  {
   "cell_type": "markdown",
   "metadata": {},
   "source": [
    "### Countvectorizer"
   ]
  },
  {
   "cell_type": "code",
   "execution_count": 10,
   "metadata": {},
   "outputs": [
    {
     "name": "stdout",
     "output_type": "stream",
     "text": [
      "Numero de features: 9546\n",
      "Número de tokens creados: 9546\n"
     ]
    }
   ],
   "source": [
    "from sklearn.feature_extraction.text import CountVectorizer\n",
    "\n",
    "countvect = CountVectorizer(min_df=1, stop_words = None, ngram_range=(1,1)).fit(X2)\n",
    "print('Numero de features: ' +str(len(countvect.get_feature_names_out())))\n",
    "print(f\"Número de tokens creados: {len(countvect.get_feature_names_out())}\")\n",
    "\n",
    "X_cv = countvect.transform(X2)\n",
    "X_train_cv = countvect.transform(X_train)\n",
    "X_test_cv  = countvect.transform(X_test)\n",
    "\n",
    "feature_names = np.array(countvect.get_feature_names_out())\n",
    "sorted_index = X_train_cv.max(0).toarray()[0].argsort()"
   ]
  },
  {
   "cell_type": "code",
   "execution_count": 38,
   "metadata": {},
   "outputs": [],
   "source": [
    "mat = X_cv.toarray()\n",
    "matX = pd.DataFrame(mat)\n",
    "matXY = pd.concat([matX, y, df['class']], axis=1)\n",
    "matXY.to_csv('data/x_countvec.csv')"
   ]
  },
  {
   "cell_type": "code",
   "execution_count": 399,
   "metadata": {},
   "outputs": [
    {
     "name": "stdout",
     "output_type": "stream",
     "text": [
      "[[ 314 1373 1374 1425 1870 1930 2196 2312 2466 2538 3106 3186 3469 3478\n",
      "  4181 4207 4812 5419 5480 5655 5671 6059 6395 6425 6723 6891 7260 8038\n",
      "  8106 8346 8587 8710 8734 8897 8946 9001 9071 9432 9453 9521]]\n",
      "['al' 'car' 'cara' 'casa' 'como' 'con' 'covid' 'cuarentena' 'de' 'del'\n",
      " 'el' 'en' 'estar' 'este' 'haber' 'hacer' 'ir' 'mano' 'mas' 'mexico' 'mi'\n",
      " 'no' 'pandemia' 'para' 'piel' 'por' 'que' 'ser' 'si' 'su' 'tener' 'todo'\n",
      " 'tono' 'tu' 'tú' 'uno' 'vacuna' 'ya' 'yo' 'él']\n"
     ]
    }
   ],
   "source": [
    "X=X_cv.toarray()\n",
    "means=np.mean(X,axis=0)\n",
    "std_devs=np.std(X,axis=0)\n",
    "\n",
    "outliers=np.sort(np.where(means>0.05))\n",
    "\n",
    "outs=countvect.get_feature_names_out()[[ 314, 1373, 1374, 1425, 1870, 1930, 2196, 2312, 2466, 2538, 3106,\n",
    "        3186, 3469, 3478, 4181, 4207, 4812, 5419, 5480, 5655, 5671, 6059,\n",
    "        6395, 6425, 6723, 6891, 7260, 8038, 8106, 8346, 8587, 8710, 8734,\n",
    "        8897, 8946, 9001, 9071, 9432, 9453, 9521]]\n",
    "\n",
    "print(outliers)\n",
    "print(outs)\n",
    "print(f\" Número de tokens creados: {len(tfidf.get_feature_names_out())}\")\n",
    "countvect.get_feature_names_out()\n"
   ]
  },
  {
   "cell_type": "markdown",
   "metadata": {},
   "source": [
    "### Word embedding"
   ]
  },
  {
   "cell_type": "code",
   "execution_count": null,
   "metadata": {},
   "outputs": [],
   "source": [
    "from gensim.models import Word2Vec, KeyedVectors\n",
    "from gensim.models import FastText\n",
    "\n",
    "wordvectors_file = 'data/wiki.es.vec'\n",
    "wordvectors = KeyedVectors.load_word2vec_format(wordvectors_file, limit=600000)\n",
    "\n",
    "#embedding=200\n",
    "#w2v = Word2Vec(X6, min_count=3, vector_size=embedding, window=5, sg=1 )\n",
    "#w2v.train(X6, total_examples= len(df['lem_tweet']), epochs=20)\n",
    "\n",
    "#wordvectors.most_similar('pozole')"
   ]
  },
  {
   "cell_type": "code",
   "execution_count": null,
   "metadata": {},
   "outputs": [
    {
     "data": {
      "text/plain": [
       "(4594, 300)"
      ]
     },
     "execution_count": 39,
     "metadata": {},
     "output_type": "execute_result"
    }
   ],
   "source": [
    "def word_vector(tokens, size):\n",
    "    vec = np.zeros(size).reshape((1, size))\n",
    "    count = 0\n",
    "    for word in tokens:\n",
    "        try:\n",
    "            vec += wordvectors[word].reshape((1, size))\n",
    "            count += 1.\n",
    "        except KeyError:  \n",
    "            continue\n",
    "    if count != 0:\n",
    "        vec /= count\n",
    "    return vec\n",
    "\n",
    "wordvec_arrays = np.zeros((len(X6), 300)) \n",
    "for i in range(len(X6)):\n",
    "    wordvec_arrays[i,:] = word_vector(X6[i], 300)\n",
    "    \n",
    "X_w2v = pd.DataFrame(wordvec_arrays)\n",
    "X_w2v.shape"
   ]
  },
  {
   "cell_type": "code",
   "execution_count": 482,
   "metadata": {},
   "outputs": [],
   "source": [
    "from tqdm import tqdm\n",
    "tqdm.pandas(desc=\"progress-bar\")\n",
    "from gensim.models import Doc2Vec\n",
    "from gensim.models.doc2vec import TaggedDocument\n",
    "import multiprocessing\n",
    "from sklearn import utils\n",
    "\n",
    "def labelize_tweets_ug(tweets,label):\n",
    "    result = []\n",
    "    prefix = label\n",
    "    for i, t in zip(tweets.index, tweets):\n",
    "        result.append(TaggedDocument(t.split(), [prefix + '_%s' % i]))\n",
    "    return result\n",
    "  \n",
    "all_x = pd.concat([X_train, X_test])\n",
    "all_x_w2v = labelize_tweets_ug(all_x, 't')"
   ]
  },
  {
   "cell_type": "markdown",
   "metadata": {},
   "source": [
    "## Reduccion de dimension"
   ]
  },
  {
   "cell_type": "markdown",
   "metadata": {},
   "source": [
    "### chi2"
   ]
  },
  {
   "cell_type": "code",
   "execution_count": 9,
   "metadata": {},
   "outputs": [
    {
     "data": {
      "text/plain": [
       "Text(0.5, 0, '$\\\\chi^2$')"
      ]
     },
     "execution_count": 9,
     "metadata": {},
     "output_type": "execute_result"
    },
    {
     "data": {
      "image/png": "[encoded data removed]",
      "text/plain": [
       "<Figure size 1080x720 with 1 Axes>"
      ]
     },
     "metadata": {
      "needs_background": "light"
     },
     "output_type": "display_data"
    }
   ],
   "source": [
    "from sklearn.feature_selection import chi2\n",
    "from sklearn.feature_extraction.text import CountVectorizer\n",
    "\n",
    "cvec = CountVectorizer(max_features=10000,ngram_range=(1, 1))\n",
    "X_train_cv = cvec.fit_transform(X_train)\n",
    "X_test_cv = cvec.transform(X_test)\n",
    "chi2score = chi2(X_train_cv, y_train)[0]\n",
    "\n",
    "plt.figure(figsize=(15,10))\n",
    "wscores = zip(cvec.get_feature_names_out(), chi2score)\n",
    "wchi2 = sorted(wscores, key=lambda x:x[1])\n",
    "topchi2 = list(zip(*wchi2[-20:]))\n",
    "x = range(len(topchi2[1]))\n",
    "labels = topchi2[0]\n",
    "plt.barh(x,topchi2[1], align='center', alpha=0.2, color='black')\n",
    "plt.plot(topchi2[1], x, '-o', markersize=5, alpha=0.8, color='black')\n",
    "plt.yticks(x, labels)\n",
    "plt.xlabel('$\\chi^2$')"
   ]
  },
  {
   "cell_type": "code",
   "execution_count": 26,
   "metadata": {},
   "outputs": [
    {
     "name": "stdout",
     "output_type": "stream",
     "text": [
      "chi2 feature selection evaluation calculated for 1000 features\n"
     ]
    },
    {
     "name": "stderr",
     "output_type": "stream",
     "text": [
      "/Library/Frameworks/Python.framework/Versions/3.10/lib/python3.10/site-packages/sklearn/linear_model/_logistic.py:444: ConvergenceWarning: lbfgs failed to converge (status=1):\n",
      "STOP: TOTAL NO. of ITERATIONS REACHED LIMIT.\n",
      "\n",
      "Increase the number of iterations (max_iter) or scale the data as shown in:\n",
      "    https://scikit-learn.org/stable/modules/preprocessing.html\n",
      "Please also refer to the documentation for alternative solver options:\n",
      "    https://scikit-learn.org/stable/modules/linear_model.html#logistic-regression\n",
      "  n_iter_i = _check_optimize_result(\n"
     ]
    }
   ],
   "source": [
    "from sklearn.linear_model import LogisticRegression\n",
    "from sklearn.feature_selection import SelectKBest, chi2\n",
    "ch2_result = []\n",
    "for n in np.arange(1000,10000,9000):\n",
    "    ch2 = SelectKBest(chi2, k=n)\n",
    "    X_train_chi2_selected = ch2.fit_transform(X_train_cv, y_train)\n",
    "    X_test_chi2_selected = ch2.transform(X_test_cv)\n",
    "    clf = LogisticRegression(C=0.5)\n",
    "    clf.fit(X_train_chi2_selected, y_train)\n",
    "    score = clf.score(X_test_chi2_selected, y_test)\n",
    "    ch2_result.append(score)\n",
    "    print(\"chi2 feature selection evaluation calculated for {} features\".format(n))"
   ]
  },
  {
   "cell_type": "code",
   "execution_count": null,
   "metadata": {},
   "outputs": [],
   "source": [
    "plt.figure(figsize=(8,6))\n",
    "plt.plot(nfeatures_plot_ug.nfeatures, nfeatures_plot_ug.validation_accuracy,label='Unigram CountVectorizer',color='black')\n",
    "plt.plot(np.arange(1000,10000,9000), ch2_result,label='Dimesions reduced from 10,000 features',linestyle=':', color='black')\n",
    "\n",
    "plt.title(\"features limited within CountVectorizer VS reduced dimensions with Chi2\")\n",
    "plt.xlabel(\"Number of features\")\n",
    "plt.ylabel(\"Test set accuracy\")\n",
    "plt.legend()"
   ]
  },
  {
   "cell_type": "code",
   "execution_count": 454,
   "metadata": {},
   "outputs": [
    {
     "data": {
      "text/plain": [
       "<matplotlib.legend.Legend at 0x19696dd20>"
      ]
     },
     "execution_count": 454,
     "metadata": {},
     "output_type": "execute_result"
    },
    {
     "data": {
      "image/png": "[encoded data removed]",
      "text/plain": [
       "<Figure size 576x432 with 1 Axes>"
      ]
     },
     "metadata": {
      "needs_background": "light"
     },
     "output_type": "display_data"
    }
   ],
   "source": [
    "plt.figure(figsize=(8,6))\n",
    "plt.plot(nfeatures_plot_ug.nfeatures, nfeatures_plot_ug.validation_accuracy,label='Unigram CountVectorizer',color='black')\n",
    "plt.plot(np.arange(1000,10000,1000), ch2_result,label='Dimesions reduced from 10,000 features',linestyle=':', color='black')\n",
    "\n",
    "plt.title(\"features limited within CountVectorizer VS reduced dimensions with Chi2\")\n",
    "plt.xlabel(\"Number of features\")\n",
    "plt.ylabel(\"Test set accuracy\")\n",
    "plt.legend()"
   ]
  },
  {
   "cell_type": "markdown",
   "metadata": {},
   "source": [
    "### SVD"
   ]
  },
  {
   "cell_type": "code",
   "execution_count": 450,
   "metadata": {},
   "outputs": [
    {
     "data": {
      "image/png": "[encoded data removed]",
      "text/plain": [
       "<Figure size 576x432 with 1 Axes>"
      ]
     },
     "metadata": {
      "needs_background": "light"
     },
     "output_type": "display_data"
    }
   ],
   "source": [
    "from sklearn.preprocessing import StandardScaler\n",
    "from sklearn.decomposition import TruncatedSVD\n",
    "\n",
    "\n",
    "cvec = CountVectorizer(ngram_range=(1, 1))\n",
    "X_train_cv = cvec.fit_transform(X_train)\n",
    "X_test_cv = cvec.transform(X_test)\n",
    "pca = TruncatedSVD().fit(X_train_cv)\n",
    "\n",
    "fig, ax = plt.subplots(figsize=(8,6))\n",
    "x_values = range(1, pca.n_components+1)\n",
    "ax.plot(x_values, pca.explained_variance_ratio_, lw=2, label='explained variance')\n",
    "ax.plot(x_values, np.cumsum(pca.explained_variance_ratio_), lw=2, label='cumulative explained variance', linestyle='dashed')\n",
    "ax.set_title('Doc2vec (unigram DBOW + trigram DMM) : explained variance of components')\n",
    "ax.set_xlabel('principal component')\n",
    "ax.set_ylabel('explained variance')\n",
    "plt.show()"
   ]
  },
  {
   "cell_type": "code",
   "execution_count": 53,
   "metadata": {},
   "outputs": [],
   "source": [
    "\n",
    "svd1 = TruncatedSVD(n_components=2000)\n",
    "# prepare transform on dataset\n",
    "svd1.fit(X_cv)\n",
    "# apply transform to dataset\n",
    "transformed = svd1.transform(X_cv)"
   ]
  },
  {
   "cell_type": "code",
   "execution_count": 59,
   "metadata": {},
   "outputs": [],
   "source": [
    "\n",
    "\n",
    "mat_ = transformed\n",
    "matX_ = pd.DataFrame(mat_)\n",
    "matXY_ = pd.concat([matX_, y, df['class']], axis=1)\n",
    "matXY_.to_csv('data/x_svd.csv')"
   ]
  },
  {
   "cell_type": "markdown",
   "metadata": {},
   "source": [
    "### TruncatedSVD"
   ]
  },
  {
   "cell_type": "code",
   "execution_count": 31,
   "metadata": {},
   "outputs": [
    {
     "name": "stdout",
     "output_type": "stream",
     "text": [
      "Number of components = 4 and explained variance = 0.33260701772896745\n",
      "Number of components = 10 and explained variance = 0.42962902004241693\n",
      "Number of components = 15 and explained variance = 0.47373499348358905\n",
      "Number of components = 20 and explained variance = 0.5042412936935551\n",
      "Number of components = 50 and explained variance = 0.6042954211592336\n",
      "Number of components = 100 and explained variance = 0.6714042078708693\n",
      "Number of components = 150 and explained variance = 0.7121934386899887\n",
      "Number of components = 200 and explained variance = 0.7422312887390566\n",
      "Number of components = 500 and explained variance = 0.8393161011644913\n",
      "Number of components = 700 and explained variance = 0.8745740067162063\n",
      "Number of components = 800 and explained variance = 0.888257446964148\n",
      "Number of components = 900 and explained variance = 0.9000751166365816\n",
      "Number of components = 1000 and explained variance = 0.9104385866303467\n",
      "Number of components = 1500 and explained variance = 0.9472045086333588\n",
      "Number of components = 2000 and explained variance = 0.9690163726975315\n",
      "Number of components = 2500 and explained variance = 0.9826554090467771\n",
      "Number of components = 3000 and explained variance = 0.9914603335229979\n",
      "Number of components = 3500 and explained variance = 0.9968897734447779\n"
     ]
    },
    {
     "data": {
      "image/png": "[encoded data removed]",
      "text/plain": [
       "<Figure size 432x288 with 1 Axes>"
      ]
     },
     "metadata": {
      "needs_background": "light"
     },
     "output_type": "display_data"
    }
   ],
   "source": [
    "# Program to find the optimal number of components for Truncated SVD\n",
    "n_comp = range(10,3000, 500) # list containing different values of components\n",
    "explained = [] # explained variance ratio for each component of Truncated SVD\n",
    "for x in n_comp:\n",
    "    svd = TruncatedSVD(n_components=x)\n",
    "    svd.fit(X_cv)\n",
    "    explained.append(svd.explained_variance_ratio_.sum())\n",
    "    print(\"Number of components = %r and explained variance = %r\"%(x,svd.explained_variance_ratio_.sum()))\n",
    "plt.plot(n_comp, explained)\n",
    "plt.xlabel('Number of components')\n",
    "plt.ylabel(\"Explained Variance\")\n",
    "plt.title(\"Plot of Number of components v/s explained variance\")\n",
    "plt.show()"
   ]
  },
  {
   "cell_type": "code",
   "execution_count": 62,
   "metadata": {},
   "outputs": [
    {
     "name": "stderr",
     "output_type": "stream",
     "text": [
      "/Library/Frameworks/Python.framework/Versions/3.10/lib/python3.10/site-packages/sklearn/linear_model/_logistic.py:444: ConvergenceWarning: lbfgs failed to converge (status=1):\n",
      "STOP: TOTAL NO. of ITERATIONS REACHED LIMIT.\n",
      "\n",
      "Increase the number of iterations (max_iter) or scale the data as shown in:\n",
      "    https://scikit-learn.org/stable/modules/preprocessing.html\n",
      "Please also refer to the documentation for alternative solver options:\n",
      "    https://scikit-learn.org/stable/modules/linear_model.html#logistic-regression\n",
      "  n_iter_i = _check_optimize_result(\n",
      "/Library/Frameworks/Python.framework/Versions/3.10/lib/python3.10/site-packages/sklearn/linear_model/_logistic.py:444: ConvergenceWarning: lbfgs failed to converge (status=1):\n",
      "STOP: TOTAL NO. of ITERATIONS REACHED LIMIT.\n",
      "\n",
      "Increase the number of iterations (max_iter) or scale the data as shown in:\n",
      "    https://scikit-learn.org/stable/modules/preprocessing.html\n",
      "Please also refer to the documentation for alternative solver options:\n",
      "    https://scikit-learn.org/stable/modules/linear_model.html#logistic-regression\n",
      "  n_iter_i = _check_optimize_result(\n",
      "/Library/Frameworks/Python.framework/Versions/3.10/lib/python3.10/site-packages/sklearn/linear_model/_logistic.py:444: ConvergenceWarning: lbfgs failed to converge (status=1):\n",
      "STOP: TOTAL NO. of ITERATIONS REACHED LIMIT.\n",
      "\n",
      "Increase the number of iterations (max_iter) or scale the data as shown in:\n",
      "    https://scikit-learn.org/stable/modules/preprocessing.html\n",
      "Please also refer to the documentation for alternative solver options:\n",
      "    https://scikit-learn.org/stable/modules/linear_model.html#logistic-regression\n",
      "  n_iter_i = _check_optimize_result(\n",
      "/Library/Frameworks/Python.framework/Versions/3.10/lib/python3.10/site-packages/sklearn/linear_model/_logistic.py:444: ConvergenceWarning: lbfgs failed to converge (status=1):\n",
      "STOP: TOTAL NO. of ITERATIONS REACHED LIMIT.\n",
      "\n",
      "Increase the number of iterations (max_iter) or scale the data as shown in:\n",
      "    https://scikit-learn.org/stable/modules/preprocessing.html\n",
      "Please also refer to the documentation for alternative solver options:\n",
      "    https://scikit-learn.org/stable/modules/linear_model.html#logistic-regression\n",
      "  n_iter_i = _check_optimize_result(\n",
      "/Library/Frameworks/Python.framework/Versions/3.10/lib/python3.10/site-packages/sklearn/linear_model/_logistic.py:444: ConvergenceWarning: lbfgs failed to converge (status=1):\n",
      "STOP: TOTAL NO. of ITERATIONS REACHED LIMIT.\n",
      "\n",
      "Increase the number of iterations (max_iter) or scale the data as shown in:\n",
      "    https://scikit-learn.org/stable/modules/preprocessing.html\n",
      "Please also refer to the documentation for alternative solver options:\n",
      "    https://scikit-learn.org/stable/modules/linear_model.html#logistic-regression\n",
      "  n_iter_i = _check_optimize_result(\n",
      "/Library/Frameworks/Python.framework/Versions/3.10/lib/python3.10/site-packages/sklearn/linear_model/_logistic.py:444: ConvergenceWarning: lbfgs failed to converge (status=1):\n",
      "STOP: TOTAL NO. of ITERATIONS REACHED LIMIT.\n",
      "\n",
      "Increase the number of iterations (max_iter) or scale the data as shown in:\n",
      "    https://scikit-learn.org/stable/modules/preprocessing.html\n",
      "Please also refer to the documentation for alternative solver options:\n",
      "    https://scikit-learn.org/stable/modules/linear_model.html#logistic-regression\n",
      "  n_iter_i = _check_optimize_result(\n",
      "/Library/Frameworks/Python.framework/Versions/3.10/lib/python3.10/site-packages/sklearn/linear_model/_logistic.py:444: ConvergenceWarning: lbfgs failed to converge (status=1):\n",
      "STOP: TOTAL NO. of ITERATIONS REACHED LIMIT.\n",
      "\n",
      "Increase the number of iterations (max_iter) or scale the data as shown in:\n",
      "    https://scikit-learn.org/stable/modules/preprocessing.html\n",
      "Please also refer to the documentation for alternative solver options:\n",
      "    https://scikit-learn.org/stable/modules/linear_model.html#logistic-regression\n",
      "  n_iter_i = _check_optimize_result(\n",
      "/Library/Frameworks/Python.framework/Versions/3.10/lib/python3.10/site-packages/sklearn/linear_model/_logistic.py:444: ConvergenceWarning: lbfgs failed to converge (status=1):\n",
      "STOP: TOTAL NO. of ITERATIONS REACHED LIMIT.\n",
      "\n",
      "Increase the number of iterations (max_iter) or scale the data as shown in:\n",
      "    https://scikit-learn.org/stable/modules/preprocessing.html\n",
      "Please also refer to the documentation for alternative solver options:\n",
      "    https://scikit-learn.org/stable/modules/linear_model.html#logistic-regression\n",
      "  n_iter_i = _check_optimize_result(\n",
      "/Library/Frameworks/Python.framework/Versions/3.10/lib/python3.10/site-packages/sklearn/linear_model/_logistic.py:444: ConvergenceWarning: lbfgs failed to converge (status=1):\n",
      "STOP: TOTAL NO. of ITERATIONS REACHED LIMIT.\n",
      "\n",
      "Increase the number of iterations (max_iter) or scale the data as shown in:\n",
      "    https://scikit-learn.org/stable/modules/preprocessing.html\n",
      "Please also refer to the documentation for alternative solver options:\n",
      "    https://scikit-learn.org/stable/modules/linear_model.html#logistic-regression\n",
      "  n_iter_i = _check_optimize_result(\n",
      "/Library/Frameworks/Python.framework/Versions/3.10/lib/python3.10/site-packages/sklearn/linear_model/_logistic.py:444: ConvergenceWarning: lbfgs failed to converge (status=1):\n",
      "STOP: TOTAL NO. of ITERATIONS REACHED LIMIT.\n",
      "\n",
      "Increase the number of iterations (max_iter) or scale the data as shown in:\n",
      "    https://scikit-learn.org/stable/modules/preprocessing.html\n",
      "Please also refer to the documentation for alternative solver options:\n",
      "    https://scikit-learn.org/stable/modules/linear_model.html#logistic-regression\n",
      "  n_iter_i = _check_optimize_result(\n"
     ]
    },
    {
     "name": "stdout",
     "output_type": "stream",
     "text": [
      ">1500 0.618 (0.029)\n"
     ]
    }
   ],
   "source": [
    "from sklearn.linear_model import LogisticRegression\n",
    "from sklearn.decomposition import TruncatedSVD\n",
    "from sklearn.model_selection import cross_val_score\n",
    "from sklearn.model_selection import RepeatedStratifiedKFold\n",
    "from sklearn.pipeline import Pipeline\n",
    "from matplotlib import pyplot\n",
    " \n",
    " \n",
    "# get a list of models to evaluate\n",
    "def get_models():\n",
    " models = dict()\n",
    " for i in range(1500,2001,100):\n",
    "  steps = [('svd', TruncatedSVD(n_components=i)), ('m', LogisticRegression())]\n",
    "  models[str(i)] = Pipeline(steps=steps)\n",
    "  return models\n",
    " \n",
    "# evaluate a give model using cross-validation\n",
    "def evaluate_model(model, X, y):\n",
    " cv = RepeatedStratifiedKFold(n_splits=10, n_repeats=1, random_state=1)\n",
    " scores = cross_val_score(model, X_cv, y, scoring='accuracy', cv=cv, n_jobs=-1, error_score='raise')\n",
    " return scores\n",
    " \n",
    "\n",
    "# get the models to evaluate\n",
    "models = get_models()\n",
    "# evaluate the models and store results\n",
    "results, names = list(), list()\n",
    "for name, model in models.items():\n",
    " scores = evaluate_model(model, X_cv, y)\n",
    " results.append(scores)\n",
    " names.append(name)\n",
    " print('>%s %.3f (%.3f)' % (name, np.mean(scores), np.std(scores)))\n"
   ]
  },
  {
   "cell_type": "code",
   "execution_count": 61,
   "metadata": {},
   "outputs": [
    {
     "data": {
      "text/plain": [
       "[array([0.60434783, 0.60869565, 0.65869565, 0.6       , 0.60348584,\n",
       "        0.65577342, 0.66884532, 0.59694989, 0.57298475, 0.59041394])]"
      ]
     },
     "execution_count": 61,
     "metadata": {},
     "output_type": "execute_result"
    }
   ],
   "source": [
    "results"
   ]
  },
  {
   "cell_type": "code",
   "execution_count": null,
   "metadata": {},
   "outputs": [],
   "source": [
    "# plot model performance for comparison\n",
    "pyplot.boxplot(results, labels=names, showmeans=True)\n",
    "pyplot.xticks(rotation=45)\n",
    "pyplot.show()"
   ]
  },
  {
   "cell_type": "markdown",
   "metadata": {},
   "source": [
    "### GridSearch"
   ]
  },
  {
   "cell_type": "code",
   "execution_count": null,
   "metadata": {},
   "outputs": [],
   "source": [
    "from sklearn.model_selection import RepeatedStratifiedKFold\n",
    "from sklearn.model_selection import GridSearchCV\n",
    "from sklearn.linear_model import LogisticRegression\n",
    "\n",
    "# define models and parameters\n",
    "model = LogisticRegression()\n",
    "solvers = ['newton-cg', 'lbfgs', 'liblinear']\n",
    "penalty = ['l2']\n",
    "c_values = [10, 1, 0.5, 0.1, 0.01]\n",
    "# define grid search\n",
    "grid = dict(solver=solvers,penalty=penalty,C=c_values)\n",
    "cv = RepeatedStratifiedKFold(n_splits=10, n_repeats=3, random_state=1)\n",
    "grid_search = GridSearchCV(estimator=model, param_grid=grid, n_jobs=-1, cv=cv, scoring='accuracy',error_score=0)\n",
    "grid_result = grid_search.fit(X_train_cv, y_train)\n",
    "# summarize results\n",
    "print(\"Best: %f using %s\" % (grid_result.best_score_, grid_result.best_params_))\n",
    "means = grid_result.cv_results_['mean_test_score']\n",
    "stds = grid_result.cv_results_['std_test_score']\n",
    "params = grid_result.cv_results_['params']\n",
    "for mean, stdev, param in zip(means, stds, params):\n",
    "    print(\"%f (%f) with: %r\" % (mean, stdev, param))"
   ]
  },
  {
   "cell_type": "markdown",
   "metadata": {},
   "source": [
    "## MLP"
   ]
  },
  {
   "cell_type": "code",
   "execution_count": 434,
   "metadata": {},
   "outputs": [],
   "source": [
    "from sklearn.preprocessing import MaxAbsScaler\n",
    "scaler = MaxAbsScaler()\n",
    "\n",
    "X_train_scaled = scaler.fit_transform(X_train_cv)\n",
    "X_test_scaled = scaler.transform(X_test_cv)"
   ]
  },
  {
   "cell_type": "code",
   "execution_count": 435,
   "metadata": {},
   "outputs": [
    {
     "data": {
      "text/plain": [
       "0.6300692383778437"
      ]
     },
     "execution_count": 435,
     "metadata": {},
     "output_type": "execute_result"
    }
   ],
   "source": [
    "from sklearn.neural_network import MLPClassifier\n",
    "\n",
    "units = [100,100]\n",
    "alfa = float(4.0)\n",
    "mlp = MLPClassifier(hidden_layer_sizes=units, solver='adam', activation='tanh', alpha=alfa, random_state=37)\n",
    "mlp.fit(X_train_cv, y_train)\n",
    "\n",
    "mlp.predict(X_test_cv)\n",
    "mlp.score(X_test_cv,y_test)\n"
   ]
  },
  {
   "cell_type": "code",
   "execution_count": 68,
   "metadata": {},
   "outputs": [
    {
     "data": {
      "image/png": "[encoded data removed]",
      "text/plain": [
       "<Figure size 504x432 with 1 Axes>"
      ]
     },
     "metadata": {
      "needs_background": "light"
     },
     "output_type": "display_data"
    }
   ],
   "source": [
    "xrange = np.linspace(-2, 2, 200)\n",
    "\n",
    "plt.figure(figsize=(7,6))\n",
    "plt.plot(xrange, np.maximum(xrange, 0), label = 'relu')\n",
    "plt.plot(xrange, np.tanh(xrange), label = 'tanh')\n",
    "plt.plot(xrange, 1 / (1 + np.exp(-xrange)), label = 'logistic')\n",
    "plt.legend()\n",
    "plt.title('Activation functions')\n",
    "plt.ylabel('Activation function output')\n",
    "plt.show()"
   ]
  },
  {
   "cell_type": "code",
   "execution_count": null,
   "metadata": {},
   "outputs": [],
   "source": [
    "from sklearn.model_selection import GridSearchCV\n",
    "\n",
    "params = {'activation':['relu', 'tanh', 'logistic'], 'alpha':[0.1, 1, 3, 5,10]}\n",
    "\n",
    "\n",
    "clf = GridSearchCV(MLPClassifier(validation_fraction=0), \n",
    "                    params,\n",
    "                    scoring='accuracy',\n",
    "                    verbose=True)\n",
    "\n",
    "clf.fit(X_train_cv ,y_train)"
   ]
  }
 ],
 "metadata": {
  "kernelspec": {
   "display_name": "Python 3.10.4 64-bit",
   "language": "python",
   "name": "python3"
  },
  "language_info": {
   "codemirror_mode": {
    "name": "ipython",
    "version": 3
   },
   "file_extension": ".py",
   "mimetype": "text/x-python",
   "name": "python",
   "nbconvert_exporter": "python",
   "pygments_lexer": "ipython3",
   "version": "3.10.4"
  },
  "orig_nbformat": 4,
  "vscode": {
   "interpreter": {
    "hash": "aee8b7b246df8f9039afb4144a1f6fd8d2ca17a180786b69acc140d282b71a49"
   }
  }
 },
 "nbformat": 4,
 "nbformat_minor": 2
}
