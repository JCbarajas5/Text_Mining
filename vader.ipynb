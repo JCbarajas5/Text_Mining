{
 "cells": [
  {
   "cell_type": "code",
   "execution_count": 1,
   "metadata": {},
   "outputs": [
    {
     "name": "stderr",
     "output_type": "stream",
     "text": [
      "/anaconda3/lib/python3.7/site-packages/pandas/compat/_optional.py:138: UserWarning: Pandas requires version '2.7.0' or newer of 'numexpr' (version '2.6.8' currently installed).\n",
      "  warnings.warn(msg, UserWarning)\n"
     ]
    }
   ],
   "source": [
    "import re\n",
    "import json\n",
    "import pandas as pd\n",
    "import nltk\n",
    "from nltk.sentiment.vader import SentimentIntensityAnalyzer\n",
    "#nltk.download('vader_lexicon')"
   ]
  },
  {
   "cell_type": "code",
   "execution_count": 4,
   "metadata": {},
   "outputs": [
    {
     "data": {
      "text/html": [
       "<div>\n",
       "<style scoped>\n",
       "    .dataframe tbody tr th:only-of-type {\n",
       "        vertical-align: middle;\n",
       "    }\n",
       "\n",
       "    .dataframe tbody tr th {\n",
       "        vertical-align: top;\n",
       "    }\n",
       "\n",
       "    .dataframe thead th {\n",
       "        text-align: right;\n",
       "    }\n",
       "</style>\n",
       "<table border=\"1\" class=\"dataframe\">\n",
       "  <thead>\n",
       "    <tr style=\"text-align: right;\">\n",
       "      <th></th>\n",
       "      <th>Tweet</th>\n",
       "      <th>clean_tweet</th>\n",
       "      <th>Label</th>\n",
       "    </tr>\n",
       "  </thead>\n",
       "  <tbody>\n",
       "    <tr>\n",
       "      <th>0</th>\n",
       "      <td>1401047081121353728-@dulcema201 @BronstonRaqsa02 Protocolo de COVID !!!!</td>\n",
       "      <td>Protocolo de COVID !!!!</td>\n",
       "      <td>NEUTRO</td>\n",
       "    </tr>\n",
       "    <tr>\n",
       "      <th>1</th>\n",
       "      <td>1258159310162595843-#COVID19 #QuedateEnCasa en Morelia Centro</td>\n",
       "      <td>COVID QuedateEnCasa en Morelia Centro</td>\n",
       "      <td>NEUTRO</td>\n",
       "    </tr>\n",
       "    <tr>\n",
       "      <th>2</th>\n",
       "      <td>1272748988626862082-México va en en aumento con el #Covid_19. Tal vez no tengamos la estabilidad de Europa o estados unidos. Para mantener 120 días en paro total. Pero podemos ser precavidos al usar la #SanaDistancia</td>\n",
       "      <td>México va en en aumento con el Covid. Tal vez no tengamos la estabilidad de Europa o estados unidos. Para mantener días en paro total. Pero podemos ser precavidos al usar la SanaDistancia</td>\n",
       "      <td>POSITIVO</td>\n",
       "    </tr>\n",
       "    <tr>\n",
       "      <th>3</th>\n",
       "      <td>1349385638722883585-@sororavirus Creo en todo y nada. 💜</td>\n",
       "      <td>Creo en todo y nada. 💜</td>\n",
       "      <td>NEUTRO</td>\n",
       "    </tr>\n",
       "    <tr>\n",
       "      <th>4</th>\n",
       "      <td>1360615587114844161-@GobiernoMX había prometido 389</td>\n",
       "      <td>había prometido</td>\n",
       "      <td>NEGATIVO</td>\n",
       "    </tr>\n",
       "    <tr>\n",
       "      <th>5</th>\n",
       "      <td>1384487745033162755-Vacunación en Tonalá</td>\n",
       "      <td>Vacunación en Tonalá</td>\n",
       "      <td>POSITIVO</td>\n",
       "    </tr>\n",
       "    <tr>\n",
       "      <th>6</th>\n",
       "      <td>1335343584875327494-No es cierto lo que dice @WHO</td>\n",
       "      <td>No es cierto lo que dice</td>\n",
       "      <td>NEGATIVO</td>\n",
       "    </tr>\n",
       "    <tr>\n",
       "      <th>7</th>\n",
       "      <td>1257755579101003776-Participa en familia con esta entretenida actividad #MejorEnCasa Manda tu vídeo a la brevedad y llevaré uno de los premios.#aquiestamos #IED #QuedateEnCasa https://t.co/BQZTpxwca2</td>\n",
       "      <td>Participa en familia con esta entretenida actividad MejorEnCasa Manda tu vídeo a la brevedad y llevaré uno de los premios.aquiestamos IED QuedateEnCasa</td>\n",
       "      <td>POSITIVO</td>\n",
       "    </tr>\n",
       "    <tr>\n",
       "      <th>8</th>\n",
       "      <td>1317288163065401345-@lalitogonzaalez Acabar con el Coronavirus.</td>\n",
       "      <td>Acabar con el Coronavirus.</td>\n",
       "      <td>POSITIVO</td>\n",
       "    </tr>\n",
       "    <tr>\n",
       "      <th>9</th>\n",
       "      <td>1255373406624776194-#InternationalDanceDay #DID #ENCASA https://t.co/crIQOdoPgG</td>\n",
       "      <td>InternationalDanceDay DID ENCASA</td>\n",
       "      <td>NEUTRO</td>\n",
       "    </tr>\n",
       "  </tbody>\n",
       "</table>\n",
       "</div>"
      ],
      "text/plain": [
       "                                                                                                                                                                                                                      Tweet  \\\n",
       "0                                                                                                                                                  1401047081121353728-@dulcema201 @BronstonRaqsa02 Protocolo de COVID !!!!   \n",
       "1                                                                                                                                                             1258159310162595843-#COVID19 #QuedateEnCasa en Morelia Centro   \n",
       "2  1272748988626862082-México va en en aumento con el #Covid_19. Tal vez no tengamos la estabilidad de Europa o estados unidos. Para mantener 120 días en paro total. Pero podemos ser precavidos al usar la #SanaDistancia   \n",
       "3                                                                                                                                                                   1349385638722883585-@sororavirus Creo en todo y nada. 💜   \n",
       "4                                                                                                                                                                       1360615587114844161-@GobiernoMX había prometido 389   \n",
       "5                                                                                                                                                                                  1384487745033162755-Vacunación en Tonalá   \n",
       "6                                                                                                                                                                         1335343584875327494-No es cierto lo que dice @WHO   \n",
       "7                   1257755579101003776-Participa en familia con esta entretenida actividad #MejorEnCasa Manda tu vídeo a la brevedad y llevaré uno de los premios.#aquiestamos #IED #QuedateEnCasa https://t.co/BQZTpxwca2   \n",
       "8                                                                                                                                                           1317288163065401345-@lalitogonzaalez Acabar con el Coronavirus.   \n",
       "9                                                                                                                                           1255373406624776194-#InternationalDanceDay #DID #ENCASA https://t.co/crIQOdoPgG   \n",
       "\n",
       "                                                                                                                                                                                   clean_tweet  \\\n",
       "0                                                                                                                                                                      Protocolo de COVID !!!!   \n",
       "1                                                                                                                                                        COVID QuedateEnCasa en Morelia Centro   \n",
       "2  México va en en aumento con el Covid. Tal vez no tengamos la estabilidad de Europa o estados unidos. Para mantener días en paro total. Pero podemos ser precavidos al usar la SanaDistancia   \n",
       "3                                                                                                                                                                       Creo en todo y nada. 💜   \n",
       "4                                                                                                                                                                             había prometido    \n",
       "5                                                                                                                                                                         Vacunación en Tonalá   \n",
       "6                                                                                                                                                                    No es cierto lo que dice    \n",
       "7                                     Participa en familia con esta entretenida actividad MejorEnCasa Manda tu vídeo a la brevedad y llevaré uno de los premios.aquiestamos IED QuedateEnCasa    \n",
       "8                                                                                                                                                                   Acabar con el Coronavirus.   \n",
       "9                                                                                                                                                            InternationalDanceDay DID ENCASA    \n",
       "\n",
       "      Label  \n",
       "0    NEUTRO  \n",
       "1    NEUTRO  \n",
       "2  POSITIVO  \n",
       "3    NEUTRO  \n",
       "4  NEGATIVO  \n",
       "5  POSITIVO  \n",
       "6  NEGATIVO  \n",
       "7  POSITIVO  \n",
       "8  POSITIVO  \n",
       "9    NEUTRO  "
      ]
     },
     "execution_count": 4,
     "metadata": {},
     "output_type": "execute_result"
    }
   ],
   "source": [
    "with open('SENT-COVID.json') as file:\n",
    "    data = json.load(file)\n",
    "    \n",
    "pd.options.mode.chained_assignment = None                                         \n",
    "pd.set_option('display.max_colwidth',None)   \n",
    "\n",
    "df = pd.DataFrame(data)\n",
    "df[['Tweet','clean_tweet','Label']].head(10)"
   ]
  },
  {
   "cell_type": "code",
   "execution_count": 5,
   "metadata": {},
   "outputs": [
    {
     "data": {
      "text/plain": [
       "4572"
      ]
     },
     "execution_count": 5,
     "metadata": {},
     "output_type": "execute_result"
    }
   ],
   "source": [
    "len(df)"
   ]
  },
  {
   "cell_type": "code",
   "execution_count": 7,
   "metadata": {},
   "outputs": [
    {
     "data": {
      "text/plain": [
       "0           {'neg': 0.0, 'neu': 1.0, 'pos': 0.0, 'compound': 0.0}\n",
       "1           {'neg': 0.0, 'neu': 1.0, 'pos': 0.0, 'compound': 0.0}\n",
       "2    {'neg': 0.066, 'neu': 0.934, 'pos': 0.0, 'compound': -0.296}\n",
       "3           {'neg': 0.0, 'neu': 1.0, 'pos': 0.0, 'compound': 0.0}\n",
       "4           {'neg': 0.0, 'neu': 1.0, 'pos': 0.0, 'compound': 0.0}\n",
       "Name: sentiment, dtype: object"
      ]
     },
     "execution_count": 7,
     "metadata": {},
     "output_type": "execute_result"
    }
   ],
   "source": [
    "sia = SentimentIntensityAnalyzer()\n",
    "\n",
    "def get_polarity(text):\n",
    "    return sia.polarity_scores(text)\n",
    "\n",
    "df[\"sentiment\"] = df[\"clean_tweet\"].apply(get_polarity)\n",
    "df['sentiment'].head()"
   ]
  },
  {
   "cell_type": "code",
   "execution_count": 10,
   "metadata": {},
   "outputs": [
    {
     "data": {
      "text/html": [
       "<div>\n",
       "<style scoped>\n",
       "    .dataframe tbody tr th:only-of-type {\n",
       "        vertical-align: middle;\n",
       "    }\n",
       "\n",
       "    .dataframe tbody tr th {\n",
       "        vertical-align: top;\n",
       "    }\n",
       "\n",
       "    .dataframe thead th {\n",
       "        text-align: right;\n",
       "    }\n",
       "</style>\n",
       "<table border=\"1\" class=\"dataframe\">\n",
       "  <thead>\n",
       "    <tr style=\"text-align: right;\">\n",
       "      <th></th>\n",
       "      <th>clean_tweet</th>\n",
       "      <th>Label</th>\n",
       "      <th>polarity</th>\n",
       "      <th>score</th>\n",
       "    </tr>\n",
       "  </thead>\n",
       "  <tbody>\n",
       "    <tr>\n",
       "      <th>0</th>\n",
       "      <td>Protocolo de COVID !!!!</td>\n",
       "      <td>NEUTRO</td>\n",
       "      <td>0.000</td>\n",
       "      <td>NEUTRO</td>\n",
       "    </tr>\n",
       "    <tr>\n",
       "      <th>1</th>\n",
       "      <td>COVID QuedateEnCasa en Morelia Centro</td>\n",
       "      <td>NEUTRO</td>\n",
       "      <td>0.000</td>\n",
       "      <td>NEUTRO</td>\n",
       "    </tr>\n",
       "    <tr>\n",
       "      <th>2</th>\n",
       "      <td>México va en en aumento con el Covid. Tal vez no tengamos la estabilidad de Europa o estados unidos. Para mantener días en paro total. Pero podemos ser precavidos al usar la SanaDistancia</td>\n",
       "      <td>POSITIVO</td>\n",
       "      <td>-0.296</td>\n",
       "      <td>NEGATIVO</td>\n",
       "    </tr>\n",
       "    <tr>\n",
       "      <th>3</th>\n",
       "      <td>Creo en todo y nada. 💜</td>\n",
       "      <td>NEUTRO</td>\n",
       "      <td>0.000</td>\n",
       "      <td>NEUTRO</td>\n",
       "    </tr>\n",
       "    <tr>\n",
       "      <th>4</th>\n",
       "      <td>había prometido</td>\n",
       "      <td>NEGATIVO</td>\n",
       "      <td>0.000</td>\n",
       "      <td>NEUTRO</td>\n",
       "    </tr>\n",
       "    <tr>\n",
       "      <th>5</th>\n",
       "      <td>Vacunación en Tonalá</td>\n",
       "      <td>POSITIVO</td>\n",
       "      <td>0.000</td>\n",
       "      <td>NEUTRO</td>\n",
       "    </tr>\n",
       "    <tr>\n",
       "      <th>6</th>\n",
       "      <td>No es cierto lo que dice</td>\n",
       "      <td>NEGATIVO</td>\n",
       "      <td>-0.296</td>\n",
       "      <td>NEGATIVO</td>\n",
       "    </tr>\n",
       "    <tr>\n",
       "      <th>7</th>\n",
       "      <td>Participa en familia con esta entretenida actividad MejorEnCasa Manda tu vídeo a la brevedad y llevaré uno de los premios.aquiestamos IED QuedateEnCasa</td>\n",
       "      <td>POSITIVO</td>\n",
       "      <td>0.000</td>\n",
       "      <td>NEUTRO</td>\n",
       "    </tr>\n",
       "    <tr>\n",
       "      <th>8</th>\n",
       "      <td>Acabar con el Coronavirus.</td>\n",
       "      <td>POSITIVO</td>\n",
       "      <td>0.000</td>\n",
       "      <td>NEUTRO</td>\n",
       "    </tr>\n",
       "    <tr>\n",
       "      <th>9</th>\n",
       "      <td>InternationalDanceDay DID ENCASA</td>\n",
       "      <td>NEUTRO</td>\n",
       "      <td>0.000</td>\n",
       "      <td>NEUTRO</td>\n",
       "    </tr>\n",
       "  </tbody>\n",
       "</table>\n",
       "</div>"
      ],
      "text/plain": [
       "                                                                                                                                                                                   clean_tweet  \\\n",
       "0                                                                                                                                                                      Protocolo de COVID !!!!   \n",
       "1                                                                                                                                                        COVID QuedateEnCasa en Morelia Centro   \n",
       "2  México va en en aumento con el Covid. Tal vez no tengamos la estabilidad de Europa o estados unidos. Para mantener días en paro total. Pero podemos ser precavidos al usar la SanaDistancia   \n",
       "3                                                                                                                                                                       Creo en todo y nada. 💜   \n",
       "4                                                                                                                                                                             había prometido    \n",
       "5                                                                                                                                                                         Vacunación en Tonalá   \n",
       "6                                                                                                                                                                    No es cierto lo que dice    \n",
       "7                                     Participa en familia con esta entretenida actividad MejorEnCasa Manda tu vídeo a la brevedad y llevaré uno de los premios.aquiestamos IED QuedateEnCasa    \n",
       "8                                                                                                                                                                   Acabar con el Coronavirus.   \n",
       "9                                                                                                                                                            InternationalDanceDay DID ENCASA    \n",
       "\n",
       "      Label  polarity     score  \n",
       "0    NEUTRO     0.000    NEUTRO  \n",
       "1    NEUTRO     0.000    NEUTRO  \n",
       "2  POSITIVO    -0.296  NEGATIVO  \n",
       "3    NEUTRO     0.000    NEUTRO  \n",
       "4  NEGATIVO     0.000    NEUTRO  \n",
       "5  POSITIVO     0.000    NEUTRO  \n",
       "6  NEGATIVO    -0.296  NEGATIVO  \n",
       "7  POSITIVO     0.000    NEUTRO  \n",
       "8  POSITIVO     0.000    NEUTRO  \n",
       "9    NEUTRO     0.000    NEUTRO  "
      ]
     },
     "execution_count": 10,
     "metadata": {},
     "output_type": "execute_result"
    }
   ],
   "source": [
    "def score(x):\n",
    "  if x > 0:\n",
    "    return 'POSITIVO'\n",
    "  elif x == 0:\n",
    "    return 'NEUTRO'\n",
    "  else:\n",
    "    return 'NEGATIVO'\n",
    "\n",
    "df[\"polarity\"] = df[\"clean_tweet\"].apply(lambda i: sia.polarity_scores(i)['compound'])\n",
    "df['score'] = df['polarity'].apply(score)\n",
    "df[['clean_tweet','Label','polarity','score']].head(10)"
   ]
  },
  {
   "cell_type": "code",
   "execution_count": 11,
   "metadata": {},
   "outputs": [
    {
     "data": {
      "text/html": [
       "<div>\n",
       "<style scoped>\n",
       "    .dataframe tbody tr th:only-of-type {\n",
       "        vertical-align: middle;\n",
       "    }\n",
       "\n",
       "    .dataframe tbody tr th {\n",
       "        vertical-align: top;\n",
       "    }\n",
       "\n",
       "    .dataframe thead th {\n",
       "        text-align: right;\n",
       "    }\n",
       "</style>\n",
       "<table border=\"1\" class=\"dataframe\">\n",
       "  <thead>\n",
       "    <tr style=\"text-align: right;\">\n",
       "      <th></th>\n",
       "      <th>clean_tweet</th>\n",
       "      <th>Label</th>\n",
       "      <th>polarity</th>\n",
       "      <th>score</th>\n",
       "      <th>agreement</th>\n",
       "      <th>matrix_value</th>\n",
       "    </tr>\n",
       "  </thead>\n",
       "  <tbody>\n",
       "    <tr>\n",
       "      <th>0</th>\n",
       "      <td>Protocolo de COVID !!!!</td>\n",
       "      <td>NEUTRO</td>\n",
       "      <td>0.000</td>\n",
       "      <td>NEUTRO</td>\n",
       "      <td>match</td>\n",
       "      <td>0</td>\n",
       "    </tr>\n",
       "    <tr>\n",
       "      <th>1</th>\n",
       "      <td>COVID QuedateEnCasa en Morelia Centro</td>\n",
       "      <td>NEUTRO</td>\n",
       "      <td>0.000</td>\n",
       "      <td>NEUTRO</td>\n",
       "      <td>match</td>\n",
       "      <td>0</td>\n",
       "    </tr>\n",
       "    <tr>\n",
       "      <th>2</th>\n",
       "      <td>México va en en aumento con el Covid. Tal vez no tengamos la estabilidad de Europa o estados unidos. Para mantener días en paro total. Pero podemos ser precavidos al usar la SanaDistancia</td>\n",
       "      <td>POSITIVO</td>\n",
       "      <td>-0.296</td>\n",
       "      <td>NEGATIVO</td>\n",
       "      <td>opp</td>\n",
       "      <td>FN</td>\n",
       "    </tr>\n",
       "    <tr>\n",
       "      <th>3</th>\n",
       "      <td>Creo en todo y nada. 💜</td>\n",
       "      <td>NEUTRO</td>\n",
       "      <td>0.000</td>\n",
       "      <td>NEUTRO</td>\n",
       "      <td>match</td>\n",
       "      <td>0</td>\n",
       "    </tr>\n",
       "    <tr>\n",
       "      <th>4</th>\n",
       "      <td>había prometido</td>\n",
       "      <td>NEGATIVO</td>\n",
       "      <td>0.000</td>\n",
       "      <td>NEUTRO</td>\n",
       "      <td>not match</td>\n",
       "      <td>0</td>\n",
       "    </tr>\n",
       "  </tbody>\n",
       "</table>\n",
       "</div>"
      ],
      "text/plain": [
       "                                                                                                                                                                                   clean_tweet  \\\n",
       "0                                                                                                                                                                      Protocolo de COVID !!!!   \n",
       "1                                                                                                                                                        COVID QuedateEnCasa en Morelia Centro   \n",
       "2  México va en en aumento con el Covid. Tal vez no tengamos la estabilidad de Europa o estados unidos. Para mantener días en paro total. Pero podemos ser precavidos al usar la SanaDistancia   \n",
       "3                                                                                                                                                                       Creo en todo y nada. 💜   \n",
       "4                                                                                                                                                                             había prometido    \n",
       "\n",
       "      Label  polarity     score  agreement matrix_value  \n",
       "0    NEUTRO     0.000    NEUTRO      match            0  \n",
       "1    NEUTRO     0.000    NEUTRO      match            0  \n",
       "2  POSITIVO    -0.296  NEGATIVO        opp           FN  \n",
       "3    NEUTRO     0.000    NEUTRO      match            0  \n",
       "4  NEGATIVO     0.000    NEUTRO  not match            0  "
      ]
     },
     "execution_count": 11,
     "metadata": {},
     "output_type": "execute_result"
    }
   ],
   "source": [
    "df['agreement'] = 0\n",
    "\n",
    "for i in df.index:\n",
    "    if df['Label'][i] == df['score'] [i]:\n",
    "        df['agreement'][i] = 'match'\n",
    "    elif df['Label'][i]=='POSITIVO' and df['score'][i]=='NEGATIVO':\n",
    "        df['agreement'][i] = 'opp'\n",
    "    elif df['score'][i]=='POSITIVO'and df['Label'][i]=='NEGATIVO':\n",
    "        df['agreement'][i] = 'opp'\n",
    "    else:\n",
    "        df['agreement'][i] = 'not match'\n",
    "        \n",
    "df['matrix_value'] = 0\n",
    "\n",
    "for i in df.index:\n",
    "    if df['score'][i] =='POSITIVO' and df['Label'] [i] =='POSITIVO':\n",
    "        df['matrix_value'][i] = 'VP'\n",
    "    elif df['score'][i] =='NEGATIVO' and df['Label'] [i] =='NEGATIVO':\n",
    "        df['matrix_value'][i] = 'VN'\n",
    "    elif df['score'][i] =='POSITIVO' and df['Label'] [i] !='POSITIVO':\n",
    "        df['matrix_value'][i] = 'FP'\n",
    "    elif df['score'][i] =='NEGATIVO' and df['Label'] [i] !='NEGATIVO': \n",
    "        df['matrix_value'][i] = 'FN'\n",
    "        \n",
    "df[['clean_tweet','Label','polarity','score','agreement','matrix_value']].head()          "
   ]
  },
  {
   "cell_type": "code",
   "execution_count": 14,
   "metadata": {},
   "outputs": [],
   "source": [
    "def accuracy(vp, vn, fp, fn):\n",
    "    ex = (vp+vn)/(vp+fp+fn+vn) #TP+TN/TP+FP+FN+TN\n",
    "    return ex\n",
    "\n",
    "def precision(vp, fp):\n",
    "    pr = vp/(vp+fp) #TP/TP+FP\n",
    "    return pr\n",
    "\n",
    "def recall(vp, fn):\n",
    "    se = vp/(vp+fn) #TP/TP+FN\n",
    "    return se\n",
    "\n",
    "def f1(vn, fp):\n",
    "    es = 2*(recall(vp, fn)*precision(vp, fp)) / (recall(vp, fn)+precision(vp, fp))\n",
    "    return es\n",
    "\n",
    "vp=df['matrix_value'].str.contains('VP').value_counts()[True]\n",
    "vn=df['matrix_value'].str.contains('VN').value_counts()[True]\n",
    "fp=df['matrix_value'].str.contains('FP').value_counts()[True]\n",
    "fn=df['matrix_value'].str.contains('FN').value_counts()[True]"
   ]
  },
  {
   "cell_type": "code",
   "execution_count": 15,
   "metadata": {},
   "outputs": [
    {
     "name": "stdout",
     "output_type": "stream",
     "text": [
      "Accuracy: 0.4773489932885906\n",
      "Precision: 0.3093220338983051\n",
      "Recall: 0.13696060037523453\n",
      "f1-score: 0.18985695708712613\n"
     ]
    }
   ],
   "source": [
    "print('Accuracy: '+ str(accuracy(vp, vn, fp, fn)))\n",
    "print('Precision: '+ str(precision(vp, fp)))\n",
    "print('Recall: '+ str(recall(vp, fn)))\n",
    "print('f1-score: '+ str(f1(vn, fp)))"
   ]
  },
  {
   "cell_type": "code",
   "execution_count": 16,
   "metadata": {},
   "outputs": [
    {
     "data": {
      "text/plain": [
       "match        2194\n",
       "not match    2166\n",
       "opp           212\n",
       "Name: agreement, dtype: int64"
      ]
     },
     "execution_count": 16,
     "metadata": {},
     "output_type": "execute_result"
    }
   ],
   "source": [
    "df['agreement'].value_counts()"
   ]
  },
  {
   "cell_type": "code",
   "execution_count": 17,
   "metadata": {},
   "outputs": [
    {
     "data": {
      "text/plain": [
       "0     3380\n",
       "VN     496\n",
       "FN     460\n",
       "FP     163\n",
       "VP      73\n",
       "Name: matrix_value, dtype: int64"
      ]
     },
     "execution_count": 17,
     "metadata": {},
     "output_type": "execute_result"
    }
   ],
   "source": [
    "df['matrix_value'].value_counts()"
   ]
  },
  {
   "cell_type": "code",
   "execution_count": 18,
   "metadata": {},
   "outputs": [
    {
     "data": {
      "text/plain": [
       "NEUTRO      2036\n",
       "NEGATIVO    1560\n",
       "POSITIVO     976\n",
       "Name: Label, dtype: int64"
      ]
     },
     "execution_count": 18,
     "metadata": {},
     "output_type": "execute_result"
    }
   ],
   "source": [
    "df['Label'].value_counts()"
   ]
  },
  {
   "cell_type": "code",
   "execution_count": 19,
   "metadata": {},
   "outputs": [
    {
     "data": {
      "text/plain": [
       "NEUTRO      3380\n",
       "NEGATIVO     956\n",
       "POSITIVO     236\n",
       "Name: score, dtype: int64"
      ]
     },
     "execution_count": 19,
     "metadata": {},
     "output_type": "execute_result"
    }
   ],
   "source": [
    "df['score'].value_counts()"
   ]
  },
  {
   "cell_type": "code",
   "execution_count": null,
   "metadata": {},
   "outputs": [],
   "source": []
  }
 ],
 "metadata": {
  "kernelspec": {
   "display_name": "Python 3",
   "language": "python",
   "name": "python3"
  },
  "language_info": {
   "codemirror_mode": {
    "name": "ipython",
    "version": 3
   },
   "file_extension": ".py",
   "mimetype": "text/x-python",
   "name": "python",
   "nbconvert_exporter": "python",
   "pygments_lexer": "ipython3",
   "version": "3.7.1"
  }
 },
 "nbformat": 4,
 "nbformat_minor": 2
}
