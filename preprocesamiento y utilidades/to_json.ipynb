{
 "cells": [
  {
   "cell_type": "code",
   "execution_count": 1,
   "metadata": {},
   "outputs": [
    {
     "name": "stderr",
     "output_type": "stream",
     "text": [
      "/anaconda3/lib/python3.7/site-packages/pandas/compat/_optional.py:138: UserWarning: Pandas requires version '2.7.0' or newer of 'numexpr' (version '2.6.8' currently installed).\n",
      "  warnings.warn(msg, UserWarning)\n"
     ]
    }
   ],
   "source": [
    "import json\n",
    "import re\n",
    "import pandas as pd\n",
    "import numpy as np\n",
    "from unicodedata import normalize\n",
    "from wordcloud import WordCloud\n",
    "#from google_trans_new import google_translator  "
   ]
  },
  {
   "cell_type": "code",
   "execution_count": 22,
   "metadata": {},
   "outputs": [
    {
     "data": {
      "text/html": [
       "<div>\n",
       "<style scoped>\n",
       "    .dataframe tbody tr th:only-of-type {\n",
       "        vertical-align: middle;\n",
       "    }\n",
       "\n",
       "    .dataframe tbody tr th {\n",
       "        vertical-align: top;\n",
       "    }\n",
       "\n",
       "    .dataframe thead th {\n",
       "        text-align: right;\n",
       "    }\n",
       "</style>\n",
       "<table border=\"1\" class=\"dataframe\">\n",
       "  <thead>\n",
       "    <tr style=\"text-align: right;\">\n",
       "      <th></th>\n",
       "      <th>Label</th>\n",
       "      <th>Tweet</th>\n",
       "    </tr>\n",
       "  </thead>\n",
       "  <tbody>\n",
       "    <tr>\n",
       "      <th>0</th>\n",
       "      <td>NEUTRO</td>\n",
       "      <td>1401047081121353728-@dulcema201 @BronstonRaqsa02 Protocolo de COVID !!!!</td>\n",
       "    </tr>\n",
       "    <tr>\n",
       "      <th>1</th>\n",
       "      <td>NEUTRO</td>\n",
       "      <td>1258159310162595843-#COVID19 #QuedateEnCasa en Morelia Centro Morelia https://t.co/IEDcchlDvH</td>\n",
       "    </tr>\n",
       "    <tr>\n",
       "      <th>2</th>\n",
       "      <td>NEGATIVO</td>\n",
       "      <td>1272748988626862082-México va en en aumento con el #Covid_19. Tal vez no tengamos la estabilidad de Europa o estados unidos. Para mantener 120 días en paro total. Pero podemos ser precavidos al usar la #SanaDistancia #cubrebocas y caretas al ir a trabajar. #fuerzamexico</td>\n",
       "    </tr>\n",
       "    <tr>\n",
       "      <th>3</th>\n",
       "      <td>NEUTRO</td>\n",
       "      <td>1349385638722883585-@sororavirus Creo en todo y nada. 💜</td>\n",
       "    </tr>\n",
       "    <tr>\n",
       "      <th>4</th>\n",
       "      <td>NEGATIVO</td>\n",
       "      <td>1360615587114844161-@GobiernoMX había prometido 389 0 llegarán 30 000@nuevoleon #COVID19 #vacunacioncovid19 https://t.co/TAPUT2QzXP</td>\n",
       "    </tr>\n",
       "  </tbody>\n",
       "</table>\n",
       "</div>"
      ],
      "text/plain": [
       "      Label  \\\n",
       "0    NEUTRO   \n",
       "1    NEUTRO   \n",
       "2  NEGATIVO   \n",
       "3    NEUTRO   \n",
       "4  NEGATIVO   \n",
       "\n",
       "                                                                                                                                                                                                                                                                            Tweet  \n",
       "0                                                                                                                                                                                 1401047081121353728-@dulcema201 @BronstonRaqsa02 Protocolo de COVID !!!!                         \n",
       "1                                                                                                                                                                                   1258159310162595843-#COVID19 #QuedateEnCasa en Morelia Centro Morelia https://t.co/IEDcchlDvH  \n",
       "2  1272748988626862082-México va en en aumento con el #Covid_19. Tal vez no tengamos la estabilidad de Europa o estados unidos. Para mantener 120 días en paro total. Pero podemos ser precavidos al usar la #SanaDistancia #cubrebocas y caretas al ir a trabajar. #fuerzamexico  \n",
       "3                                                                                                                                                                                                                         1349385638722883585-@sororavirus Creo en todo y nada. 💜  \n",
       "4                                                                                                                         1360615587114844161-@GobiernoMX había prometido 389 0 llegarán 30 000@nuevoleon #COVID19 #vacunacioncovid19 https://t.co/TAPUT2QzXP                      "
      ]
     },
     "execution_count": 22,
     "metadata": {},
     "output_type": "execute_result"
    }
   ],
   "source": [
    "pd.set_option('display.max_colwidth',None)\n",
    "df=pd.read_csv('data/SENT-COVID2.csv')\n",
    "df.columns=['Label', 'Tweet']\n",
    "\n",
    "df.head()"
   ]
  },
  {
   "cell_type": "code",
   "execution_count": 23,
   "metadata": {},
   "outputs": [
    {
     "name": "stderr",
     "output_type": "stream",
     "text": [
      "/anaconda3/lib/python3.7/site-packages/ipykernel_launcher.py:3: SettingWithCopyWarning: \n",
      "A value is trying to be set on a copy of a slice from a DataFrame\n",
      "\n",
      "See the caveats in the documentation: https://pandas.pydata.org/pandas-docs/stable/user_guide/indexing.html#returning-a-view-versus-a-copy\n",
      "  This is separate from the ipykernel package so we can avoid doing imports until\n",
      "/anaconda3/lib/python3.7/site-packages/pandas/core/indexing.py:1732: SettingWithCopyWarning: \n",
      "A value is trying to be set on a copy of a slice from a DataFrame\n",
      "\n",
      "See the caveats in the documentation: https://pandas.pydata.org/pandas-docs/stable/user_guide/indexing.html#returning-a-view-versus-a-copy\n",
      "  self._setitem_single_block(indexer, value, name)\n"
     ]
    },
    {
     "data": {
      "text/html": [
       "<div>\n",
       "<style scoped>\n",
       "    .dataframe tbody tr th:only-of-type {\n",
       "        vertical-align: middle;\n",
       "    }\n",
       "\n",
       "    .dataframe tbody tr th {\n",
       "        vertical-align: top;\n",
       "    }\n",
       "\n",
       "    .dataframe thead th {\n",
       "        text-align: right;\n",
       "    }\n",
       "</style>\n",
       "<table border=\"1\" class=\"dataframe\">\n",
       "  <thead>\n",
       "    <tr style=\"text-align: right;\">\n",
       "      <th></th>\n",
       "      <th>Label</th>\n",
       "      <th>Tweet</th>\n",
       "      <th>id</th>\n",
       "    </tr>\n",
       "  </thead>\n",
       "  <tbody>\n",
       "    <tr>\n",
       "      <th>0</th>\n",
       "      <td>NEUTRO</td>\n",
       "      <td>1401047081121353728-@dulcema201 @BronstonRaqsa02 Protocolo de COVID !!!!</td>\n",
       "      <td>1401047081121353728</td>\n",
       "    </tr>\n",
       "    <tr>\n",
       "      <th>1</th>\n",
       "      <td>NEUTRO</td>\n",
       "      <td>1258159310162595843-#COVID19 #QuedateEnCasa en Morelia Centro Morelia https://t.co/IEDcchlDvH</td>\n",
       "      <td>1258159310162595843</td>\n",
       "    </tr>\n",
       "    <tr>\n",
       "      <th>2</th>\n",
       "      <td>NEGATIVO</td>\n",
       "      <td>1272748988626862082-México va en en aumento con el #Covid_19. Tal vez no tengamos la estabilidad de Europa o estados unidos. Para mantener 120 días en paro total. Pero podemos ser precavidos al usar la #SanaDistancia #cubrebocas y caretas al ir a trabajar. #fuerzamexico</td>\n",
       "      <td>1272748988626862082</td>\n",
       "    </tr>\n",
       "    <tr>\n",
       "      <th>3</th>\n",
       "      <td>NEUTRO</td>\n",
       "      <td>1349385638722883585-@sororavirus Creo en todo y nada. 💜</td>\n",
       "      <td>1349385638722883585</td>\n",
       "    </tr>\n",
       "    <tr>\n",
       "      <th>4</th>\n",
       "      <td>NEGATIVO</td>\n",
       "      <td>1360615587114844161-@GobiernoMX había prometido 389 0 llegarán 30 000@nuevoleon #COVID19 #vacunacioncovid19 https://t.co/TAPUT2QzXP</td>\n",
       "      <td>1360615587114844161</td>\n",
       "    </tr>\n",
       "  </tbody>\n",
       "</table>\n",
       "</div>"
      ],
      "text/plain": [
       "      Label  \\\n",
       "0    NEUTRO   \n",
       "1    NEUTRO   \n",
       "2  NEGATIVO   \n",
       "3    NEUTRO   \n",
       "4  NEGATIVO   \n",
       "\n",
       "                                                                                                                                                                                                                                                                            Tweet  \\\n",
       "0                                                                                                                                                                                 1401047081121353728-@dulcema201 @BronstonRaqsa02 Protocolo de COVID !!!!                          \n",
       "1                                                                                                                                                                                   1258159310162595843-#COVID19 #QuedateEnCasa en Morelia Centro Morelia https://t.co/IEDcchlDvH   \n",
       "2  1272748988626862082-México va en en aumento con el #Covid_19. Tal vez no tengamos la estabilidad de Europa o estados unidos. Para mantener 120 días en paro total. Pero podemos ser precavidos al usar la #SanaDistancia #cubrebocas y caretas al ir a trabajar. #fuerzamexico   \n",
       "3                                                                                                                                                                                                                         1349385638722883585-@sororavirus Creo en todo y nada. 💜   \n",
       "4                                                                                                                         1360615587114844161-@GobiernoMX había prometido 389 0 llegarán 30 000@nuevoleon #COVID19 #vacunacioncovid19 https://t.co/TAPUT2QzXP                       \n",
       "\n",
       "                    id  \n",
       "0  1401047081121353728  \n",
       "1  1258159310162595843  \n",
       "2  1272748988626862082  \n",
       "3  1349385638722883585  \n",
       "4  1360615587114844161  "
      ]
     },
     "execution_count": 23,
     "metadata": {},
     "output_type": "execute_result"
    }
   ],
   "source": [
    "df['id'] = 0\n",
    "for i in df.index:\n",
    "    df['id'][i] = df['Tweet'][i][0:19]\n",
    "\n",
    "df.head()"
   ]
  },
  {
   "cell_type": "code",
   "execution_count": 24,
   "metadata": {},
   "outputs": [
    {
     "data": {
      "text/html": [
       "<div>\n",
       "<style scoped>\n",
       "    .dataframe tbody tr th:only-of-type {\n",
       "        vertical-align: middle;\n",
       "    }\n",
       "\n",
       "    .dataframe tbody tr th {\n",
       "        vertical-align: top;\n",
       "    }\n",
       "\n",
       "    .dataframe thead th {\n",
       "        text-align: right;\n",
       "    }\n",
       "</style>\n",
       "<table border=\"1\" class=\"dataframe\">\n",
       "  <thead>\n",
       "    <tr style=\"text-align: right;\">\n",
       "      <th></th>\n",
       "      <th>Label</th>\n",
       "      <th>Tweet</th>\n",
       "      <th>id</th>\n",
       "    </tr>\n",
       "  </thead>\n",
       "  <tbody>\n",
       "    <tr>\n",
       "      <th>0</th>\n",
       "      <td>NEUTRO</td>\n",
       "      <td>-@dulcema201 @BronstonRaqsa02 Protocolo de COVID !!!!</td>\n",
       "      <td>1401047081121353728</td>\n",
       "    </tr>\n",
       "    <tr>\n",
       "      <th>1</th>\n",
       "      <td>NEUTRO</td>\n",
       "      <td>-#COVID19 #QuedateEnCasa en Morelia Centro Morelia https://t.co/IEDcchlDvH</td>\n",
       "      <td>1258159310162595843</td>\n",
       "    </tr>\n",
       "    <tr>\n",
       "      <th>2</th>\n",
       "      <td>NEGATIVO</td>\n",
       "      <td>-México va en en aumento con el #Covid_19. Tal vez no tengamos la estabilidad de Europa o estados unidos. Para mantener 120 días en paro total. Pero podemos ser precavidos al usar la #SanaDistancia #cubrebocas y caretas al ir a trabajar. #fuerzamexico</td>\n",
       "      <td>1272748988626862082</td>\n",
       "    </tr>\n",
       "    <tr>\n",
       "      <th>3</th>\n",
       "      <td>NEUTRO</td>\n",
       "      <td>-@sororavirus Creo en todo y nada. 💜</td>\n",
       "      <td>1349385638722883585</td>\n",
       "    </tr>\n",
       "    <tr>\n",
       "      <th>4</th>\n",
       "      <td>NEGATIVO</td>\n",
       "      <td>-@GobiernoMX había prometido 389 0 llegarán 30 000@nuevoleon #COVID19 #vacunacioncovid19 https://t.co/TAPUT2QzXP</td>\n",
       "      <td>1360615587114844161</td>\n",
       "    </tr>\n",
       "  </tbody>\n",
       "</table>\n",
       "</div>"
      ],
      "text/plain": [
       "      Label  \\\n",
       "0    NEUTRO   \n",
       "1    NEUTRO   \n",
       "2  NEGATIVO   \n",
       "3    NEUTRO   \n",
       "4  NEGATIVO   \n",
       "\n",
       "                                                                                                                                                                                                                                                         Tweet  \\\n",
       "0                                                                                                                                                                                 -@dulcema201 @BronstonRaqsa02 Protocolo de COVID !!!!                          \n",
       "1                                                                                                                                                                                   -#COVID19 #QuedateEnCasa en Morelia Centro Morelia https://t.co/IEDcchlDvH   \n",
       "2  -México va en en aumento con el #Covid_19. Tal vez no tengamos la estabilidad de Europa o estados unidos. Para mantener 120 días en paro total. Pero podemos ser precavidos al usar la #SanaDistancia #cubrebocas y caretas al ir a trabajar. #fuerzamexico   \n",
       "3                                                                                                                                                                                                                         -@sororavirus Creo en todo y nada. 💜   \n",
       "4                                                                                                                         -@GobiernoMX había prometido 389 0 llegarán 30 000@nuevoleon #COVID19 #vacunacioncovid19 https://t.co/TAPUT2QzXP                       \n",
       "\n",
       "                    id  \n",
       "0  1401047081121353728  \n",
       "1  1258159310162595843  \n",
       "2  1272748988626862082  \n",
       "3  1349385638722883585  \n",
       "4  1360615587114844161  "
      ]
     },
     "execution_count": 24,
     "metadata": {},
     "output_type": "execute_result"
    }
   ],
   "source": [
    "for i in df.index:\n",
    "    df['Tweet'][i] = re.sub(str(df['id'][i]), '', df['Tweet'][i])\n",
    "\n",
    "df.head()\n"
   ]
  },
  {
   "cell_type": "code",
   "execution_count": 25,
   "metadata": {},
   "outputs": [
    {
     "data": {
      "text/plain": [
       "4800"
      ]
     },
     "execution_count": 25,
     "metadata": {},
     "output_type": "execute_result"
    }
   ],
   "source": [
    "len(df)\n",
    "#df['Label'].value_counts()"
   ]
  },
  {
   "cell_type": "code",
   "execution_count": 26,
   "metadata": {},
   "outputs": [
    {
     "data": {
      "text/plain": [
       "4800"
      ]
     },
     "execution_count": 26,
     "metadata": {},
     "output_type": "execute_result"
    }
   ],
   "source": [
    "df['Tweet'].replace(' ', np.nan, inplace=True)\n",
    "df.dropna(subset=['Tweet'], inplace=True)\n",
    "\n",
    "len(df)"
   ]
  },
  {
   "cell_type": "code",
   "execution_count": null,
   "metadata": {},
   "outputs": [],
   "source": [
    "#translator = google_translator()\n",
    "#df['en_tweet']=df['clean_tweet'].apply(lambda x: translator.translate(x, lang_src ='es', lang_tgt='en'))\n",
    "#df[['en_tweet','clean_tweet','Label']].head(15)"
   ]
  },
  {
   "cell_type": "code",
   "execution_count": 12,
   "metadata": {},
   "outputs": [
    {
     "ename": "NameError",
     "evalue": "name 'plt' is not defined",
     "output_type": "error",
     "traceback": [
      "\u001b[0;31m---------------------------------------------------------------------------\u001b[0m",
      "\u001b[0;31mNameError\u001b[0m                                 Traceback (most recent call last)",
      "\u001b[0;32m<ipython-input-12-507bfa9999dd>\u001b[0m in \u001b[0;36m<module>\u001b[0;34m\u001b[0m\n\u001b[1;32m      2\u001b[0m \u001b[0mword_Cloud\u001b[0m \u001b[0;34m=\u001b[0m \u001b[0mWordCloud\u001b[0m\u001b[0;34m(\u001b[0m\u001b[0mwidth\u001b[0m\u001b[0;34m=\u001b[0m\u001b[0;36m500\u001b[0m\u001b[0;34m,\u001b[0m \u001b[0mheight\u001b[0m\u001b[0;34m=\u001b[0m\u001b[0;36m300\u001b[0m\u001b[0;34m,\u001b[0m \u001b[0mrandom_state\u001b[0m\u001b[0;34m=\u001b[0m\u001b[0;36m21\u001b[0m\u001b[0;34m,\u001b[0m \u001b[0mmax_font_size\u001b[0m\u001b[0;34m=\u001b[0m\u001b[0;36m75\u001b[0m\u001b[0;34m)\u001b[0m\u001b[0;34m.\u001b[0m\u001b[0mgenerate\u001b[0m\u001b[0;34m(\u001b[0m\u001b[0mall_words\u001b[0m\u001b[0;34m)\u001b[0m\u001b[0;34m\u001b[0m\u001b[0;34m\u001b[0m\u001b[0m\n\u001b[1;32m      3\u001b[0m \u001b[0;34m\u001b[0m\u001b[0m\n\u001b[0;32m----> 4\u001b[0;31m \u001b[0mplt\u001b[0m\u001b[0;34m.\u001b[0m\u001b[0mimshow\u001b[0m\u001b[0;34m(\u001b[0m\u001b[0mword_Cloud\u001b[0m\u001b[0;34m,\u001b[0m \u001b[0minterpolation\u001b[0m\u001b[0;34m=\u001b[0m\u001b[0;34m'bilinear'\u001b[0m\u001b[0;34m)\u001b[0m\u001b[0;34m\u001b[0m\u001b[0;34m\u001b[0m\u001b[0m\n\u001b[0m\u001b[1;32m      5\u001b[0m \u001b[0mplt\u001b[0m\u001b[0;34m.\u001b[0m\u001b[0maxis\u001b[0m\u001b[0;34m(\u001b[0m\u001b[0;34m'off'\u001b[0m\u001b[0;34m)\u001b[0m\u001b[0;34m\u001b[0m\u001b[0;34m\u001b[0m\u001b[0m\n\u001b[1;32m      6\u001b[0m \u001b[0mplt\u001b[0m\u001b[0;34m.\u001b[0m\u001b[0mshow\u001b[0m\u001b[0;34m(\u001b[0m\u001b[0;34m)\u001b[0m\u001b[0;34m\u001b[0m\u001b[0;34m\u001b[0m\u001b[0m\n",
      "\u001b[0;31mNameError\u001b[0m: name 'plt' is not defined"
     ]
    }
   ],
   "source": [
    "all_words = ' '.join( [twts for twts in df['Tweet']])\n",
    "word_Cloud = WordCloud(width=500, height=300, random_state=21, max_font_size=75).generate(all_words)\n",
    "\n",
    "plt.imshow(word_Cloud, interpolation='bilinear')\n",
    "plt.axis('off')\n",
    "plt.show()\n"
   ]
  },
  {
   "cell_type": "code",
   "execution_count": 27,
   "metadata": {},
   "outputs": [],
   "source": [
    "df.to_json(\"data/SENT-COVID2.json\", orient ='records')"
   ]
  },
  {
   "cell_type": "code",
   "execution_count": null,
   "metadata": {},
   "outputs": [],
   "source": []
  }
 ],
 "metadata": {
  "kernelspec": {
   "display_name": "Python 3.10.4 64-bit",
   "language": "python",
   "name": "python3"
  },
  "language_info": {
   "codemirror_mode": {
    "name": "ipython",
    "version": 3
   },
   "file_extension": ".py",
   "mimetype": "text/x-python",
   "name": "python",
   "nbconvert_exporter": "python",
   "pygments_lexer": "ipython3",
   "version": "3.10.4"
  },
  "vscode": {
   "interpreter": {
    "hash": "aee8b7b246df8f9039afb4144a1f6fd8d2ca17a180786b69acc140d282b71a49"
   }
  }
 },
 "nbformat": 4,
 "nbformat_minor": 2
}
