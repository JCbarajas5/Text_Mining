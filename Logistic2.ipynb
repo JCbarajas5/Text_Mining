{
 "cells": [
  {
   "cell_type": "code",
   "execution_count": 2,
   "metadata": {},
   "outputs": [
    {
     "name": "stderr",
     "output_type": "stream",
     "text": [
      "/anaconda3/lib/python3.7/site-packages/pandas/compat/_optional.py:138: UserWarning: Pandas requires version '2.7.0' or newer of 'numexpr' (version '2.6.8' currently installed).\n",
      "  warnings.warn(msg, UserWarning)\n"
     ]
    }
   ],
   "source": [
    "import json\n",
    "import re\n",
    "import nltk\n",
    "import emoji\n",
    "import numpy as np\n",
    "import pandas as pd\n",
    "import matplotlib.pyplot as plt\n",
    "\n",
    "from wordcloud import WordCloud\n",
    "from pysentimiento.preprocessing import preprocess_tweet"
   ]
  },
  {
   "cell_type": "markdown",
   "metadata": {},
   "source": [
    "## Dataset: SENT-COVID"
   ]
  },
  {
   "cell_type": "code",
   "execution_count": 1,
   "metadata": {},
   "outputs": [
    {
     "ename": "NameError",
     "evalue": "name 'json' is not defined",
     "output_type": "error",
     "traceback": [
      "\u001b[0;31m---------------------------------------------------------------------------\u001b[0m",
      "\u001b[0;31mNameError\u001b[0m                                 Traceback (most recent call last)",
      "\u001b[0;32m<ipython-input-1-890230cf7c42>\u001b[0m in \u001b[0;36m<module>\u001b[0;34m\u001b[0m\n\u001b[1;32m      1\u001b[0m \u001b[0;32mwith\u001b[0m \u001b[0mopen\u001b[0m\u001b[0;34m(\u001b[0m\u001b[0;34m'data/SENT-COVID.json'\u001b[0m\u001b[0;34m)\u001b[0m \u001b[0;32mas\u001b[0m \u001b[0mfile\u001b[0m\u001b[0;34m:\u001b[0m\u001b[0;34m\u001b[0m\u001b[0;34m\u001b[0m\u001b[0m\n\u001b[0;32m----> 2\u001b[0;31m     \u001b[0mdata\u001b[0m \u001b[0;34m=\u001b[0m \u001b[0mjson\u001b[0m\u001b[0;34m.\u001b[0m\u001b[0mload\u001b[0m\u001b[0;34m(\u001b[0m\u001b[0mfile\u001b[0m\u001b[0;34m)\u001b[0m\u001b[0;34m\u001b[0m\u001b[0;34m\u001b[0m\u001b[0m\n\u001b[0m\u001b[1;32m      3\u001b[0m \u001b[0;34m\u001b[0m\u001b[0m\n\u001b[1;32m      4\u001b[0m \u001b[0mpd\u001b[0m\u001b[0;34m.\u001b[0m\u001b[0moptions\u001b[0m\u001b[0;34m.\u001b[0m\u001b[0mmode\u001b[0m\u001b[0;34m.\u001b[0m\u001b[0mchained_assignment\u001b[0m \u001b[0;34m=\u001b[0m \u001b[0;32mNone\u001b[0m\u001b[0;34m\u001b[0m\u001b[0;34m\u001b[0m\u001b[0m\n\u001b[1;32m      5\u001b[0m \u001b[0mpd\u001b[0m\u001b[0;34m.\u001b[0m\u001b[0mset_option\u001b[0m\u001b[0;34m(\u001b[0m\u001b[0;34m'display.max_colwidth'\u001b[0m\u001b[0;34m,\u001b[0m\u001b[0;32mNone\u001b[0m\u001b[0;34m)\u001b[0m\u001b[0;34m\u001b[0m\u001b[0;34m\u001b[0m\u001b[0m\n",
      "\u001b[0;31mNameError\u001b[0m: name 'json' is not defined"
     ]
    }
   ],
   "source": [
    "with open('data/SENT-COVID.json') as file:\n",
    "    data = json.load(file)\n",
    "    \n",
    "pd.options.mode.chained_assignment = None                                         \n",
    "pd.set_option('display.max_colwidth',None)   \n",
    "\n",
    "\n",
    "df = pd.DataFrame(data)\n",
    "print('Numero de tweets: ' + str(len(df)))\n",
    "df.head()"
   ]
  },
  {
   "cell_type": "code",
   "execution_count": 18,
   "metadata": {},
   "outputs": [
    {
     "data": {
      "text/plain": [
       "NEUTRO      2058\n",
       "NEGATIVO    1560\n",
       "POSITIVO     976\n",
       "Name: Label, dtype: int64"
      ]
     },
     "execution_count": 18,
     "metadata": {},
     "output_type": "execute_result"
    }
   ],
   "source": [
    "df['Label'].value_counts()"
   ]
  },
  {
   "cell_type": "markdown",
   "metadata": {},
   "source": [
    "## Pre-procesamiento"
   ]
  },
  {
   "cell_type": "code",
   "execution_count": 21,
   "metadata": {},
   "outputs": [],
   "source": [
    "def clean_tweet(text):\n",
    "  text = re.sub(r'[~^0-9]', '', text) #numeros\n",
    "  text = re.sub(\"\\\\s+\", ' ', text) ##Espacios blancos dobles\n",
    "  text = re.sub('\\n', ' ', text) ##Saltos de linea\n",
    "\n",
    "  pattern = r'([.])([A-Z#@¿])'\n",
    "  pattern2 = r'([-])([a-zA-Z#@¿])'\n",
    "  pattern3 = r'([a-zA-Z])([#@¿])'\n",
    "  pattern4 = r'([:!])([a-zA-Z#@¿])'\n",
    "  text = re.sub(pattern, r'\\1 \\2', text) # Separacion de punto seguido por una mayuscula\n",
    "  text = re.sub(pattern2, r'\\1 \\2', text)\n",
    "  text = re.sub(pattern3, r'\\1 \\2', text)\n",
    "  text = re.sub(pattern4, r'\\1 \\2', text)\n",
    "  return text \n",
    "\n",
    "\n",
    "def preprocess(text):  # Preprocesamiento de pysentimiento   \n",
    "  return preprocess_tweet(text, normalize_laughter=True, shorten=2, \n",
    "                          emoji_wrapper='', user_token='', url_token='')  \n",
    "\n",
    "\n",
    "def normalize(text):\n",
    " pattern2 = r'([a-zA-Z])([.])'\n",
    " pattern3 = r'([.])([a-zA-Z])'\n",
    " text = re.sub(pattern2, r'\\1 \\2', text)\n",
    " text = re.sub(pattern3, r'\\1 \\2', text)\n",
    " \n",
    " text = \"\".join(u for u in text if u not in (\"?\",\"¿\", \".\", \";\", \":\", \"!\",\"¡\",'\"',\"%\",\"“\",\"”\",\"$\",\"&\",\"'\",\"\\\\\", \"(\",\")\",\n",
    "                                             \"*\",\"+\",\",\",\"/\",\"<\",\">\",\"=\",\"^\",\"•\",\"...\", \"ç\",\"π\",\"ⓘ\", \"-\", \"_\",\"#\",\"|\"))\n",
    " a,b = 'áéíóúÁÉÍÓÚ','aeiouAEIOU'\n",
    " trans = str.maketrans(a,b)     \n",
    " text = text.translate(trans) # Reemplazo de palabras acentuadas       \n",
    "\n",
    " pattern  = r'([a-z])([A-Z-])'\n",
    " text = re.sub(pattern, r'\\1 \\2', text)\n",
    "\n",
    " #text = re.sub(r'@[A-Za-z0-9_]+', '', text)\n",
    " text = text.lower()\n",
    " return text  \n",
    "\n",
    "\n",
    "def tokenize(text):    \n",
    "  text= text.split(sep = ' ')  # Tokenización por palabras individuales\n",
    "  text= [token for token in text if len(token) > 1]  # Eliminación de tokens con una longitud < 2\n",
    "  return(text) \n",
    "\n",
    "\n",
    "def labels(label):\n",
    "  if label == 'POSITIVO':\n",
    "    label=2\n",
    "  elif label == 'NEUTRO':\n",
    "     label=1\n",
    "  else:\n",
    "     label=0\n",
    "  return(label)   "
   ]
  },
  {
   "cell_type": "code",
   "execution_count": 22,
   "metadata": {},
   "outputs": [
    {
     "data": {
      "text/html": [
       "<div>\n",
       "<style scoped>\n",
       "    .dataframe tbody tr th:only-of-type {\n",
       "        vertical-align: middle;\n",
       "    }\n",
       "\n",
       "    .dataframe tbody tr th {\n",
       "        vertical-align: top;\n",
       "    }\n",
       "\n",
       "    .dataframe thead th {\n",
       "        text-align: right;\n",
       "    }\n",
       "</style>\n",
       "<table border=\"1\" class=\"dataframe\">\n",
       "  <thead>\n",
       "    <tr style=\"text-align: right;\">\n",
       "      <th></th>\n",
       "      <th>Tweet</th>\n",
       "      <th>norm_tweet</th>\n",
       "      <th>Label</th>\n",
       "    </tr>\n",
       "  </thead>\n",
       "  <tbody>\n",
       "    <tr>\n",
       "      <th>95</th>\n",
       "      <td>-#SNTEsalud ⚕️⚠️ ALERTA ⚠️ México vive alto contagio #coronavirus #COVID19 🦠 Ante síntomas no te automediques 💊🚫 ni tomes fármacos que prometen curar el #COVID 💊❌ y llama al 📲 800 00 44 800📱#QuedateEnCasa#FelizViernes #22DeMayo México #Sección35 #FelizFinde #RT https://t.co/wNIfhlJflO</td>\n",
       "      <td>sntesalud   simbolo de medicina    advertencia   alerta   advertencia   mexico vive alto contagio coronavirus covid   microbio   ante sintomas no te automediques   pildora    prohibido   ni tomes farmacos que prometen curar el covid   pildora    marca de cruz   y llama al   movil con una flecha     telefono movil  quedate en casa feliz viernes de mayo mexico seccion feliz finde rt</td>\n",
       "      <td>NEGATIVO</td>\n",
       "    </tr>\n",
       "    <tr>\n",
       "      <th>96</th>\n",
       "      <td>-@LOVREGA @FelipeCalderon Pues como foca aplaudidora te queda bien el papel</td>\n",
       "      <td>pues como foca aplaudidora te queda bien el papel</td>\n",
       "      <td>NEGATIVO</td>\n",
       "    </tr>\n",
       "    <tr>\n",
       "      <th>97</th>\n",
       "      <td>-\"No habrá un \"\"regreso a la normalidad\"\" en el mundo tras la pandemia de covid-19 https://t.co/bRO7munVtA vía @UniNoticias @dadams7308\"</td>\n",
       "      <td>no habra un regreso a la normalidad en el mundo tras la pandemia de covid  via</td>\n",
       "      <td>NEGATIVO</td>\n",
       "    </tr>\n",
       "    <tr>\n",
       "      <th>98</th>\n",
       "      <td>-Ya le hizo daño la vacuna.Cuando yo vivía en Alemania todo era paz y tranquilidad</td>\n",
       "      <td>ya le hizo daño la vacuna  cuando yo vivia en alemania todo era paz y tranquilidad</td>\n",
       "      <td>NEGATIVO</td>\n",
       "    </tr>\n",
       "    <tr>\n",
       "      <th>99</th>\n",
       "      <td>-Marcarle a mi preciosita en momento de crisis. 🥺🥺🥺</td>\n",
       "      <td>marcarle a mi preciosita en momento de crisis    cara de por favor    cara de por favor</td>\n",
       "      <td>POSITIVO</td>\n",
       "    </tr>\n",
       "    <tr>\n",
       "      <th>100</th>\n",
       "      <td>-@albertoviruete @nenulo Esos hermanos Negrete una bola de vividores</td>\n",
       "      <td>esos hermanos negrete una bola de vividores</td>\n",
       "      <td>NEGATIVO</td>\n",
       "    </tr>\n",
       "    <tr>\n",
       "      <th>101</th>\n",
       "      <td>-\"@rayados está en crisis- la Crisis https://t.co/aAYKlKFfFS\"</td>\n",
       "      <td>esta en crisis la crisis</td>\n",
       "      <td>NEUTRO</td>\n",
       "    </tr>\n",
       "    <tr>\n",
       "      <th>102</th>\n",
       "      <td>-Uff 😥 🦠🦠🦠#QuedateEnCasa🏡 #Coahuila #Mexico 😢</td>\n",
       "      <td>uff   cara triste pero aliviada     microbio    microbio  quedate en casa  casa con jardin   coahuila mexico   cara llorando</td>\n",
       "      <td>NEGATIVO</td>\n",
       "    </tr>\n",
       "    <tr>\n",
       "      <th>103</th>\n",
       "      <td>-No sé qué tanto maman con #LadyVacuna</td>\n",
       "      <td>no se que tanto maman con lady vacuna</td>\n",
       "      <td>NEUTRO</td>\n",
       "    </tr>\n",
       "    <tr>\n",
       "      <th>104</th>\n",
       "      <td>-\"@19991007 @soylajefita Ojo</td>\n",
       "      <td>ojo</td>\n",
       "      <td>NEUTRO</td>\n",
       "    </tr>\n",
       "  </tbody>\n",
       "</table>\n",
       "</div>"
      ],
      "text/plain": [
       "                                                                                                                                                                                                                                                                                             Tweet  \\\n",
       "95   -#SNTEsalud ⚕️⚠️ ALERTA ⚠️ México vive alto contagio #coronavirus #COVID19 🦠 Ante síntomas no te automediques 💊🚫 ni tomes fármacos que prometen curar el #COVID 💊❌ y llama al 📲 800 00 44 800📱#QuedateEnCasa#FelizViernes #22DeMayo México #Sección35 #FelizFinde #RT https://t.co/wNIfhlJflO   \n",
       "96                                                                                                                                                                                                                     -@LOVREGA @FelipeCalderon Pues como foca aplaudidora te queda bien el papel   \n",
       "97                                                                                                                                                        -\"No habrá un \"\"regreso a la normalidad\"\" en el mundo tras la pandemia de covid-19 https://t.co/bRO7munVtA vía @UniNoticias @dadams7308\"   \n",
       "98                                                                                                                                                                                                              -Ya le hizo daño la vacuna.Cuando yo vivía en Alemania todo era paz y tranquilidad   \n",
       "99                                                                                                                                                                                                                                             -Marcarle a mi preciosita en momento de crisis. 🥺🥺🥺   \n",
       "100                                                                                                                                                                                                                           -@albertoviruete @nenulo Esos hermanos Negrete una bola de vividores   \n",
       "101                                                                                                                                                                                                                                  -\"@rayados está en crisis- la Crisis https://t.co/aAYKlKFfFS\"   \n",
       "102                                                                                                                                                                                                                                                  -Uff 😥 🦠🦠🦠#QuedateEnCasa🏡 #Coahuila #Mexico 😢   \n",
       "103                                                                                                                                                                                                                                                         -No sé qué tanto maman con #LadyVacuna   \n",
       "104                                                                                                                                                                                                                                                                   -\"@19991007 @soylajefita Ojo   \n",
       "\n",
       "                                                                                                                                                                                                                                                                                                                                                                                           norm_tweet  \\\n",
       "95    sntesalud   simbolo de medicina    advertencia   alerta   advertencia   mexico vive alto contagio coronavirus covid   microbio   ante sintomas no te automediques   pildora    prohibido   ni tomes farmacos que prometen curar el covid   pildora    marca de cruz   y llama al   movil con una flecha     telefono movil  quedate en casa feliz viernes de mayo mexico seccion feliz finde rt   \n",
       "96                                                                                                                                                                                                                                                                                                                                                  pues como foca aplaudidora te queda bien el papel   \n",
       "97                                                                                                                                                                                                                                                                                                                   no habra un regreso a la normalidad en el mundo tras la pandemia de covid  via     \n",
       "98                                                                                                                                                                                                                                                                                                                 ya le hizo daño la vacuna  cuando yo vivia en alemania todo era paz y tranquilidad   \n",
       "99                                                                                                                                                                                                                                                                                                            marcarle a mi preciosita en momento de crisis    cara de por favor    cara de por favor   \n",
       "100                                                                                                                                                                                                                                                                                                                                                       esos hermanos negrete una bola de vividores   \n",
       "101                                                                                                                                                                                                                                                                                                                                                                         esta en crisis la crisis    \n",
       "102                                                                                                                                                                                                                                                                      uff   cara triste pero aliviada     microbio    microbio  quedate en casa  casa con jardin   coahuila mexico   cara llorando   \n",
       "103                                                                                                                                                                                                                                                                                                                                                             no se que tanto maman con lady vacuna   \n",
       "104                                                                                                                                                                                                                                                                                                                                                                                               ojo   \n",
       "\n",
       "        Label  \n",
       "95   NEGATIVO  \n",
       "96   NEGATIVO  \n",
       "97   NEGATIVO  \n",
       "98   NEGATIVO  \n",
       "99   POSITIVO  \n",
       "100  NEGATIVO  \n",
       "101    NEUTRO  \n",
       "102  NEGATIVO  \n",
       "103    NEUTRO  \n",
       "104    NEUTRO  "
      ]
     },
     "execution_count": 22,
     "metadata": {},
     "output_type": "execute_result"
    }
   ],
   "source": [
    "df['clean_tweet'] = df['Tweet'].apply(clean_tweet) \n",
    "df['preprocess_tweet'] = df['clean_tweet'].apply(preprocess)\n",
    "df['norm_tweet'] = df['preprocess_tweet'].apply(normalize)\n",
    "df['tokenized_tweet'] = df['norm_tweet'].apply(tokenize)\n",
    "df['class'] = df['Label'].apply(labels)\n",
    "\n",
    "df[['Tweet','norm_tweet','Label']][95:105]"
   ]
  },
  {
   "cell_type": "markdown",
   "metadata": {},
   "source": [
    "## Lemmatizacion"
   ]
  },
  {
   "cell_type": "code",
   "execution_count": 23,
   "metadata": {},
   "outputs": [],
   "source": [
    "import spacy\n",
    "from nltk.stem.snowball import SnowballStemmer\n",
    "\n",
    "sp = spacy.load('es_core_news_sm')\n",
    "\n",
    "def lemmatization(text):\n",
    "    doc = sp(text)\n",
    "    return ' '.join([word.lemma_ for word in doc]) \n",
    "\n",
    "#stemmer = SnowballStemmer('spanish')\n",
    "#stemmed_spanish = [stemmer.stem(item) for item in spanish_words]"
   ]
  },
  {
   "cell_type": "code",
   "execution_count": 24,
   "metadata": {},
   "outputs": [
    {
     "data": {
      "text/html": [
       "<div>\n",
       "<style scoped>\n",
       "    .dataframe tbody tr th:only-of-type {\n",
       "        vertical-align: middle;\n",
       "    }\n",
       "\n",
       "    .dataframe tbody tr th {\n",
       "        vertical-align: top;\n",
       "    }\n",
       "\n",
       "    .dataframe thead th {\n",
       "        text-align: right;\n",
       "    }\n",
       "</style>\n",
       "<table border=\"1\" class=\"dataframe\">\n",
       "  <thead>\n",
       "    <tr style=\"text-align: right;\">\n",
       "      <th></th>\n",
       "      <th>Label</th>\n",
       "      <th>norm_tweet</th>\n",
       "      <th>lem_tweet</th>\n",
       "      <th>tokenized_tweet</th>\n",
       "      <th>lemtokenized_tweet</th>\n",
       "    </tr>\n",
       "  </thead>\n",
       "  <tbody>\n",
       "    <tr>\n",
       "      <th>100</th>\n",
       "      <td>NEGATIVO</td>\n",
       "      <td>esos hermanos negrete una bola de vividores</td>\n",
       "      <td>ese hermano negretir uno bola de vividor</td>\n",
       "      <td>[esos, hermanos, negrete, una, bola, de, vividores]</td>\n",
       "      <td>[ese, hermano, negretir, uno, bola, de, vividor]</td>\n",
       "    </tr>\n",
       "    <tr>\n",
       "      <th>101</th>\n",
       "      <td>NEUTRO</td>\n",
       "      <td>esta en crisis la crisis</td>\n",
       "      <td>este en crisis el crisis</td>\n",
       "      <td>[esta, en, crisis, la, crisis]</td>\n",
       "      <td>[este, en, crisis, el, crisis]</td>\n",
       "    </tr>\n",
       "    <tr>\n",
       "      <th>102</th>\n",
       "      <td>NEGATIVO</td>\n",
       "      <td>uff   cara triste pero aliviada     microbio    microbio  quedate en casa  casa con jardin   coahuila mexico   cara llorando</td>\n",
       "      <td>uff    cara triste pero aliviado      microbio     microbio   quedate en casa   casa con jardin    coahuila mexico    caro llorar</td>\n",
       "      <td>[uff, cara, triste, pero, aliviada, microbio, microbio, quedate, en, casa, casa, con, jardin, coahuila, mexico, cara, llorando]</td>\n",
       "      <td>[uff, cara, triste, pero, aliviado, microbio, microbio, quedate, en, casa, casa, con, jardin, coahuila, mexico, caro, llorar]</td>\n",
       "    </tr>\n",
       "    <tr>\n",
       "      <th>103</th>\n",
       "      <td>NEUTRO</td>\n",
       "      <td>no se que tanto maman con lady vacuna</td>\n",
       "      <td>no él que tanto mamar con lady vacuna</td>\n",
       "      <td>[no, se, que, tanto, maman, con, lady, vacuna]</td>\n",
       "      <td>[no, él, que, tanto, mamar, con, lady, vacuna]</td>\n",
       "    </tr>\n",
       "    <tr>\n",
       "      <th>104</th>\n",
       "      <td>NEUTRO</td>\n",
       "      <td>ojo</td>\n",
       "      <td>ojo</td>\n",
       "      <td>[ojo]</td>\n",
       "      <td>[ojo]</td>\n",
       "    </tr>\n",
       "    <tr>\n",
       "      <th>105</th>\n",
       "      <td>NEUTRO</td>\n",
       "      <td>hoy en el programa  versiones raras</td>\n",
       "      <td>hoy en el programa   versión rara</td>\n",
       "      <td>[hoy, en, el, programa, versiones, raras]</td>\n",
       "      <td>[hoy, en, el, programa, versión, rara]</td>\n",
       "    </tr>\n",
       "    <tr>\n",
       "      <th>106</th>\n",
       "      <td>NEUTRO</td>\n",
       "      <td>hoy participamos nuevamente para el programa de opinion yo creo</td>\n",
       "      <td>hoy participamos nuevamente para el programa de opinion yo creer</td>\n",
       "      <td>[hoy, participamos, nuevamente, para, el, programa, de, opinion, yo, creo]</td>\n",
       "      <td>[hoy, participamos, nuevamente, para, el, programa, de, opinion, yo, creer]</td>\n",
       "    </tr>\n",
       "    <tr>\n",
       "      <th>107</th>\n",
       "      <td>NEUTRO</td>\n",
       "      <td>flexibilidad</td>\n",
       "      <td>flexibilidad</td>\n",
       "      <td>[flexibilidad]</td>\n",
       "      <td>[flexibilidad]</td>\n",
       "    </tr>\n",
       "    <tr>\n",
       "      <th>108</th>\n",
       "      <td>POSITIVO</td>\n",
       "      <td>dios los cuide y les conceda una pronta recuperacion  y que cuide y bendiga a aquellos que aun no han presentado sintomas de contagio</td>\n",
       "      <td>dio él cuide y él concedar uno pronto recuperacion   y que cuidir y bendiga a aquel que aun no haber presentar sintoma de contagio</td>\n",
       "      <td>[dios, los, cuide, les, conceda, una, pronta, recuperacion, que, cuide, bendiga, aquellos, que, aun, no, han, presentado, sintomas, de, contagio]</td>\n",
       "      <td>[dio, él, cuide, él, concedar, uno, pronto, recuperacion, que, cuidir, bendiga, aquel, que, aun, no, haber, presentar, sintoma, de, contagio]</td>\n",
       "    </tr>\n",
       "    <tr>\n",
       "      <th>109</th>\n",
       "      <td>NEGATIVO</td>\n",
       "      <td>y las sanciones para  y  por el terrible manejo de la crisis que</td>\n",
       "      <td>y el sanción para   y   por el terrible manejo de el crisis que</td>\n",
       "      <td>[las, sanciones, para, por, el, terrible, manejo, de, la, crisis, que]</td>\n",
       "      <td>[el, sanción, para, por, el, terrible, manejo, de, el, crisis, que]</td>\n",
       "    </tr>\n",
       "  </tbody>\n",
       "</table>\n",
       "</div>"
      ],
      "text/plain": [
       "        Label  \\\n",
       "100  NEGATIVO   \n",
       "101    NEUTRO   \n",
       "102  NEGATIVO   \n",
       "103    NEUTRO   \n",
       "104    NEUTRO   \n",
       "105    NEUTRO   \n",
       "106    NEUTRO   \n",
       "107    NEUTRO   \n",
       "108  POSITIVO   \n",
       "109  NEGATIVO   \n",
       "\n",
       "                                                                                                                                   norm_tweet  \\\n",
       "100                                                                                               esos hermanos negrete una bola de vividores   \n",
       "101                                                                                                                 esta en crisis la crisis    \n",
       "102              uff   cara triste pero aliviada     microbio    microbio  quedate en casa  casa con jardin   coahuila mexico   cara llorando   \n",
       "103                                                                                                     no se que tanto maman con lady vacuna   \n",
       "104                                                                                                                                       ojo   \n",
       "105                                                                                                       hoy en el programa  versiones raras   \n",
       "106                                                                           hoy participamos nuevamente para el programa de opinion yo creo   \n",
       "107                                                                                                                              flexibilidad   \n",
       "108    dios los cuide y les conceda una pronta recuperacion  y que cuide y bendiga a aquellos que aun no han presentado sintomas de contagio    \n",
       "109                                                                          y las sanciones para  y  por el terrible manejo de la crisis que   \n",
       "\n",
       "                                                                                                                                 lem_tweet  \\\n",
       "100                                                                                               ese hermano negretir uno bola de vividor   \n",
       "101                                                                                                               este en crisis el crisis   \n",
       "102      uff    cara triste pero aliviado      microbio     microbio   quedate en casa   casa con jardin    coahuila mexico    caro llorar   \n",
       "103                                                                                                  no él que tanto mamar con lady vacuna   \n",
       "104                                                                                                                                    ojo   \n",
       "105                                                                                                      hoy en el programa   versión rara   \n",
       "106                                                                       hoy participamos nuevamente para el programa de opinion yo creer   \n",
       "107                                                                                                                           flexibilidad   \n",
       "108     dio él cuide y él concedar uno pronto recuperacion   y que cuidir y bendiga a aquel que aun no haber presentar sintoma de contagio   \n",
       "109                                                                        y el sanción para   y   por el terrible manejo de el crisis que   \n",
       "\n",
       "                                                                                                                                       tokenized_tweet  \\\n",
       "100                                                                                                [esos, hermanos, negrete, una, bola, de, vividores]   \n",
       "101                                                                                                                     [esta, en, crisis, la, crisis]   \n",
       "102                    [uff, cara, triste, pero, aliviada, microbio, microbio, quedate, en, casa, casa, con, jardin, coahuila, mexico, cara, llorando]   \n",
       "103                                                                                                     [no, se, que, tanto, maman, con, lady, vacuna]   \n",
       "104                                                                                                                                              [ojo]   \n",
       "105                                                                                                          [hoy, en, el, programa, versiones, raras]   \n",
       "106                                                                         [hoy, participamos, nuevamente, para, el, programa, de, opinion, yo, creo]   \n",
       "107                                                                                                                                     [flexibilidad]   \n",
       "108  [dios, los, cuide, les, conceda, una, pronta, recuperacion, que, cuide, bendiga, aquellos, que, aun, no, han, presentado, sintomas, de, contagio]   \n",
       "109                                                                             [las, sanciones, para, por, el, terrible, manejo, de, la, crisis, que]   \n",
       "\n",
       "                                                                                                                                lemtokenized_tweet  \n",
       "100                                                                                               [ese, hermano, negretir, uno, bola, de, vividor]  \n",
       "101                                                                                                                 [este, en, crisis, el, crisis]  \n",
       "102                  [uff, cara, triste, pero, aliviado, microbio, microbio, quedate, en, casa, casa, con, jardin, coahuila, mexico, caro, llorar]  \n",
       "103                                                                                                 [no, él, que, tanto, mamar, con, lady, vacuna]  \n",
       "104                                                                                                                                          [ojo]  \n",
       "105                                                                                                         [hoy, en, el, programa, versión, rara]  \n",
       "106                                                                    [hoy, participamos, nuevamente, para, el, programa, de, opinion, yo, creer]  \n",
       "107                                                                                                                                 [flexibilidad]  \n",
       "108  [dio, él, cuide, él, concedar, uno, pronto, recuperacion, que, cuidir, bendiga, aquel, que, aun, no, haber, presentar, sintoma, de, contagio]  \n",
       "109                                                                            [el, sanción, para, por, el, terrible, manejo, de, el, crisis, que]  "
      ]
     },
     "execution_count": 24,
     "metadata": {},
     "output_type": "execute_result"
    }
   ],
   "source": [
    "df['lem_tweet'] = df['norm_tweet'].apply(lemmatization)\n",
    "df['lemtokenized_tweet'] = df['lem_tweet'].apply(tokenize)\n",
    "df[['Label', 'norm_tweet','lem_tweet','tokenized_tweet','lemtokenized_tweet']][100:110]"
   ]
  },
  {
   "cell_type": "markdown",
   "metadata": {},
   "source": [
    "## Stopwords"
   ]
  },
  {
   "cell_type": "code",
   "execution_count": 59,
   "metadata": {},
   "outputs": [
    {
     "name": "stdout",
     "output_type": "stream",
     "text": [
      "['de', 'la', 'que', 'el', 'en', 'y', 'a', 'los', 'del', 'se', 'las', 'por', 'un', 'para', 'con', 'no', 'una', 'su', 'al', 'lo', 'como', 'más', 'pero', 'sus', 'le', 'ya', 'o', 'este', 'sí', 'porque', 'esta', 'entre', 'cuando', 'muy', 'sin', 'sobre', 'también', 'me', 'hasta', 'hay', 'donde', 'quien', 'desde', 'todo', 'nos', 'durante', 'todos', 'uno', 'les', 'ni', 'contra', 'otros', 'ese', 'eso', 'ante', 'ellos', 'e', 'esto', 'mí', 'antes', 'algunos', 'qué', 'unos', 'yo', 'otro', 'otras', 'otra', 'él', 'tanto', 'esa', 'estos', 'mucho', 'quienes', 'nada', 'muchos', 'cual', 'poco', 'ella', 'estar', 'estas', 'algunas', 'algo', 'nosotros', 'mi', 'mis', 'tú', 'te', 'ti', 'tu', 'tus', 'ellas', 'nosotras', 'vosotros', 'vosotras', 'os', 'mío', 'mía', 'míos', 'mías', 'tuyo']\n"
     ]
    },
    {
     "data": {
      "text/html": [
       "<div>\n",
       "<style scoped>\n",
       "    .dataframe tbody tr th:only-of-type {\n",
       "        vertical-align: middle;\n",
       "    }\n",
       "\n",
       "    .dataframe tbody tr th {\n",
       "        vertical-align: top;\n",
       "    }\n",
       "\n",
       "    .dataframe thead th {\n",
       "        text-align: right;\n",
       "    }\n",
       "</style>\n",
       "<table border=\"1\" class=\"dataframe\">\n",
       "  <thead>\n",
       "    <tr style=\"text-align: right;\">\n",
       "      <th></th>\n",
       "      <th>Label</th>\n",
       "      <th>lemtokenized_tweet</th>\n",
       "      <th>lemtoksw_tweet</th>\n",
       "    </tr>\n",
       "  </thead>\n",
       "  <tbody>\n",
       "    <tr>\n",
       "      <th>100</th>\n",
       "      <td>NEGATIVO</td>\n",
       "      <td>[ese, hermano, negretir, uno, bola, de, vividor]</td>\n",
       "      <td>[hermano, negretir, bola, vividor]</td>\n",
       "    </tr>\n",
       "    <tr>\n",
       "      <th>101</th>\n",
       "      <td>NEUTRO</td>\n",
       "      <td>[este, en, crisis, el, crisis]</td>\n",
       "      <td>[crisis, crisis]</td>\n",
       "    </tr>\n",
       "    <tr>\n",
       "      <th>102</th>\n",
       "      <td>NEGATIVO</td>\n",
       "      <td>[uff, cara, triste, pero, aliviado, microbio, microbio, quedate, en, casa, casa, con, jardin, coahuila, mexico, caro, llorar]</td>\n",
       "      <td>[uff, cara, triste, aliviado, microbio, microbio, quedate, casa, casa, jardin, coahuila, mexico, caro, llorar]</td>\n",
       "    </tr>\n",
       "    <tr>\n",
       "      <th>103</th>\n",
       "      <td>NEUTRO</td>\n",
       "      <td>[no, él, que, tanto, mamar, con, lady, vacuna]</td>\n",
       "      <td>[mamar, lady, vacuna]</td>\n",
       "    </tr>\n",
       "    <tr>\n",
       "      <th>104</th>\n",
       "      <td>NEUTRO</td>\n",
       "      <td>[ojo]</td>\n",
       "      <td>[ojo]</td>\n",
       "    </tr>\n",
       "    <tr>\n",
       "      <th>105</th>\n",
       "      <td>NEUTRO</td>\n",
       "      <td>[hoy, en, el, programa, versión, rara]</td>\n",
       "      <td>[hoy, programa, versión, rara]</td>\n",
       "    </tr>\n",
       "    <tr>\n",
       "      <th>106</th>\n",
       "      <td>NEUTRO</td>\n",
       "      <td>[hoy, participamos, nuevamente, para, el, programa, de, opinion, yo, creer]</td>\n",
       "      <td>[hoy, participamos, nuevamente, programa, opinion, creer]</td>\n",
       "    </tr>\n",
       "    <tr>\n",
       "      <th>107</th>\n",
       "      <td>NEUTRO</td>\n",
       "      <td>[flexibilidad]</td>\n",
       "      <td>[flexibilidad]</td>\n",
       "    </tr>\n",
       "    <tr>\n",
       "      <th>108</th>\n",
       "      <td>POSITIVO</td>\n",
       "      <td>[dio, él, cuide, él, concedar, uno, pronto, recuperacion, que, cuidir, bendiga, aquel, que, aun, no, haber, presentar, sintoma, de, contagio]</td>\n",
       "      <td>[dio, cuide, concedar, pronto, recuperacion, cuidir, bendiga, aquel, aun, haber, presentar, sintoma, contagio]</td>\n",
       "    </tr>\n",
       "    <tr>\n",
       "      <th>109</th>\n",
       "      <td>NEGATIVO</td>\n",
       "      <td>[el, sanción, para, por, el, terrible, manejo, de, el, crisis, que]</td>\n",
       "      <td>[sanción, terrible, manejo, crisis]</td>\n",
       "    </tr>\n",
       "  </tbody>\n",
       "</table>\n",
       "</div>"
      ],
      "text/plain": [
       "        Label  \\\n",
       "100  NEGATIVO   \n",
       "101    NEUTRO   \n",
       "102  NEGATIVO   \n",
       "103    NEUTRO   \n",
       "104    NEUTRO   \n",
       "105    NEUTRO   \n",
       "106    NEUTRO   \n",
       "107    NEUTRO   \n",
       "108  POSITIVO   \n",
       "109  NEGATIVO   \n",
       "\n",
       "                                                                                                                                lemtokenized_tweet  \\\n",
       "100                                                                                               [ese, hermano, negretir, uno, bola, de, vividor]   \n",
       "101                                                                                                                 [este, en, crisis, el, crisis]   \n",
       "102                  [uff, cara, triste, pero, aliviado, microbio, microbio, quedate, en, casa, casa, con, jardin, coahuila, mexico, caro, llorar]   \n",
       "103                                                                                                 [no, él, que, tanto, mamar, con, lady, vacuna]   \n",
       "104                                                                                                                                          [ojo]   \n",
       "105                                                                                                         [hoy, en, el, programa, versión, rara]   \n",
       "106                                                                    [hoy, participamos, nuevamente, para, el, programa, de, opinion, yo, creer]   \n",
       "107                                                                                                                                 [flexibilidad]   \n",
       "108  [dio, él, cuide, él, concedar, uno, pronto, recuperacion, que, cuidir, bendiga, aquel, que, aun, no, haber, presentar, sintoma, de, contagio]   \n",
       "109                                                                            [el, sanción, para, por, el, terrible, manejo, de, el, crisis, que]   \n",
       "\n",
       "                                                                                                     lemtoksw_tweet  \n",
       "100                                                                              [hermano, negretir, bola, vividor]  \n",
       "101                                                                                                [crisis, crisis]  \n",
       "102  [uff, cara, triste, aliviado, microbio, microbio, quedate, casa, casa, jardin, coahuila, mexico, caro, llorar]  \n",
       "103                                                                                           [mamar, lady, vacuna]  \n",
       "104                                                                                                           [ojo]  \n",
       "105                                                                                  [hoy, programa, versión, rara]  \n",
       "106                                                       [hoy, participamos, nuevamente, programa, opinion, creer]  \n",
       "107                                                                                                  [flexibilidad]  \n",
       "108  [dio, cuide, concedar, pronto, recuperacion, cuidir, bendiga, aquel, aun, haber, presentar, sintoma, contagio]  \n",
       "109                                                                             [sanción, terrible, manejo, crisis]  "
      ]
     },
     "execution_count": 59,
     "metadata": {},
     "output_type": "execute_result"
    }
   ],
   "source": [
    "from nltk.corpus import stopwords\n",
    "\n",
    "# Obtención de listado de stopwords del español\n",
    "stop_words_esp = list(stopwords.words('spanish'))\n",
    "\n",
    "def remove_stopwords(text):\n",
    "    text = [w for w in text if not w in stop_words_esp]\n",
    "    return text\n",
    "\n",
    "df['normsw_tweet'] = df['norm_tweet'].apply(remove_stopwords)\n",
    "df['lemsw_tweet'] = df['lem_tweet'].apply(remove_stopwords)\n",
    "df['normtoksw_tweet'] = df['tokenized_tweet'].apply(remove_stopwords)\n",
    "df['lemtoksw_tweet'] = df['lemtokenized_tweet'].apply(remove_stopwords)\n",
    "\n",
    "print(stop_words_esp[:100])\n",
    "df[['Label', 'lemtokenized_tweet', 'lemtoksw_tweet']][100:110]\n"
   ]
  },
  {
   "cell_type": "markdown",
   "metadata": {},
   "source": [
    "## Hastags frecuentes"
   ]
  },
  {
   "cell_type": "code",
   "execution_count": 204,
   "metadata": {},
   "outputs": [
    {
     "name": "stderr",
     "output_type": "stream",
     "text": [
      "/Library/Frameworks/Python.framework/Versions/3.10/lib/python3.10/site-packages/IPython/core/pylabtools.py:151: UserWarning: Glyph 12540 (\\N{KATAKANA-HIRAGANA PROLONGED SOUND MARK}) missing from current font.\n",
      "  fig.canvas.print_figure(bytes_io, **kw)\n"
     ]
    },
    {
     "data": {
      "image/png": "[encoded data removed]",
      "text/plain": [
       "<Figure size 2160x720 with 1 Axes>"
      ]
     },
     "metadata": {
      "needs_background": "light"
     },
     "output_type": "display_data"
    }
   ],
   "source": [
    "import seaborn as sns\n",
    "from itertools import chain\n",
    "\n",
    "def hashtag_extract(x):\n",
    "    hashtags = []    # Loop over the words in the tweet\n",
    "    for i in x:\n",
    "        ht = re.findall(r\"#(\\w+)\", i)\n",
    "        hashtags.append(ht)\n",
    "    return hashtags\n",
    "\n",
    "\n",
    "ht_positivo = hashtag_extract(df['Tweet'][df['Label'] == 'POSITIVO']) \n",
    "ht_negativo = hashtag_extract(df['Tweet'][df['Label'] == 'NEGATIVO']) \n",
    "ht_positivo = list(chain(*ht_positivo))\n",
    "ht_negativo = list(chain(*ht_negativo))    \n",
    "\n",
    "a = nltk.FreqDist(ht_negativo)\n",
    "d = pd.DataFrame( {'Ht': list(a.keys()), 'Count': list(a.values())}) \n",
    "\n",
    "d = d.nlargest(columns=\"Count\", n = 20)\n",
    "plt.figure(figsize=(30,10))\n",
    "ax = sns.barplot(data=d, x= \"Ht\", y = \"Count\")\n",
    "ax.set(ylabel = 'Count')\n",
    "plt.show()"
   ]
  },
  {
   "cell_type": "markdown",
   "metadata": {},
   "source": [
    "## Train-test sets"
   ]
  },
  {
   "cell_type": "code",
   "execution_count": 26,
   "metadata": {},
   "outputs": [],
   "source": [
    "from sklearn.model_selection import train_test_split\n",
    "\n",
    "X1 = df['norm_tweet']          #Tweets normalizados\n",
    "X2 = df['lem_tweet']           #Tweets lemmatizados\n",
    "X3 = df['tokenized_tweet']     #Normalizados y tokenizados\n",
    "X4 = df['lemtokenized_tweet']  #Lemmatizados y tokenizados \n",
    "X5 = df['normtoksw_tweet']     #Normalizados, tokenizados y sin stopwords\n",
    "X6 = df['lemtoksw_tweet']      #Lemmatizados, tokenizados y sin stopwords \n",
    "y = df['Label']                #Etiquetas\n",
    "\n",
    "X_train, X_test, y_train, y_test = train_test_split(X2, y, test_size=0.25 ,random_state=37)"
   ]
  },
  {
   "cell_type": "code",
   "execution_count": 241,
   "metadata": {},
   "outputs": [
    {
     "name": "stdout",
     "output_type": "stream",
     "text": [
      "{'NEGATIVO': 33.64296081277213, 'NEUTRO': 44.93468795355588, 'POSITIVO': 21.42235123367199}\n",
      "{'NEGATIVO': 34.89991296779809, 'NEUTRO': 44.38642297650131, 'POSITIVO': 20.713664055700608}\n"
     ]
    }
   ],
   "source": [
    "value, counts = np.unique(y_train, return_counts=True)\n",
    "print(dict(zip(value, 100 * counts / sum(counts))))\n",
    "value, counts = np.unique(y_test, return_counts=True)\n",
    "print(dict(zip(value, 100 * counts / sum(counts))))"
   ]
  },
  {
   "cell_type": "markdown",
   "metadata": {},
   "source": [
    "## Vectorizaciones"
   ]
  },
  {
   "cell_type": "markdown",
   "metadata": {},
   "source": [
    "### Tf-idf"
   ]
  },
  {
   "cell_type": "code",
   "execution_count": 89,
   "metadata": {},
   "outputs": [
    {
     "name": "stdout",
     "output_type": "stream",
     "text": [
      "Numero de features: 3629\n"
     ]
    },
    {
     "data": {
      "text/html": [
       "<style>#sk-container-id-38 {color: black;background-color: white;}#sk-container-id-38 pre{padding: 0;}#sk-container-id-38 div.sk-toggleable {background-color: white;}#sk-container-id-38 label.sk-toggleable__label {cursor: pointer;display: block;width: 100%;margin-bottom: 0;padding: 0.3em;box-sizing: border-box;text-align: center;}#sk-container-id-38 label.sk-toggleable__label-arrow:before {content: \"▸\";float: left;margin-right: 0.25em;color: #696969;}#sk-container-id-38 label.sk-toggleable__label-arrow:hover:before {color: black;}#sk-container-id-38 div.sk-estimator:hover label.sk-toggleable__label-arrow:before {color: black;}#sk-container-id-38 div.sk-toggleable__content {max-height: 0;max-width: 0;overflow: hidden;text-align: left;background-color: #f0f8ff;}#sk-container-id-38 div.sk-toggleable__content pre {margin: 0.2em;color: black;border-radius: 0.25em;background-color: #f0f8ff;}#sk-container-id-38 input.sk-toggleable__control:checked~div.sk-toggleable__content {max-height: 200px;max-width: 100%;overflow: auto;}#sk-container-id-38 input.sk-toggleable__control:checked~label.sk-toggleable__label-arrow:before {content: \"▾\";}#sk-container-id-38 div.sk-estimator input.sk-toggleable__control:checked~label.sk-toggleable__label {background-color: #d4ebff;}#sk-container-id-38 div.sk-label input.sk-toggleable__control:checked~label.sk-toggleable__label {background-color: #d4ebff;}#sk-container-id-38 input.sk-hidden--visually {border: 0;clip: rect(1px 1px 1px 1px);clip: rect(1px, 1px, 1px, 1px);height: 1px;margin: -1px;overflow: hidden;padding: 0;position: absolute;width: 1px;}#sk-container-id-38 div.sk-estimator {font-family: monospace;background-color: #f0f8ff;border: 1px dotted black;border-radius: 0.25em;box-sizing: border-box;margin-bottom: 0.5em;}#sk-container-id-38 div.sk-estimator:hover {background-color: #d4ebff;}#sk-container-id-38 div.sk-parallel-item::after {content: \"\";width: 100%;border-bottom: 1px solid gray;flex-grow: 1;}#sk-container-id-38 div.sk-label:hover label.sk-toggleable__label {background-color: #d4ebff;}#sk-container-id-38 div.sk-serial::before {content: \"\";position: absolute;border-left: 1px solid gray;box-sizing: border-box;top: 0;bottom: 0;left: 50%;z-index: 0;}#sk-container-id-38 div.sk-serial {display: flex;flex-direction: column;align-items: center;background-color: white;padding-right: 0.2em;padding-left: 0.2em;position: relative;}#sk-container-id-38 div.sk-item {position: relative;z-index: 1;}#sk-container-id-38 div.sk-parallel {display: flex;align-items: stretch;justify-content: center;background-color: white;position: relative;}#sk-container-id-38 div.sk-item::before, #sk-container-id-38 div.sk-parallel-item::before {content: \"\";position: absolute;border-left: 1px solid gray;box-sizing: border-box;top: 0;bottom: 0;left: 50%;z-index: -1;}#sk-container-id-38 div.sk-parallel-item {display: flex;flex-direction: column;z-index: 1;position: relative;background-color: white;}#sk-container-id-38 div.sk-parallel-item:first-child::after {align-self: flex-end;width: 50%;}#sk-container-id-38 div.sk-parallel-item:last-child::after {align-self: flex-start;width: 50%;}#sk-container-id-38 div.sk-parallel-item:only-child::after {width: 0;}#sk-container-id-38 div.sk-dashed-wrapped {border: 1px dashed gray;margin: 0 0.4em 0.5em 0.4em;box-sizing: border-box;padding-bottom: 0.4em;background-color: white;}#sk-container-id-38 div.sk-label label {font-family: monospace;font-weight: bold;display: inline-block;line-height: 1.2em;}#sk-container-id-38 div.sk-label-container {text-align: center;}#sk-container-id-38 div.sk-container {/* jupyter's `normalize.less` sets `[hidden] { display: none; }` but bootstrap.min.css set `[hidden] { display: none !important; }` so we also need the `!important` here to be able to override the default hidden behavior on the sphinx rendered scikit-learn.org. See: https://github.com/scikit-learn/scikit-learn/issues/21755 */display: inline-block !important;position: relative;}#sk-container-id-38 div.sk-text-repr-fallback {display: none;}</style><div id=\"sk-container-id-38\" class=\"sk-top-container\"><div class=\"sk-text-repr-fallback\"><pre>TfidfVectorizer(min_df=3, ngram_range=(1, 2),\n",
       "                stop_words=[&#x27;de&#x27;, &#x27;la&#x27;, &#x27;que&#x27;, &#x27;el&#x27;, &#x27;en&#x27;, &#x27;y&#x27;, &#x27;a&#x27;, &#x27;los&#x27;,\n",
       "                            &#x27;del&#x27;, &#x27;se&#x27;, &#x27;las&#x27;, &#x27;por&#x27;, &#x27;un&#x27;, &#x27;para&#x27;, &#x27;con&#x27;,\n",
       "                            &#x27;no&#x27;, &#x27;una&#x27;, &#x27;su&#x27;, &#x27;al&#x27;, &#x27;lo&#x27;, &#x27;como&#x27;, &#x27;más&#x27;,\n",
       "                            &#x27;pero&#x27;, &#x27;sus&#x27;, &#x27;le&#x27;, &#x27;ya&#x27;, &#x27;o&#x27;, &#x27;este&#x27;, &#x27;sí&#x27;,\n",
       "                            &#x27;porque&#x27;, ...])</pre><b>In a Jupyter environment, please rerun this cell to show the HTML representation or trust the notebook. <br />On GitHub, the HTML representation is unable to render, please try loading this page with nbviewer.org.</b></div><div class=\"sk-container\" hidden><div class=\"sk-item\"><div class=\"sk-estimator sk-toggleable\"><input class=\"sk-toggleable__control sk-hidden--visually\" id=\"sk-estimator-id-38\" type=\"checkbox\" checked><label for=\"sk-estimator-id-38\" class=\"sk-toggleable__label sk-toggleable__label-arrow\">TfidfVectorizer</label><div class=\"sk-toggleable__content\"><pre>TfidfVectorizer(min_df=3, ngram_range=(1, 2),\n",
       "                stop_words=[&#x27;de&#x27;, &#x27;la&#x27;, &#x27;que&#x27;, &#x27;el&#x27;, &#x27;en&#x27;, &#x27;y&#x27;, &#x27;a&#x27;, &#x27;los&#x27;,\n",
       "                            &#x27;del&#x27;, &#x27;se&#x27;, &#x27;las&#x27;, &#x27;por&#x27;, &#x27;un&#x27;, &#x27;para&#x27;, &#x27;con&#x27;,\n",
       "                            &#x27;no&#x27;, &#x27;una&#x27;, &#x27;su&#x27;, &#x27;al&#x27;, &#x27;lo&#x27;, &#x27;como&#x27;, &#x27;más&#x27;,\n",
       "                            &#x27;pero&#x27;, &#x27;sus&#x27;, &#x27;le&#x27;, &#x27;ya&#x27;, &#x27;o&#x27;, &#x27;este&#x27;, &#x27;sí&#x27;,\n",
       "                            &#x27;porque&#x27;, ...])</pre></div></div></div></div></div>"
      ],
      "text/plain": [
       "TfidfVectorizer(min_df=3, ngram_range=(1, 2),\n",
       "                stop_words=['de', 'la', 'que', 'el', 'en', 'y', 'a', 'los',\n",
       "                            'del', 'se', 'las', 'por', 'un', 'para', 'con',\n",
       "                            'no', 'una', 'su', 'al', 'lo', 'como', 'más',\n",
       "                            'pero', 'sus', 'le', 'ya', 'o', 'este', 'sí',\n",
       "                            'porque', ...])"
      ]
     },
     "execution_count": 89,
     "metadata": {},
     "output_type": "execute_result"
    }
   ],
   "source": [
    "from sklearn.feature_extraction.text import TfidfVectorizer\n",
    "\n",
    "tfidf= TfidfVectorizer(min_df=3, ngram_range=(1,2), stop_words = stop_words_esp).fit(X2)\n",
    "                        \n",
    "print('Numero de features: ' +str(len(tfidf.get_feature_names_out())))\n",
    "tfidf.fit(X_train)"
   ]
  },
  {
   "cell_type": "code",
   "execution_count": 90,
   "metadata": {},
   "outputs": [
    {
     "name": "stdout",
     "output_type": "stream",
     "text": [
      "smallest tfidf: ['buen lunes' 'app' 'inicio semana' 'inmediato' 'oms' 'periodico hoy'\n",
      " 'alto contagio' 'ganar seguidor' 'calidad' 'amlolujo']\n",
      "largest tfidf: ['financiero' 'muerte covid' 'lugar' 'movil' 'movilidad' 'dar positivo'\n",
      " 'lopez' 'muerte' 'cuidarte profesional' 'gracia']\n"
     ]
    }
   ],
   "source": [
    "feature_names = np.array(tfidf.get_feature_names_out())\n",
    "sorted_tfidf_index= X_train_tfidf.max(0).toarray()[0].argsort()\n",
    "\n",
    "print('smallest tfidf: {}'.format(feature_names[sorted_tfidf_index[:10]]))\n",
    "print('largest tfidf: {}'.format(feature_names[sorted_tfidf_index[:-11:-1]]))"
   ]
  },
  {
   "cell_type": "code",
   "execution_count": 87,
   "metadata": {},
   "outputs": [
    {
     "data": {
      "text/plain": [
       "<4594x1889 sparse matrix of type '<class 'numpy.float64'>'\n",
       "\twith 31592 stored elements in Compressed Sparse Row format>"
      ]
     },
     "execution_count": 87,
     "metadata": {},
     "output_type": "execute_result"
    }
   ],
   "source": [
    "X_train_tfidf = tfidf.transform(X2)\n",
    "X_test_tfidf  = tfidf.transform(X_test)\n",
    "X_train_tfidf "
   ]
  },
  {
   "cell_type": "markdown",
   "metadata": {},
   "source": [
    "### CountVectorizer"
   ]
  },
  {
   "cell_type": "code",
   "execution_count": null,
   "metadata": {},
   "outputs": [
    {
     "name": "stdout",
     "output_type": "stream",
     "text": [
      "Numero de features: 5812\n"
     ]
    },
    {
     "data": {
      "text/html": [
       "<style>#sk-container-id-32 {color: black;background-color: white;}#sk-container-id-32 pre{padding: 0;}#sk-container-id-32 div.sk-toggleable {background-color: white;}#sk-container-id-32 label.sk-toggleable__label {cursor: pointer;display: block;width: 100%;margin-bottom: 0;padding: 0.3em;box-sizing: border-box;text-align: center;}#sk-container-id-32 label.sk-toggleable__label-arrow:before {content: \"▸\";float: left;margin-right: 0.25em;color: #696969;}#sk-container-id-32 label.sk-toggleable__label-arrow:hover:before {color: black;}#sk-container-id-32 div.sk-estimator:hover label.sk-toggleable__label-arrow:before {color: black;}#sk-container-id-32 div.sk-toggleable__content {max-height: 0;max-width: 0;overflow: hidden;text-align: left;background-color: #f0f8ff;}#sk-container-id-32 div.sk-toggleable__content pre {margin: 0.2em;color: black;border-radius: 0.25em;background-color: #f0f8ff;}#sk-container-id-32 input.sk-toggleable__control:checked~div.sk-toggleable__content {max-height: 200px;max-width: 100%;overflow: auto;}#sk-container-id-32 input.sk-toggleable__control:checked~label.sk-toggleable__label-arrow:before {content: \"▾\";}#sk-container-id-32 div.sk-estimator input.sk-toggleable__control:checked~label.sk-toggleable__label {background-color: #d4ebff;}#sk-container-id-32 div.sk-label input.sk-toggleable__control:checked~label.sk-toggleable__label {background-color: #d4ebff;}#sk-container-id-32 input.sk-hidden--visually {border: 0;clip: rect(1px 1px 1px 1px);clip: rect(1px, 1px, 1px, 1px);height: 1px;margin: -1px;overflow: hidden;padding: 0;position: absolute;width: 1px;}#sk-container-id-32 div.sk-estimator {font-family: monospace;background-color: #f0f8ff;border: 1px dotted black;border-radius: 0.25em;box-sizing: border-box;margin-bottom: 0.5em;}#sk-container-id-32 div.sk-estimator:hover {background-color: #d4ebff;}#sk-container-id-32 div.sk-parallel-item::after {content: \"\";width: 100%;border-bottom: 1px solid gray;flex-grow: 1;}#sk-container-id-32 div.sk-label:hover label.sk-toggleable__label {background-color: #d4ebff;}#sk-container-id-32 div.sk-serial::before {content: \"\";position: absolute;border-left: 1px solid gray;box-sizing: border-box;top: 0;bottom: 0;left: 50%;z-index: 0;}#sk-container-id-32 div.sk-serial {display: flex;flex-direction: column;align-items: center;background-color: white;padding-right: 0.2em;padding-left: 0.2em;position: relative;}#sk-container-id-32 div.sk-item {position: relative;z-index: 1;}#sk-container-id-32 div.sk-parallel {display: flex;align-items: stretch;justify-content: center;background-color: white;position: relative;}#sk-container-id-32 div.sk-item::before, #sk-container-id-32 div.sk-parallel-item::before {content: \"\";position: absolute;border-left: 1px solid gray;box-sizing: border-box;top: 0;bottom: 0;left: 50%;z-index: -1;}#sk-container-id-32 div.sk-parallel-item {display: flex;flex-direction: column;z-index: 1;position: relative;background-color: white;}#sk-container-id-32 div.sk-parallel-item:first-child::after {align-self: flex-end;width: 50%;}#sk-container-id-32 div.sk-parallel-item:last-child::after {align-self: flex-start;width: 50%;}#sk-container-id-32 div.sk-parallel-item:only-child::after {width: 0;}#sk-container-id-32 div.sk-dashed-wrapped {border: 1px dashed gray;margin: 0 0.4em 0.5em 0.4em;box-sizing: border-box;padding-bottom: 0.4em;background-color: white;}#sk-container-id-32 div.sk-label label {font-family: monospace;font-weight: bold;display: inline-block;line-height: 1.2em;}#sk-container-id-32 div.sk-label-container {text-align: center;}#sk-container-id-32 div.sk-container {/* jupyter's `normalize.less` sets `[hidden] { display: none; }` but bootstrap.min.css set `[hidden] { display: none !important; }` so we also need the `!important` here to be able to override the default hidden behavior on the sphinx rendered scikit-learn.org. See: https://github.com/scikit-learn/scikit-learn/issues/21755 */display: inline-block !important;position: relative;}#sk-container-id-32 div.sk-text-repr-fallback {display: none;}</style><div id=\"sk-container-id-32\" class=\"sk-top-container\"><div class=\"sk-text-repr-fallback\"><pre>CountVectorizer(min_df=3, ngram_range=(1, 2))</pre><b>In a Jupyter environment, please rerun this cell to show the HTML representation or trust the notebook. <br />On GitHub, the HTML representation is unable to render, please try loading this page with nbviewer.org.</b></div><div class=\"sk-container\" hidden><div class=\"sk-item\"><div class=\"sk-estimator sk-toggleable\"><input class=\"sk-toggleable__control sk-hidden--visually\" id=\"sk-estimator-id-32\" type=\"checkbox\" checked><label for=\"sk-estimator-id-32\" class=\"sk-toggleable__label sk-toggleable__label-arrow\">CountVectorizer</label><div class=\"sk-toggleable__content\"><pre>CountVectorizer(min_df=3, ngram_range=(1, 2))</pre></div></div></div></div></div>"
      ],
      "text/plain": [
       "CountVectorizer(min_df=3, ngram_range=(1, 2))"
      ]
     },
     "execution_count": 58,
     "metadata": {},
     "output_type": "execute_result"
    }
   ],
   "source": [
    "from sklearn.feature_extraction.text import CountVectorizer\n",
    "\n",
    "countvect = CountVectorizer(min_df=3, ngram_range=(1,2), stop_words = stop_words_esp).fit(X2)\n",
    "\n",
    "print('Numero de features: ' +str(len(countvect.get_feature_names_out())))\n",
    "countvect.fit(X_train)"
   ]
  },
  {
   "cell_type": "code",
   "execution_count": null,
   "metadata": {},
   "outputs": [
    {
     "data": {
      "text/plain": [
       "<3445x5078 sparse matrix of type '<class 'numpy.int64'>'\n",
       "\twith 34810 stored elements in Compressed Sparse Row format>"
      ]
     },
     "execution_count": 209,
     "metadata": {},
     "output_type": "execute_result"
    }
   ],
   "source": [
    "X_train_cv = countvect.transform(X_train)\n",
    "X_test_cv  = countvect.transform(X_test)\n",
    "X_train_cv"
   ]
  },
  {
   "cell_type": "markdown",
   "metadata": {},
   "source": [
    "### Word Embedding"
   ]
  },
  {
   "cell_type": "code",
   "execution_count": null,
   "metadata": {},
   "outputs": [],
   "source": [
    "from gensim.models import Word2Vec, KeyedVectors\n",
    "from gensim.models import FastText\n",
    "\n",
    "wordvectors_file = 'data/wiki.es.vec'\n",
    "wordvectors = KeyedVectors.load_word2vec_format(wordvectors_file, limit=600000)\n",
    "\n",
    "#embedding=200\n",
    "#w2v = Word2Vec(X6, min_count=3, vector_size=embedding, window=5, sg=1 )\n",
    "#w2v.train(X6, total_examples= len(df['lem_tweet']), epochs=20)\n",
    "\n",
    "#wordvectors.most_similar('pozole')"
   ]
  },
  {
   "cell_type": "code",
   "execution_count": null,
   "metadata": {},
   "outputs": [
    {
     "data": {
      "text/html": [
       "<div>\n",
       "<style scoped>\n",
       "    .dataframe tbody tr th:only-of-type {\n",
       "        vertical-align: middle;\n",
       "    }\n",
       "\n",
       "    .dataframe tbody tr th {\n",
       "        vertical-align: top;\n",
       "    }\n",
       "\n",
       "    .dataframe thead th {\n",
       "        text-align: right;\n",
       "    }\n",
       "</style>\n",
       "<table border=\"1\" class=\"dataframe\">\n",
       "  <thead>\n",
       "    <tr style=\"text-align: right;\">\n",
       "      <th></th>\n",
       "      <th>0</th>\n",
       "      <th>1</th>\n",
       "      <th>2</th>\n",
       "      <th>3</th>\n",
       "      <th>4</th>\n",
       "      <th>5</th>\n",
       "      <th>6</th>\n",
       "      <th>7</th>\n",
       "      <th>8</th>\n",
       "      <th>9</th>\n",
       "      <th>...</th>\n",
       "      <th>290</th>\n",
       "      <th>291</th>\n",
       "      <th>292</th>\n",
       "      <th>293</th>\n",
       "      <th>294</th>\n",
       "      <th>295</th>\n",
       "      <th>296</th>\n",
       "      <th>297</th>\n",
       "      <th>298</th>\n",
       "      <th>299</th>\n",
       "    </tr>\n",
       "  </thead>\n",
       "  <tbody>\n",
       "    <tr>\n",
       "      <th>0</th>\n",
       "      <td>-0.199650</td>\n",
       "      <td>0.146120</td>\n",
       "      <td>-0.397610</td>\n",
       "      <td>-0.134060</td>\n",
       "      <td>-0.124030</td>\n",
       "      <td>0.043285</td>\n",
       "      <td>-0.540940</td>\n",
       "      <td>-0.408670</td>\n",
       "      <td>-0.270940</td>\n",
       "      <td>-0.284350</td>\n",
       "      <td>...</td>\n",
       "      <td>-0.167110</td>\n",
       "      <td>-0.183540</td>\n",
       "      <td>0.160220</td>\n",
       "      <td>-0.284470</td>\n",
       "      <td>-0.358530</td>\n",
       "      <td>-0.036859</td>\n",
       "      <td>-0.191910</td>\n",
       "      <td>0.209960</td>\n",
       "      <td>-0.025340</td>\n",
       "      <td>-0.049462</td>\n",
       "    </tr>\n",
       "    <tr>\n",
       "      <th>1</th>\n",
       "      <td>-0.142475</td>\n",
       "      <td>-0.085206</td>\n",
       "      <td>-0.050855</td>\n",
       "      <td>0.082698</td>\n",
       "      <td>0.067600</td>\n",
       "      <td>0.183996</td>\n",
       "      <td>-0.138616</td>\n",
       "      <td>-0.222747</td>\n",
       "      <td>0.000170</td>\n",
       "      <td>-0.229493</td>\n",
       "      <td>...</td>\n",
       "      <td>-0.227170</td>\n",
       "      <td>-0.181665</td>\n",
       "      <td>0.219462</td>\n",
       "      <td>-0.367688</td>\n",
       "      <td>-0.546457</td>\n",
       "      <td>-0.392620</td>\n",
       "      <td>-0.231044</td>\n",
       "      <td>0.035569</td>\n",
       "      <td>0.294788</td>\n",
       "      <td>0.045607</td>\n",
       "    </tr>\n",
       "    <tr>\n",
       "      <th>2</th>\n",
       "      <td>-0.131046</td>\n",
       "      <td>-0.119666</td>\n",
       "      <td>0.052167</td>\n",
       "      <td>-0.075688</td>\n",
       "      <td>-0.113871</td>\n",
       "      <td>0.055189</td>\n",
       "      <td>-0.079611</td>\n",
       "      <td>0.109801</td>\n",
       "      <td>-0.029892</td>\n",
       "      <td>-0.119357</td>\n",
       "      <td>...</td>\n",
       "      <td>-0.039405</td>\n",
       "      <td>-0.133616</td>\n",
       "      <td>0.072189</td>\n",
       "      <td>-0.077564</td>\n",
       "      <td>-0.345878</td>\n",
       "      <td>-0.107051</td>\n",
       "      <td>-0.123686</td>\n",
       "      <td>-0.082093</td>\n",
       "      <td>0.119210</td>\n",
       "      <td>0.017394</td>\n",
       "    </tr>\n",
       "    <tr>\n",
       "      <th>3</th>\n",
       "      <td>-0.299046</td>\n",
       "      <td>-0.191633</td>\n",
       "      <td>0.253063</td>\n",
       "      <td>-0.214180</td>\n",
       "      <td>-0.026059</td>\n",
       "      <td>0.158802</td>\n",
       "      <td>0.088487</td>\n",
       "      <td>-0.136892</td>\n",
       "      <td>0.091283</td>\n",
       "      <td>-0.172194</td>\n",
       "      <td>...</td>\n",
       "      <td>0.207801</td>\n",
       "      <td>-0.214163</td>\n",
       "      <td>0.085227</td>\n",
       "      <td>0.156068</td>\n",
       "      <td>-0.591670</td>\n",
       "      <td>-0.146331</td>\n",
       "      <td>-0.399453</td>\n",
       "      <td>-0.028873</td>\n",
       "      <td>0.083240</td>\n",
       "      <td>-0.056193</td>\n",
       "    </tr>\n",
       "    <tr>\n",
       "      <th>4</th>\n",
       "      <td>0.146360</td>\n",
       "      <td>-0.168850</td>\n",
       "      <td>-0.056031</td>\n",
       "      <td>0.271720</td>\n",
       "      <td>0.250750</td>\n",
       "      <td>-0.035431</td>\n",
       "      <td>0.227980</td>\n",
       "      <td>-0.351770</td>\n",
       "      <td>0.027346</td>\n",
       "      <td>0.134620</td>\n",
       "      <td>...</td>\n",
       "      <td>-0.219130</td>\n",
       "      <td>-0.038307</td>\n",
       "      <td>-0.320240</td>\n",
       "      <td>-0.011023</td>\n",
       "      <td>-0.467790</td>\n",
       "      <td>-0.301260</td>\n",
       "      <td>-0.250900</td>\n",
       "      <td>0.074294</td>\n",
       "      <td>0.272100</td>\n",
       "      <td>0.165880</td>\n",
       "    </tr>\n",
       "    <tr>\n",
       "      <th>...</th>\n",
       "      <td>...</td>\n",
       "      <td>...</td>\n",
       "      <td>...</td>\n",
       "      <td>...</td>\n",
       "      <td>...</td>\n",
       "      <td>...</td>\n",
       "      <td>...</td>\n",
       "      <td>...</td>\n",
       "      <td>...</td>\n",
       "      <td>...</td>\n",
       "      <td>...</td>\n",
       "      <td>...</td>\n",
       "      <td>...</td>\n",
       "      <td>...</td>\n",
       "      <td>...</td>\n",
       "      <td>...</td>\n",
       "      <td>...</td>\n",
       "      <td>...</td>\n",
       "      <td>...</td>\n",
       "      <td>...</td>\n",
       "      <td>...</td>\n",
       "    </tr>\n",
       "    <tr>\n",
       "      <th>4589</th>\n",
       "      <td>-0.141318</td>\n",
       "      <td>-0.086340</td>\n",
       "      <td>-0.032988</td>\n",
       "      <td>-0.113929</td>\n",
       "      <td>-0.044326</td>\n",
       "      <td>-0.077627</td>\n",
       "      <td>-0.133587</td>\n",
       "      <td>0.006850</td>\n",
       "      <td>0.002785</td>\n",
       "      <td>-0.114851</td>\n",
       "      <td>...</td>\n",
       "      <td>0.072404</td>\n",
       "      <td>-0.041523</td>\n",
       "      <td>0.176587</td>\n",
       "      <td>-0.091940</td>\n",
       "      <td>-0.439057</td>\n",
       "      <td>-0.203643</td>\n",
       "      <td>-0.269778</td>\n",
       "      <td>-0.098308</td>\n",
       "      <td>0.063625</td>\n",
       "      <td>0.066887</td>\n",
       "    </tr>\n",
       "    <tr>\n",
       "      <th>4590</th>\n",
       "      <td>-0.100010</td>\n",
       "      <td>-0.122477</td>\n",
       "      <td>0.046185</td>\n",
       "      <td>-0.156757</td>\n",
       "      <td>0.080696</td>\n",
       "      <td>0.110449</td>\n",
       "      <td>0.013325</td>\n",
       "      <td>0.218701</td>\n",
       "      <td>-0.066374</td>\n",
       "      <td>-0.290542</td>\n",
       "      <td>...</td>\n",
       "      <td>0.138265</td>\n",
       "      <td>0.007051</td>\n",
       "      <td>0.064581</td>\n",
       "      <td>-0.071415</td>\n",
       "      <td>-0.374027</td>\n",
       "      <td>0.043926</td>\n",
       "      <td>-0.171304</td>\n",
       "      <td>0.058039</td>\n",
       "      <td>0.087208</td>\n",
       "      <td>0.005246</td>\n",
       "    </tr>\n",
       "    <tr>\n",
       "      <th>4591</th>\n",
       "      <td>-0.166104</td>\n",
       "      <td>-0.167094</td>\n",
       "      <td>-0.068781</td>\n",
       "      <td>-0.087213</td>\n",
       "      <td>0.011695</td>\n",
       "      <td>0.013015</td>\n",
       "      <td>-0.162700</td>\n",
       "      <td>-0.041467</td>\n",
       "      <td>0.053745</td>\n",
       "      <td>-0.125015</td>\n",
       "      <td>...</td>\n",
       "      <td>-0.147699</td>\n",
       "      <td>-0.129134</td>\n",
       "      <td>0.053048</td>\n",
       "      <td>-0.056272</td>\n",
       "      <td>-0.439437</td>\n",
       "      <td>-0.150708</td>\n",
       "      <td>-0.162047</td>\n",
       "      <td>-0.017900</td>\n",
       "      <td>0.173029</td>\n",
       "      <td>0.002070</td>\n",
       "    </tr>\n",
       "    <tr>\n",
       "      <th>4592</th>\n",
       "      <td>-0.042201</td>\n",
       "      <td>-0.023073</td>\n",
       "      <td>-0.098283</td>\n",
       "      <td>-0.158680</td>\n",
       "      <td>-0.018651</td>\n",
       "      <td>0.114612</td>\n",
       "      <td>-0.006874</td>\n",
       "      <td>0.109499</td>\n",
       "      <td>-0.114346</td>\n",
       "      <td>-0.213025</td>\n",
       "      <td>...</td>\n",
       "      <td>-0.011148</td>\n",
       "      <td>-0.018566</td>\n",
       "      <td>0.191011</td>\n",
       "      <td>0.114785</td>\n",
       "      <td>-0.326523</td>\n",
       "      <td>-0.036063</td>\n",
       "      <td>-0.224028</td>\n",
       "      <td>-0.093913</td>\n",
       "      <td>0.052558</td>\n",
       "      <td>-0.040599</td>\n",
       "    </tr>\n",
       "    <tr>\n",
       "      <th>4593</th>\n",
       "      <td>-0.145947</td>\n",
       "      <td>-0.021760</td>\n",
       "      <td>-0.096319</td>\n",
       "      <td>-0.114589</td>\n",
       "      <td>-0.013794</td>\n",
       "      <td>0.130433</td>\n",
       "      <td>-0.066725</td>\n",
       "      <td>0.090330</td>\n",
       "      <td>0.068144</td>\n",
       "      <td>-0.152743</td>\n",
       "      <td>...</td>\n",
       "      <td>-0.042495</td>\n",
       "      <td>-0.105406</td>\n",
       "      <td>-0.019042</td>\n",
       "      <td>-0.082291</td>\n",
       "      <td>-0.383066</td>\n",
       "      <td>-0.113339</td>\n",
       "      <td>-0.121748</td>\n",
       "      <td>0.031800</td>\n",
       "      <td>0.003800</td>\n",
       "      <td>0.020079</td>\n",
       "    </tr>\n",
       "  </tbody>\n",
       "</table>\n",
       "<p>4594 rows × 300 columns</p>\n",
       "</div>"
      ],
      "text/plain": [
       "           0         1         2         3         4         5         6    \\\n",
       "0    -0.199650  0.146120 -0.397610 -0.134060 -0.124030  0.043285 -0.540940   \n",
       "1    -0.142475 -0.085206 -0.050855  0.082698  0.067600  0.183996 -0.138616   \n",
       "2    -0.131046 -0.119666  0.052167 -0.075688 -0.113871  0.055189 -0.079611   \n",
       "3    -0.299046 -0.191633  0.253063 -0.214180 -0.026059  0.158802  0.088487   \n",
       "4     0.146360 -0.168850 -0.056031  0.271720  0.250750 -0.035431  0.227980   \n",
       "...        ...       ...       ...       ...       ...       ...       ...   \n",
       "4589 -0.141318 -0.086340 -0.032988 -0.113929 -0.044326 -0.077627 -0.133587   \n",
       "4590 -0.100010 -0.122477  0.046185 -0.156757  0.080696  0.110449  0.013325   \n",
       "4591 -0.166104 -0.167094 -0.068781 -0.087213  0.011695  0.013015 -0.162700   \n",
       "4592 -0.042201 -0.023073 -0.098283 -0.158680 -0.018651  0.114612 -0.006874   \n",
       "4593 -0.145947 -0.021760 -0.096319 -0.114589 -0.013794  0.130433 -0.066725   \n",
       "\n",
       "           7         8         9    ...       290       291       292  \\\n",
       "0    -0.408670 -0.270940 -0.284350  ... -0.167110 -0.183540  0.160220   \n",
       "1    -0.222747  0.000170 -0.229493  ... -0.227170 -0.181665  0.219462   \n",
       "2     0.109801 -0.029892 -0.119357  ... -0.039405 -0.133616  0.072189   \n",
       "3    -0.136892  0.091283 -0.172194  ...  0.207801 -0.214163  0.085227   \n",
       "4    -0.351770  0.027346  0.134620  ... -0.219130 -0.038307 -0.320240   \n",
       "...        ...       ...       ...  ...       ...       ...       ...   \n",
       "4589  0.006850  0.002785 -0.114851  ...  0.072404 -0.041523  0.176587   \n",
       "4590  0.218701 -0.066374 -0.290542  ...  0.138265  0.007051  0.064581   \n",
       "4591 -0.041467  0.053745 -0.125015  ... -0.147699 -0.129134  0.053048   \n",
       "4592  0.109499 -0.114346 -0.213025  ... -0.011148 -0.018566  0.191011   \n",
       "4593  0.090330  0.068144 -0.152743  ... -0.042495 -0.105406 -0.019042   \n",
       "\n",
       "           293       294       295       296       297       298       299  \n",
       "0    -0.284470 -0.358530 -0.036859 -0.191910  0.209960 -0.025340 -0.049462  \n",
       "1    -0.367688 -0.546457 -0.392620 -0.231044  0.035569  0.294788  0.045607  \n",
       "2    -0.077564 -0.345878 -0.107051 -0.123686 -0.082093  0.119210  0.017394  \n",
       "3     0.156068 -0.591670 -0.146331 -0.399453 -0.028873  0.083240 -0.056193  \n",
       "4    -0.011023 -0.467790 -0.301260 -0.250900  0.074294  0.272100  0.165880  \n",
       "...        ...       ...       ...       ...       ...       ...       ...  \n",
       "4589 -0.091940 -0.439057 -0.203643 -0.269778 -0.098308  0.063625  0.066887  \n",
       "4590 -0.071415 -0.374027  0.043926 -0.171304  0.058039  0.087208  0.005246  \n",
       "4591 -0.056272 -0.439437 -0.150708 -0.162047 -0.017900  0.173029  0.002070  \n",
       "4592  0.114785 -0.326523 -0.036063 -0.224028 -0.093913  0.052558 -0.040599  \n",
       "4593 -0.082291 -0.383066 -0.113339 -0.121748  0.031800  0.003800  0.020079  \n",
       "\n",
       "[4594 rows x 300 columns]"
      ]
     },
     "execution_count": 316,
     "metadata": {},
     "output_type": "execute_result"
    }
   ],
   "source": [
    "def word_vector(tokens, size):\n",
    "    vec = np.zeros(size).reshape((1, size))\n",
    "    count = 0\n",
    "    for word in tokens:\n",
    "        try:\n",
    "            vec += wordvectors[word].reshape((1, size))\n",
    "            count += 1.\n",
    "        except KeyError:  \n",
    "            continue\n",
    "    if count != 0:\n",
    "        vec /= count\n",
    "    return vec\n",
    "\n",
    "wordvec_arrays = np.zeros((len(X6), 300)) \n",
    "for i in range(len(X6)):\n",
    "    wordvec_arrays[i,:] = word_vector(X6[i], 300)\n",
    "    \n",
    "X_w2v = pd.DataFrame(wordvec_arrays)\n",
    "X_w2v"
   ]
  },
  {
   "cell_type": "markdown",
   "metadata": {},
   "source": [
    "### Vocabulario"
   ]
  },
  {
   "cell_type": "code",
   "execution_count": null,
   "metadata": {},
   "outputs": [
    {
     "name": "stdout",
     "output_type": "stream",
     "text": [
      " Número de tokens creados: 5078\n"
     ]
    },
    {
     "data": {
      "text/plain": [
       "array(['aa', 'abajo', 'abajo car', ..., 'zona', 'zona marginado', 'zoom'],\n",
       "      dtype=object)"
      ]
     },
     "execution_count": 211,
     "metadata": {},
     "output_type": "execute_result"
    }
   ],
   "source": [
    "# vocabulario CountVectorizer:\n",
    "print(f\" Número de tokens creados: {len(countvect.get_feature_names_out())}\")\n",
    "countvect.get_feature_names_out()\n",
    "\n",
    "# vocabuilario TFIDF:\n",
    "#print(f\" Número de tokens creados: {len(tfidf.get_feature_names_out())}\")\n",
    "#tfidf.get_feature_names()"
   ]
  },
  {
   "cell_type": "markdown",
   "metadata": {},
   "source": [
    "## Regresión Logistica"
   ]
  },
  {
   "cell_type": "code",
   "execution_count": null,
   "metadata": {},
   "outputs": [],
   "source": [
    "from sklearn.linear_model import LogisticRegression\n",
    "\n",
    "value, counts = np.unique(y_test, return_counts=True)\n",
    "pesos=dict(zip(value, 100 * counts / sum(counts))) # Proporcion de cada clase en el corpus\n",
    "\n",
    "lr = LogisticRegression(C=0.5, solver='lbfgs', penalty='l2', class_weight=None, multi_class='ovr', random_state=2, max_iter=1000)\n",
    "lr.fit(X_train_cv, y_train)\n",
    "\n",
    "predic_lr = lr.predict(X_test_cv)\n",
    "probas_lr = lr.predict_proba(X_test_cv)\n",
    "scores_lr = lr.decision_function(X_test_cv)"
   ]
  },
  {
   "cell_type": "code",
   "execution_count": null,
   "metadata": {},
   "outputs": [],
   "source": [
    "pos_prob = probas_lr[:,2]\n",
    "neu_prob = probas_lr[:,1]\n",
    "neg_prob = probas_lr[:,0]\n",
    "\n",
    "y_predict_pos = ['POSITIVO' if prob > 0.4  else predic_lr for prob in pos_prob]\n",
    "y_predict_neg = ['NEGATIVO' if prob > 0.4  else predic_lr for prob in neg_prob]"
   ]
  },
  {
   "cell_type": "code",
   "execution_count": null,
   "metadata": {},
   "outputs": [
    {
     "name": "stdout",
     "output_type": "stream",
     "text": [
      "Score train set:0.8664731494920174\n",
      "Score test set:0.6275021758050479\n",
      "['NEGATIVO' 'NEUTRO' 'POSITIVO']\n"
     ]
    }
   ],
   "source": [
    "print('Score train set:' + str(lr.score(X_train_cv, y_train)))\n",
    "print('Score test set:' + str(lr.score(X_test_cv, y_test)))\n",
    "print(lr.classes_)\n",
    "\n",
    "score_list = list(zip(y_test[0:5],scores_lr[0:5]))\n",
    "proba_list = list(zip(y_test[0:5],probas_lr[0:5]))"
   ]
  },
  {
   "cell_type": "code",
   "execution_count": null,
   "metadata": {},
   "outputs": [
    {
     "name": "stdout",
     "output_type": "stream",
     "text": [
      "     0    1   2\n",
      "0  232  154  15\n",
      "1   67  398  45\n",
      "2   43  104  91\n"
     ]
    },
    {
     "data": {
      "image/png": "[encoded data removed]",
      "text/plain": [
       "<Figure size 432x288 with 2 Axes>"
      ]
     },
     "metadata": {
      "needs_background": "light"
     },
     "output_type": "display_data"
    },
    {
     "data": {
      "text/plain": [
       "<Figure size 720x360 with 0 Axes>"
      ]
     },
     "metadata": {},
     "output_type": "display_data"
    }
   ],
   "source": [
    "from sklearn.metrics import confusion_matrix\n",
    "import matplotlib.pyplot as plt\n",
    "import seaborn as sns\n",
    "\n",
    "df_matrix = pd.DataFrame(confusion_matrix(y_test, predic_lr))\n",
    "print(df_matrix)\n",
    "sns.heatmap(df_matrix, annot=True, vmin=1, vmax=400)\n",
    "plt.figure(figsize=(10,5))\n",
    "plt.show()"
   ]
  },
  {
   "cell_type": "code",
   "execution_count": null,
   "metadata": {},
   "outputs": [
    {
     "name": "stdout",
     "output_type": "stream",
     "text": [
      "0.7748836399486873\n"
     ]
    }
   ],
   "source": [
    "from sklearn.metrics import roc_auc_score, roc_curve\n",
    "\n",
    "lr_auc = roc_auc_score(y_test, probas_lr, multi_class = 'ovr')\n",
    "print(lr_auc)"
   ]
  },
  {
   "cell_type": "code",
   "execution_count": null,
   "metadata": {},
   "outputs": [
    {
     "name": "stdout",
     "output_type": "stream",
     "text": [
      "Accuracy: 0.6275021758050479\n",
      "Precision: 0.630874314270097\n",
      "Recall: 0.6275021758050479\n",
      "f1-score: 0.6178759457349603\n"
     ]
    }
   ],
   "source": [
    "from sklearn.metrics import accuracy_score, precision_score, recall_score, f1_score\n",
    "\n",
    "print('Accuracy: ' + str(accuracy_score(y_test, predic_lr)))\n",
    "print('Precision: ' + str(precision_score(y_test, predic_lr, average='weighted')))\n",
    "print('Recall: ' + str(recall_score(y_test, predic_lr, average='weighted')))\n",
    "print('f1-score: ' + str(f1_score(y_test, predic_lr, average='weighted')))"
   ]
  },
  {
   "cell_type": "code",
   "execution_count": null,
   "metadata": {},
   "outputs": [
    {
     "name": "stdout",
     "output_type": "stream",
     "text": [
      "              precision    recall  f1-score   support\n",
      "\n",
      "    NEGATIVO       0.68      0.58      0.62       401\n",
      "      NEUTRO       0.61      0.78      0.68       510\n",
      "    POSITIVO       0.60      0.38      0.47       238\n",
      "\n",
      "    accuracy                           0.63      1149\n",
      "   macro avg       0.63      0.58      0.59      1149\n",
      "weighted avg       0.63      0.63      0.62      1149\n",
      "\n"
     ]
    }
   ],
   "source": [
    "from sklearn.metrics import classification_report\n",
    "\n",
    "new = np.asarray(y_test)\n",
    "print(classification_report(y_test, predic_lr))"
   ]
  },
  {
   "cell_type": "markdown",
   "metadata": {},
   "source": [
    "## Validacion cruzada"
   ]
  },
  {
   "cell_type": "code",
   "execution_count": null,
   "metadata": {},
   "outputs": [
    {
     "name": "stdout",
     "output_type": "stream",
     "text": [
      "0.6251509054325955\n",
      "0.7605633802816901 0.5070422535211268\n"
     ]
    }
   ],
   "source": [
    "from sklearn import model_selection\n",
    "from sklearn.model_selection import cross_val_score, validation_curve\n",
    "\n",
    "#tfidf2 = TfidfVectorizer(min_df=3, stop_words = stop_words_esp, ngram_range=(1,2)).fit(X2)\n",
    "#X_tfidf = tfidf2.transform(X2)\n",
    "#lr.fit(X_tfidf, y)\n",
    "\n",
    "countvect2 = CountVectorizer(min_df=2, stop_words = stop_words_esp, ngram_range=(1,2)).fit(X2)\n",
    "X_cv = countvect2.transform(X2)\n",
    "lr.fit(X_cv,y)\n",
    "\n",
    "#lr.fit(X_w2v,y)\n",
    "\n",
    "cv_scores = cross_val_score(lr,X_cv,y, cv=65)\n",
    "#predicted_labels = model_selection.cross_val_predict(lr,X_tfidf, y, cv = 10)\n",
    "\n",
    "print(cv_scores.mean())\n",
    "print(float(cv_scores.max()),float(cv_scores.min()))"
   ]
  },
  {
   "cell_type": "markdown",
   "metadata": {},
   "source": [
    "## Optimizacion de Hyperparametros"
   ]
  },
  {
   "cell_type": "markdown",
   "metadata": {},
   "source": [
    "### GridSearch"
   ]
  },
  {
   "cell_type": "code",
   "execution_count": null,
   "metadata": {},
   "outputs": [],
   "source": [
    "from sklearn.model_selection import GridSearchCV\n",
    "from sklearn.model_selection import RepeatedStratifiedKFold\n",
    "\n",
    "cv = RepeatedStratifiedKFold(n_splits=10, n_repeats=3, random_state=37)\n",
    "space = dict()\n",
    "space['solver'] = ['newton-cg', 'lbfgs', 'liblinear']\n",
    "space['penalty'] = ['none', 'l1', 'l2', 'elasticnet']\n",
    "space['C'] = [1e-5, 1e-4, 1e-3, 1e-2, 1e-1, 1, 10, 100]\n",
    "\n",
    "search_g = GridSearchCV(lr, space, cv=cv, scoring='accuracy', n_jobs=-1)\n",
    "result1 = search_g.fit(X_train_cv, y_train)\n"
   ]
  },
  {
   "cell_type": "markdown",
   "metadata": {},
   "source": [
    "### Random Search"
   ]
  },
  {
   "cell_type": "code",
   "execution_count": null,
   "metadata": {},
   "outputs": [],
   "source": [
    "from sklearn.model_selection import RandomizedSearchCV\n",
    "from scipy.stats import loguniform\n",
    "\n",
    "cv = RepeatedStratifiedKFold(n_splits=10, n_repeats=3, random_state=37)\n",
    "space = dict()\n",
    "space['solver'] = ['newton-cg', 'lbfgs', 'liblinear']\n",
    "space['penalty'] = ['none', 'l1', 'l2', 'elasticnet']\n",
    "space['C'] = loguniform(1e-5, 100)\n",
    "\n",
    "search = RandomizedSearchCV(lr, space, n_iter=100, scoring='accuracy', n_jobs=-1, cv=cv, random_state=1)\n",
    "result = search.fit(X_train_cv, y_train)\n"
   ]
  }
 ],
 "metadata": {
  "kernelspec": {
   "display_name": "Python 3.7.1 64-bit ('anaconda3')",
   "language": "python",
   "name": "python3"
  },
  "language_info": {
   "codemirror_mode": {
    "name": "ipython",
    "version": 3
   },
   "file_extension": ".py",
   "mimetype": "text/x-python",
   "name": "python",
   "nbconvert_exporter": "python",
   "pygments_lexer": "ipython3",
   "version": "3.7.1"
  },
  "orig_nbformat": 4,
  "vscode": {
   "interpreter": {
    "hash": "398dc28c06ad810e77de546bbdfa897a6ee0b83e59a5207339dda01a7843e01d"
   }
  }
 },
 "nbformat": 4,
 "nbformat_minor": 2
}
